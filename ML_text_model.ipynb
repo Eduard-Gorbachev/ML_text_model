{
 "cells": [
  {
   "cell_type": "markdown",
   "metadata": {
    "toc": true
   },
   "source": [
    "<h1>Содержание<span class=\"tocSkip\"></span></h1>\n",
    "<div class=\"toc\"><ul class=\"toc-item\"><li><span><a href=\"#Подготовка\" data-toc-modified-id=\"Подготовка-1\"><span class=\"toc-item-num\">1&nbsp;&nbsp;</span>Подготовка</a></span></li><li><span><a href=\"#Обучение\" data-toc-modified-id=\"Обучение-2\"><span class=\"toc-item-num\">2&nbsp;&nbsp;</span>Обучение</a></span><ul class=\"toc-item\"><li><span><a href=\"#С-помощью-OptunaSearchCV-и-Pipeline-подберем-гиперпараметры-для-моделей-и-векторизации:\" data-toc-modified-id=\"С-помощью-OptunaSearchCV-и-Pipeline-подберем-гиперпараметры-для-моделей-и-векторизации:-2.1\"><span class=\"toc-item-num\">2.1&nbsp;&nbsp;</span>С помощью <code>OptunaSearchCV</code> и <code>Pipeline</code> подберем гиперпараметры для моделей и векторизации:</a></span></li><li><span><a href=\"#Проверим-лучшую-модель-на-тестовых-данных\" data-toc-modified-id=\"Проверим-лучшую-модель-на-тестовых-данных-2.2\"><span class=\"toc-item-num\">2.2&nbsp;&nbsp;</span>Проверим лучшую модель на тестовых данных</a></span></li></ul></li><li><span><a href=\"#Выводы\" data-toc-modified-id=\"Выводы-3\"><span class=\"toc-item-num\">3&nbsp;&nbsp;</span>Выводы</a></span></li><li><span><a href=\"#Чек-лист-проверки\" data-toc-modified-id=\"Чек-лист-проверки-4\"><span class=\"toc-item-num\">4&nbsp;&nbsp;</span>Чек-лист проверки</a></span></li></ul></div>"
   ]
  },
  {
   "cell_type": "markdown",
   "metadata": {},
   "source": [
    "# Проект для «Викишоп»"
   ]
  },
  {
   "cell_type": "markdown",
   "metadata": {},
   "source": [
    "Интернет-магазин «Викишоп» запускает новый сервис. Теперь пользователи могут редактировать и дополнять описания товаров, как в вики-сообществах. То есть клиенты предлагают свои правки и комментируют изменения других. Магазину нужен инструмент, который будет искать токсичные комментарии и отправлять их на модерацию. \n",
    "\n",
    "Обучите модель классифицировать комментарии на позитивные и негативные. В вашем распоряжении набор данных с разметкой о токсичности правок.\n",
    "\n",
    "Постройте модель со значением метрики качества *F1* не меньше 0.75. \n",
    "\n",
    "**Инструкция по выполнению проекта**\n",
    "\n",
    "1. Загрузите и подготовьте данные.\n",
    "2. Обучите разные модели. \n",
    "3. Сделайте выводы.\n",
    "\n",
    "Для выполнения проекта применять *BERT* необязательно, но вы можете попробовать.\n",
    "\n",
    "**Описание данных**\n",
    "\n",
    "Данные находятся в файле `toxic_comments.csv`. Столбец *text* в нём содержит текст комментария, а *toxic* — целевой признак."
   ]
  },
  {
   "cell_type": "markdown",
   "metadata": {},
   "source": [
    "## Подготовка"
   ]
  },
  {
   "cell_type": "code",
   "execution_count": 1,
   "metadata": {},
   "outputs": [],
   "source": [
    "# Установим библиотеку optuna\n",
    "!pip install optuna -q\n",
    "\n",
    "!pip install optuna-integration[sklearn] -q\n",
    "\n",
    "# Установим SpaCy\n",
    "!pip install spacy -q\n",
    "\n",
    "# Установим библиотеку wordcloud\n",
    "!pip install wordcloud==1.8.2.2 -q\n",
    "\n",
    "!pip install --upgrade Pillow==9.5.0 -q\n",
    "\n",
    "!pip install -U scikit-learn -q"
   ]
  },
  {
   "cell_type": "code",
   "execution_count": 2,
   "metadata": {},
   "outputs": [],
   "source": [
    "# Импортируем библиотеку pandas для работы с датафреймом\n",
    "import pandas as pd\n",
    "\n",
    "# Импортируем модуль pyplot библиотеки matplotlib для построения графиков\n",
    "import matplotlib.pyplot as plt\n",
    "\n",
    "# Импортируем библиотеку seaborn для построения графиков\n",
    "import seaborn as sns\n",
    "\n",
    "# Импортируем библиотеку SpaCy\n",
    "import spacy\n",
    "\n",
    "# Импортируем WordCloud\n",
    "from wordcloud import WordCloud\n",
    "\n",
    "# Импортируем font_manager для поиска шрифтов\n",
    "import matplotlib.font_manager as fm\n",
    "        \n",
    "# Метод tqdm.pandas() для индикации прогресса\n",
    "from tqdm.notebook import tqdm\n",
    "tqdm.pandas()\n",
    "\n",
    "# Импортируем класс для рассчета TF-IDF \n",
    "from sklearn.feature_extraction.text import TfidfVectorizer\n",
    "\n",
    "# Импортируем функцию train_test_split для разделения данных\n",
    "from sklearn.model_selection import train_test_split\n",
    "\n",
    "# Импортируем библиотеку Optuna\n",
    "import optuna\n",
    "\n",
    "# Импортируем OptunaSearchCV \n",
    "from optuna.integration.sklearn import OptunaSearchCV\n",
    "\n",
    "# Импортируем модуль distributions\n",
    "from optuna import distributions\n",
    "\n",
    "# Импортируем класс Pipeline\n",
    "from sklearn.pipeline import Pipeline\n",
    "\n",
    "# Импортируем:\n",
    "# класс LogisticRegression для логистической регрессии\n",
    "from sklearn.linear_model import LogisticRegression\n",
    "\n",
    "# класс DecisionTreeClassifier для дерева решений\n",
    "from sklearn.tree import DecisionTreeClassifier\n",
    "\n",
    "# класс DummyClassifier константная модель\n",
    "from sklearn.dummy import DummyClassifier\n",
    "\n",
    "# Импортируем метрики\n",
    "from sklearn.metrics import f1_score\n",
    "\n",
    "import warnings\n",
    "warnings.filterwarnings('ignore')"
   ]
  },
  {
   "cell_type": "code",
   "execution_count": 3,
   "metadata": {},
   "outputs": [],
   "source": [
    "# Сохраним значение random_state = 42 в переменную RANDOM_STATE\n",
    "RANDOM_STATE = 42"
   ]
  },
  {
   "cell_type": "markdown",
   "metadata": {},
   "source": [
    "Загрузим данные в датафрейм <code>pandas</code>. "
   ]
  },
  {
   "cell_type": "code",
   "execution_count": 4,
   "metadata": {},
   "outputs": [],
   "source": [
    "# Поместим датасет toxic_comments.csv в переменную df\n",
    "df = pd.read_csv('/datasets/toxic_comments.csv', index_col=0)"
   ]
  },
  {
   "cell_type": "code",
   "execution_count": 5,
   "metadata": {},
   "outputs": [
    {
     "name": "stdout",
     "output_type": "stream",
     "text": [
      "<class 'pandas.core.frame.DataFrame'>\n",
      "Int64Index: 159292 entries, 0 to 159450\n",
      "Data columns (total 2 columns):\n",
      " #   Column  Non-Null Count   Dtype \n",
      "---  ------  --------------   ----- \n",
      " 0   text    159292 non-null  object\n",
      " 1   toxic   159292 non-null  int64 \n",
      "dtypes: int64(1), object(1)\n",
      "memory usage: 3.6+ MB\n"
     ]
    },
    {
     "data": {
      "text/html": [
       "<div>\n",
       "<style scoped>\n",
       "    .dataframe tbody tr th:only-of-type {\n",
       "        vertical-align: middle;\n",
       "    }\n",
       "\n",
       "    .dataframe tbody tr th {\n",
       "        vertical-align: top;\n",
       "    }\n",
       "\n",
       "    .dataframe thead th {\n",
       "        text-align: right;\n",
       "    }\n",
       "</style>\n",
       "<table border=\"1\" class=\"dataframe\">\n",
       "  <thead>\n",
       "    <tr style=\"text-align: right;\">\n",
       "      <th></th>\n",
       "      <th>text</th>\n",
       "      <th>toxic</th>\n",
       "    </tr>\n",
       "  </thead>\n",
       "  <tbody>\n",
       "    <tr>\n",
       "      <th>0</th>\n",
       "      <td>Explanation\\nWhy the edits made under my usern...</td>\n",
       "      <td>0</td>\n",
       "    </tr>\n",
       "    <tr>\n",
       "      <th>1</th>\n",
       "      <td>D'aww! He matches this background colour I'm s...</td>\n",
       "      <td>0</td>\n",
       "    </tr>\n",
       "    <tr>\n",
       "      <th>2</th>\n",
       "      <td>Hey man, I'm really not trying to edit war. It...</td>\n",
       "      <td>0</td>\n",
       "    </tr>\n",
       "    <tr>\n",
       "      <th>3</th>\n",
       "      <td>\"\\nMore\\nI can't make any real suggestions on ...</td>\n",
       "      <td>0</td>\n",
       "    </tr>\n",
       "    <tr>\n",
       "      <th>4</th>\n",
       "      <td>You, sir, are my hero. Any chance you remember...</td>\n",
       "      <td>0</td>\n",
       "    </tr>\n",
       "  </tbody>\n",
       "</table>\n",
       "</div>"
      ],
      "text/plain": [
       "                                                text  toxic\n",
       "0  Explanation\\nWhy the edits made under my usern...      0\n",
       "1  D'aww! He matches this background colour I'm s...      0\n",
       "2  Hey man, I'm really not trying to edit war. It...      0\n",
       "3  \"\\nMore\\nI can't make any real suggestions on ...      0\n",
       "4  You, sir, are my hero. Any chance you remember...      0"
      ]
     },
     "execution_count": 5,
     "metadata": {},
     "output_type": "execute_result"
    }
   ],
   "source": [
    "# Выведем информацию о датасете и 5 строк \n",
    "df.info()\n",
    "\n",
    "df.head(5)"
   ]
  },
  {
   "cell_type": "markdown",
   "metadata": {},
   "source": [
    "Итак, мы имеем датасет с 2-мя столбцами. Столбец `text` содержит текст комментария, а `toxic` — целевой признак. "
   ]
  },
  {
   "cell_type": "code",
   "execution_count": 6,
   "metadata": {},
   "outputs": [
    {
     "data": {
      "text/html": [
       "<style  type=\"text/css\" >\n",
       "#T_da73c_row0_col0,#T_da73c_row1_col0{\n",
       "            background-color:  #3b4cc0;\n",
       "            color:  #f1f1f1;\n",
       "        }</style><table id=\"T_da73c_\" ><thead>    <tr>        <th class=\"blank level0\" ></th>        <th class=\"col_heading level0 col0\" >0</th>    </tr></thead><tbody>\n",
       "                <tr>\n",
       "                        <th id=\"T_da73c_level0_row0\" class=\"row_heading level0 row0\" >text</th>\n",
       "                        <td id=\"T_da73c_row0_col0\" class=\"data row0 col0\" >0</td>\n",
       "            </tr>\n",
       "            <tr>\n",
       "                        <th id=\"T_da73c_level0_row1\" class=\"row_heading level0 row1\" >toxic</th>\n",
       "                        <td id=\"T_da73c_row1_col0\" class=\"data row1 col0\" >0</td>\n",
       "            </tr>\n",
       "    </tbody></table>"
      ],
      "text/plain": [
       "<pandas.io.formats.style.Styler at 0x7f25843c2940>"
      ]
     },
     "execution_count": 6,
     "metadata": {},
     "output_type": "execute_result"
    }
   ],
   "source": [
    "# Проверим датасет на наличие пропусков\n",
    "pd.DataFrame(df.isna().sum()).style.background_gradient('coolwarm')"
   ]
  },
  {
   "cell_type": "markdown",
   "metadata": {},
   "source": [
    "Пропущенные значения в датасете отсутствуют. "
   ]
  },
  {
   "cell_type": "code",
   "execution_count": 7,
   "metadata": {},
   "outputs": [
    {
     "name": "stdout",
     "output_type": "stream",
     "text": [
      "Кол-во явных дубликатов: 0\n"
     ]
    }
   ],
   "source": [
    "# Проверим датасет на наличие явных дубликатов\n",
    "print('Кол-во явных дубликатов:', df.duplicated().sum())"
   ]
  },
  {
   "cell_type": "code",
   "execution_count": 8,
   "metadata": {},
   "outputs": [
    {
     "name": "stdout",
     "output_type": "stream",
     "text": [
      "Кол-во неявных дубликатов по столбцу text: 0\n"
     ]
    }
   ],
   "source": [
    "# Проверим датасет на наличие неявных дубликатов по столбцу text\n",
    "print('Кол-во неявных дубликатов по столбцу text:', df['text'].duplicated().sum())"
   ]
  },
  {
   "cell_type": "markdown",
   "metadata": {},
   "source": [
    "Явные и неявные (по столбцу `text`) дубликаты отсутствуют. "
   ]
  },
  {
   "cell_type": "markdown",
   "metadata": {},
   "source": [
    "**Рассмотрим более подробно целевой признак - столбец `toxic`**."
   ]
  },
  {
   "cell_type": "code",
   "execution_count": 9,
   "metadata": {},
   "outputs": [
    {
     "data": {
      "image/png": "[encoded data removed]",
      "text/plain": [
       "<Figure size 504x504 with 1 Axes>"
      ]
     },
     "metadata": {
      "needs_background": "light"
     },
     "output_type": "display_data"
    }
   ],
   "source": [
    "# Построим график\n",
    "plt.figure(figsize=(7, 7))\n",
    "sns.countplot(df['toxic'])\n",
    "plt.title(f'Распределение целевого признака', fontsize=18)\n",
    "plt.xlabel('целевой признак', fontsize=14)\n",
    "plt.ylabel('кол-во комментариев', fontsize=14)\n",
    "plt.show()"
   ]
  },
  {
   "cell_type": "code",
   "execution_count": 10,
   "metadata": {},
   "outputs": [
    {
     "data": {
      "text/html": [
       "<div>\n",
       "<style scoped>\n",
       "    .dataframe tbody tr th:only-of-type {\n",
       "        vertical-align: middle;\n",
       "    }\n",
       "\n",
       "    .dataframe tbody tr th {\n",
       "        vertical-align: top;\n",
       "    }\n",
       "\n",
       "    .dataframe thead th {\n",
       "        text-align: right;\n",
       "    }\n",
       "</style>\n",
       "<table border=\"1\" class=\"dataframe\">\n",
       "  <thead>\n",
       "    <tr style=\"text-align: right;\">\n",
       "      <th></th>\n",
       "      <th>text</th>\n",
       "      <th>toxic</th>\n",
       "    </tr>\n",
       "  </thead>\n",
       "  <tbody>\n",
       "    <tr>\n",
       "      <th>6</th>\n",
       "      <td>COCKSUCKER BEFORE YOU PISS AROUND ON MY WORK</td>\n",
       "      <td>1</td>\n",
       "    </tr>\n",
       "    <tr>\n",
       "      <th>12</th>\n",
       "      <td>Hey... what is it..\\n@ | talk .\\nWhat is it......</td>\n",
       "      <td>1</td>\n",
       "    </tr>\n",
       "    <tr>\n",
       "      <th>16</th>\n",
       "      <td>Bye! \\n\\nDon't look, come or think of comming ...</td>\n",
       "      <td>1</td>\n",
       "    </tr>\n",
       "    <tr>\n",
       "      <th>42</th>\n",
       "      <td>You are gay or antisemmitian? \\n\\nArchangel WH...</td>\n",
       "      <td>1</td>\n",
       "    </tr>\n",
       "  </tbody>\n",
       "</table>\n",
       "</div>"
      ],
      "text/plain": [
       "                                                 text  toxic\n",
       "6        COCKSUCKER BEFORE YOU PISS AROUND ON MY WORK      1\n",
       "12  Hey... what is it..\\n@ | talk .\\nWhat is it......      1\n",
       "16  Bye! \\n\\nDon't look, come or think of comming ...      1\n",
       "42  You are gay or antisemmitian? \\n\\nArchangel WH...      1"
      ]
     },
     "execution_count": 10,
     "metadata": {},
     "output_type": "execute_result"
    }
   ],
   "source": [
    "# Выведем комментарии со значением целевого признака 1\n",
    "df.query('toxic == 1').head(4)"
   ]
  },
  {
   "cell_type": "markdown",
   "metadata": {},
   "source": [
    "Итак, наш целевой признак имеет два значения, где судя по комментариям `0` — корректный комментарий, а `1` — токсичный комментарий. На графике мы можем наблюдать явный дисбаланс классов, так как *корректных комментариев* (класс `0`) более чем в 7 раз больше, чем *токсичных комментариев* (класс `1`), поэтому при построении моделей учтем наличие дисбаланса классов у нашего целевого признака."
   ]
  },
  {
   "cell_type": "markdown",
   "metadata": {},
   "source": [
    "Проведем лемматизацию **входящего признака — столбца `text`** с помощью `SpaCy`."
   ]
  },
  {
   "cell_type": "code",
   "execution_count": 11,
   "metadata": {},
   "outputs": [],
   "source": [
    "# Загрузим модель\n",
    "nlp = spacy.load(\"en_core_web_sm\")"
   ]
  },
  {
   "cell_type": "code",
   "execution_count": 12,
   "metadata": {},
   "outputs": [],
   "source": [
    "# Напишем функцию для лемматизации\n",
    "def lemmatize_text(text):\n",
    "    \n",
    "    # Обрабатываем текст\n",
    "    doc = nlp(text.lower())\n",
    "    \n",
    "    # # Лемматизация\n",
    "    lemmas = [token.lemma_ for token in doc if token.is_alpha]\n",
    "    \n",
    "    # Возвращаем очищенный и лемматизированный текст\n",
    "    return ' '.join(lemmas)"
   ]
  },
  {
   "cell_type": "code",
   "execution_count": 13,
   "metadata": {},
   "outputs": [
    {
     "data": {
      "application/vnd.jupyter.widget-view+json": {
       "model_id": "9ed05b7232114975b8e4c11b26d1335c",
       "version_major": 2,
       "version_minor": 0
      },
      "text/plain": [
       "  0%|          | 0/159292 [00:00<?, ?it/s]"
      ]
     },
     "metadata": {},
     "output_type": "display_data"
    }
   ],
   "source": [
    "# Добавим столбец corpus c лемматизированным и очищенным текстом\n",
    "df['corpus'] = df['text'].progress_apply(lemmatize_text)"
   ]
  },
  {
   "cell_type": "code",
   "execution_count": 15,
   "metadata": {},
   "outputs": [
    {
     "data": {
      "text/html": [
       "<div>\n",
       "<style scoped>\n",
       "    .dataframe tbody tr th:only-of-type {\n",
       "        vertical-align: middle;\n",
       "    }\n",
       "\n",
       "    .dataframe tbody tr th {\n",
       "        vertical-align: top;\n",
       "    }\n",
       "\n",
       "    .dataframe thead th {\n",
       "        text-align: right;\n",
       "    }\n",
       "</style>\n",
       "<table border=\"1\" class=\"dataframe\">\n",
       "  <thead>\n",
       "    <tr style=\"text-align: right;\">\n",
       "      <th></th>\n",
       "      <th>text</th>\n",
       "      <th>toxic</th>\n",
       "      <th>corpus</th>\n",
       "    </tr>\n",
       "  </thead>\n",
       "  <tbody>\n",
       "    <tr>\n",
       "      <th>0</th>\n",
       "      <td>Explanation\\nWhy the edits made under my usern...</td>\n",
       "      <td>0</td>\n",
       "      <td>explanation why the edit make under my usernam...</td>\n",
       "    </tr>\n",
       "    <tr>\n",
       "      <th>1</th>\n",
       "      <td>D'aww! He matches this background colour I'm s...</td>\n",
       "      <td>0</td>\n",
       "      <td>he match this background colour I seemingly st...</td>\n",
       "    </tr>\n",
       "    <tr>\n",
       "      <th>2</th>\n",
       "      <td>Hey man, I'm really not trying to edit war. It...</td>\n",
       "      <td>0</td>\n",
       "      <td>hey man I really not try to edit war it just t...</td>\n",
       "    </tr>\n",
       "    <tr>\n",
       "      <th>3</th>\n",
       "      <td>\"\\nMore\\nI can't make any real suggestions on ...</td>\n",
       "      <td>0</td>\n",
       "      <td>more I can make any real suggestion on improve...</td>\n",
       "    </tr>\n",
       "    <tr>\n",
       "      <th>4</th>\n",
       "      <td>You, sir, are my hero. Any chance you remember...</td>\n",
       "      <td>0</td>\n",
       "      <td>you sir be my hero any chance you remember wha...</td>\n",
       "    </tr>\n",
       "  </tbody>\n",
       "</table>\n",
       "</div>"
      ],
      "text/plain": [
       "                                                text  toxic  \\\n",
       "0  Explanation\\nWhy the edits made under my usern...      0   \n",
       "1  D'aww! He matches this background colour I'm s...      0   \n",
       "2  Hey man, I'm really not trying to edit war. It...      0   \n",
       "3  \"\\nMore\\nI can't make any real suggestions on ...      0   \n",
       "4  You, sir, are my hero. Any chance you remember...      0   \n",
       "\n",
       "                                              corpus  \n",
       "0  explanation why the edit make under my usernam...  \n",
       "1  he match this background colour I seemingly st...  \n",
       "2  hey man I really not try to edit war it just t...  \n",
       "3  more I can make any real suggestion on improve...  \n",
       "4  you sir be my hero any chance you remember wha...  "
      ]
     },
     "execution_count": 15,
     "metadata": {},
     "output_type": "execute_result"
    }
   ],
   "source": [
    "# Выведем 5 строк обновленного датасета\n",
    "df.head()"
   ]
  },
  {
   "cell_type": "markdown",
   "metadata": {},
   "source": [
    "Итак, мы успешно добавили столбец `corpus`, в котором очистили текст и лемматизировали его. "
   ]
  },
  {
   "cell_type": "markdown",
   "metadata": {},
   "source": [
    "**Рассмотрим популярные слова в `корректных комментариях` и построим визуализацию популярности слов в виде облака.**"
   ]
  },
  {
   "cell_type": "code",
   "execution_count": 16,
   "metadata": {},
   "outputs": [],
   "source": [
    "# Сохраним корректные комментарии\n",
    "df_correct = df.query('toxic == 0')"
   ]
  },
  {
   "cell_type": "code",
   "execution_count": 17,
   "metadata": {},
   "outputs": [],
   "source": [
    "# Преобразуем наш лематизированный столбец с строку\n",
    "text_correct = df_correct['corpus'].astype('str').tolist()\n",
    "text_correct = ' '.join(text_correct)"
   ]
  },
  {
   "cell_type": "code",
   "execution_count": 18,
   "metadata": {},
   "outputs": [],
   "source": [
    "# Получаем путь к стандартному шрифту \n",
    "ways = fm.findSystemFonts(fontpaths=None, fontext=\"ttf\")"
   ]
  },
  {
   "cell_type": "code",
   "execution_count": 19,
   "metadata": {},
   "outputs": [],
   "source": [
    "# Сохраним путь к шрифту\n",
    "font_path = '/usr/share/fonts/truetype/liberation/LiberationSans-Bold.ttf'"
   ]
  },
  {
   "cell_type": "code",
   "execution_count": 20,
   "metadata": {},
   "outputs": [
    {
     "data": {
      "image/png": "[encoded data removed]",
      "text/plain": [
       "<Figure size 720x360 with 1 Axes>"
      ]
     },
     "metadata": {
      "needs_background": "light"
     },
     "output_type": "display_data"
    }
   ],
   "source": [
    "# Построим облако слов\n",
    "wordcloud_correct = WordCloud(\n",
    "    width=800, \n",
    "    height=400, \n",
    "    background_color='white', \n",
    "    font_path=font_path\n",
    ").generate(text_correct)\n",
    "\n",
    "plt.figure(figsize=(10, 5))\n",
    "plt.imshow(wordcloud_correct, interpolation='bilinear')\n",
    "plt.axis('off')  \n",
    "plt.title(\"Популярность слов в корректных комментариях\", fontsize=25)\n",
    "plt.show()"
   ]
  },
  {
   "cell_type": "markdown",
   "metadata": {},
   "source": [
    "Итак, самое популярное слово в корректных комментариях — `article` *(статья)*, так же преобладают такие слова как:\n",
    "\n",
    "- `make` - делать\n",
    "- `think` - думать\n",
    "- `one` - один\n",
    "- `say` - сказать\n",
    "- `edit` - редактировать\n",
    "- `see` - видеть\n",
    "- `know` - знать\n",
    "- `use` - использовать"
   ]
  },
  {
   "cell_type": "markdown",
   "metadata": {},
   "source": [
    "**Рассмотрим количество слов в предложений и среднюю длину слов в `корректных комментариях`.**"
   ]
  },
  {
   "cell_type": "code",
   "execution_count": 21,
   "metadata": {},
   "outputs": [],
   "source": [
    "# Добавим столбец с кол-вом слов в корректных комментариях\n",
    "df_correct['words'] = df_correct['corpus'].str.split().str.len()"
   ]
  },
  {
   "cell_type": "code",
   "execution_count": 22,
   "metadata": {},
   "outputs": [
    {
     "data": {
      "image/png": "[encoded data removed]",
      "text/plain": [
       "<Figure size 864x504 with 1 Axes>"
      ]
     },
     "metadata": {
      "needs_background": "light"
     },
     "output_type": "display_data"
    },
    {
     "name": "stdout",
     "output_type": "stream",
     "text": [
      "\n",
      "Описательные статистики:\n"
     ]
    },
    {
     "data": {
      "text/html": [
       "<div>\n",
       "<style scoped>\n",
       "    .dataframe tbody tr th:only-of-type {\n",
       "        vertical-align: middle;\n",
       "    }\n",
       "\n",
       "    .dataframe tbody tr th {\n",
       "        vertical-align: top;\n",
       "    }\n",
       "\n",
       "    .dataframe thead th {\n",
       "        text-align: right;\n",
       "    }\n",
       "</style>\n",
       "<table border=\"1\" class=\"dataframe\">\n",
       "  <thead>\n",
       "    <tr style=\"text-align: right;\">\n",
       "      <th></th>\n",
       "      <th>count</th>\n",
       "      <th>mean</th>\n",
       "      <th>std</th>\n",
       "      <th>min</th>\n",
       "      <th>25%</th>\n",
       "      <th>50%</th>\n",
       "      <th>75%</th>\n",
       "      <th>max</th>\n",
       "    </tr>\n",
       "  </thead>\n",
       "  <tbody>\n",
       "    <tr>\n",
       "      <th>words</th>\n",
       "      <td>143106.0</td>\n",
       "      <td>67.0</td>\n",
       "      <td>96.0</td>\n",
       "      <td>0.0</td>\n",
       "      <td>17.0</td>\n",
       "      <td>36.0</td>\n",
       "      <td>76.0</td>\n",
       "      <td>1250.0</td>\n",
       "    </tr>\n",
       "  </tbody>\n",
       "</table>\n",
       "</div>"
      ],
      "text/plain": [
       "          count  mean   std  min   25%   50%   75%     max\n",
       "words  143106.0  67.0  96.0  0.0  17.0  36.0  76.0  1250.0"
      ]
     },
     "execution_count": 22,
     "metadata": {},
     "output_type": "execute_result"
    }
   ],
   "source": [
    "# Построим гистограмму\n",
    "df_correct['words'].hist(bins=50, figsize=(12,7), alpha=0.8, edgecolor='black', range=(0, 400))\n",
    "\n",
    "# Отобразим медиану и среднее\n",
    "plt.vlines(df_correct['words'].median(), ymin=0, ymax=19500, color='red', label='Медиана')\n",
    "plt.vlines(df_correct['words'].mean(), ymin=0, ymax=19500, color='green', label='Среднее')\n",
    "\n",
    "# Зададим параметры графику\n",
    "plt.legend()\n",
    "plt.title('Распределение длины корректных комментариев', fontsize=18)\n",
    "plt.xlabel('кол-во слов', fontsize=14)\n",
    "plt.ylabel('кол-во комментариев', fontsize=14)\n",
    "plt.grid(False, axis='x')\n",
    "plt.show()\n",
    "\n",
    "print(f'\\nОписательные статистики:')\n",
    "round(df_correct[\"words\"].describe().to_frame().T, 0)"
   ]
  },
  {
   "cell_type": "markdown",
   "metadata": {},
   "source": [
    "Итак, на графике мы видим положительное распределение со отклонением вправо (среднее и медиана расположены правее моды). Также на графике мы можем видеть обратную зависимость после 15 слов: с ростом количества слов в комментарии снижается количество комментариев. Большинство корректных комментариев содержат до 30 слов. В среднем в одном корректном комментарии содержится 36 слов. \n",
    "\n",
    "Также в описательных статистиках мы можем увидеть аномальное количество слов в одном комментарии — 1250 слов. Посмотрим на подобные комментарии."
   ]
  },
  {
   "cell_type": "code",
   "execution_count": 23,
   "metadata": {},
   "outputs": [
    {
     "data": {
      "text/html": [
       "<div>\n",
       "<style scoped>\n",
       "    .dataframe tbody tr th:only-of-type {\n",
       "        vertical-align: middle;\n",
       "    }\n",
       "\n",
       "    .dataframe tbody tr th {\n",
       "        vertical-align: top;\n",
       "    }\n",
       "\n",
       "    .dataframe thead th {\n",
       "        text-align: right;\n",
       "    }\n",
       "</style>\n",
       "<table border=\"1\" class=\"dataframe\">\n",
       "  <thead>\n",
       "    <tr style=\"text-align: right;\">\n",
       "      <th></th>\n",
       "      <th>text</th>\n",
       "      <th>toxic</th>\n",
       "      <th>corpus</th>\n",
       "      <th>words</th>\n",
       "    </tr>\n",
       "  </thead>\n",
       "  <tbody>\n",
       "    <tr>\n",
       "      <th>61746</th>\n",
       "      <td>OH NOES OH NOES OH NOES OH NOES OH NOES OH NOE...</td>\n",
       "      <td>0</td>\n",
       "      <td>oh no oh no oh no oh no oh no oh no oh no oh n...</td>\n",
       "      <td>1250</td>\n",
       "    </tr>\n",
       "    <tr>\n",
       "      <th>69794</th>\n",
       "      <td>hey i like Jews hey i like Jews hey i like Jew...</td>\n",
       "      <td>0</td>\n",
       "      <td>hey I like jews hey I like jews hey I like jew...</td>\n",
       "      <td>1247</td>\n",
       "    </tr>\n",
       "    <tr>\n",
       "      <th>149925</th>\n",
       "      <td>LOL LOL LOL LOL LOL LOL LOL LOL LOL LOL LOL LO...</td>\n",
       "      <td>0</td>\n",
       "      <td>lol lol lol lol lol lol lol lol lol lol lol lo...</td>\n",
       "      <td>1250</td>\n",
       "    </tr>\n",
       "  </tbody>\n",
       "</table>\n",
       "</div>"
      ],
      "text/plain": [
       "                                                     text  toxic  \\\n",
       "61746   OH NOES OH NOES OH NOES OH NOES OH NOES OH NOE...      0   \n",
       "69794   hey i like Jews hey i like Jews hey i like Jew...      0   \n",
       "149925  LOL LOL LOL LOL LOL LOL LOL LOL LOL LOL LOL LO...      0   \n",
       "\n",
       "                                                   corpus  words  \n",
       "61746   oh no oh no oh no oh no oh no oh no oh no oh n...   1250  \n",
       "69794   hey I like jews hey I like jews hey I like jew...   1247  \n",
       "149925  lol lol lol lol lol lol lol lol lol lol lol lo...   1250  "
      ]
     },
     "execution_count": 23,
     "metadata": {},
     "output_type": "execute_result"
    }
   ],
   "source": [
    "# Выведем комментарии с аномальными значениями\n",
    "df_correct.query('words > 1000')"
   ]
  },
  {
   "cell_type": "markdown",
   "metadata": {},
   "source": [
    "Как можно заметить, в комментариях с аномально большим количеством слов присутствуют слова или выражения, повторяющиеся n-количество раз."
   ]
  },
  {
   "cell_type": "code",
   "execution_count": 24,
   "metadata": {},
   "outputs": [],
   "source": [
    "# Добавим столбец со средним кол-вом букв в комментарии\n",
    "df_correct['letters'] = (df_correct['corpus'].str.len() - df_correct['corpus'].str.count(' '))/df_correct['words']"
   ]
  },
  {
   "cell_type": "code",
   "execution_count": 25,
   "metadata": {},
   "outputs": [
    {
     "data": {
      "image/png": "[encoded data removed]",
      "text/plain": [
       "<Figure size 864x504 with 1 Axes>"
      ]
     },
     "metadata": {
      "needs_background": "light"
     },
     "output_type": "display_data"
    },
    {
     "name": "stdout",
     "output_type": "stream",
     "text": [
      "\n",
      "Описательные статистики:\n"
     ]
    },
    {
     "data": {
      "text/html": [
       "<div>\n",
       "<style scoped>\n",
       "    .dataframe tbody tr th:only-of-type {\n",
       "        vertical-align: middle;\n",
       "    }\n",
       "\n",
       "    .dataframe tbody tr th {\n",
       "        vertical-align: top;\n",
       "    }\n",
       "\n",
       "    .dataframe thead th {\n",
       "        text-align: right;\n",
       "    }\n",
       "</style>\n",
       "<table border=\"1\" class=\"dataframe\">\n",
       "  <thead>\n",
       "    <tr style=\"text-align: right;\">\n",
       "      <th></th>\n",
       "      <th>count</th>\n",
       "      <th>mean</th>\n",
       "      <th>std</th>\n",
       "      <th>min</th>\n",
       "      <th>25%</th>\n",
       "      <th>50%</th>\n",
       "      <th>75%</th>\n",
       "      <th>max</th>\n",
       "    </tr>\n",
       "  </thead>\n",
       "  <tbody>\n",
       "    <tr>\n",
       "      <th>letters</th>\n",
       "      <td>143054.0</td>\n",
       "      <td>4.0</td>\n",
       "      <td>2.0</td>\n",
       "      <td>1.0</td>\n",
       "      <td>4.0</td>\n",
       "      <td>4.0</td>\n",
       "      <td>5.0</td>\n",
       "      <td>709.0</td>\n",
       "    </tr>\n",
       "  </tbody>\n",
       "</table>\n",
       "</div>"
      ],
      "text/plain": [
       "            count  mean  std  min  25%  50%  75%    max\n",
       "letters  143054.0   4.0  2.0  1.0  4.0  4.0  5.0  709.0"
      ]
     },
     "execution_count": 25,
     "metadata": {},
     "output_type": "execute_result"
    }
   ],
   "source": [
    "# Построим гистограмму\n",
    "df_correct['letters'].hist(bins=40, figsize=(12,7), alpha=0.8, edgecolor='black', range=(0, 10))\n",
    "\n",
    "# Отобразим медиану\n",
    "plt.vlines(df_correct['letters'].median(), ymin=0, ymax=30000, color='red', label='Медиана')\n",
    "\n",
    "# Зададим параметры графику\n",
    "plt.legend()\n",
    "plt.title('Распределение средней длины слова в корректных комментариях', fontsize=18)\n",
    "plt.xlabel('кол-во букв', fontsize=14)\n",
    "plt.ylabel('кол-во комментариев', fontsize=14)\n",
    "plt.grid(False, axis='x')\n",
    "plt.show()\n",
    "\n",
    "print(f'\\nОписательные статистики:')\n",
    "round(df_correct[\"letters\"].describe().to_frame().T, 0)"
   ]
  },
  {
   "cell_type": "markdown",
   "metadata": {},
   "source": [
    "Итак, на графике мы видим нормальное распределение. Средняя длина слова в корректных комментариях составляет 4 буквы. В описательных статистиках мы можем увидеть аномальную среднюю длину слова — 709. Посмотрим на подобные комментарии."
   ]
  },
  {
   "cell_type": "code",
   "execution_count": 26,
   "metadata": {},
   "outputs": [
    {
     "data": {
      "text/html": [
       "<div>\n",
       "<style scoped>\n",
       "    .dataframe tbody tr th:only-of-type {\n",
       "        vertical-align: middle;\n",
       "    }\n",
       "\n",
       "    .dataframe tbody tr th {\n",
       "        vertical-align: top;\n",
       "    }\n",
       "\n",
       "    .dataframe thead th {\n",
       "        text-align: right;\n",
       "    }\n",
       "</style>\n",
       "<table border=\"1\" class=\"dataframe\">\n",
       "  <thead>\n",
       "    <tr style=\"text-align: right;\">\n",
       "      <th></th>\n",
       "      <th>text</th>\n",
       "      <th>toxic</th>\n",
       "      <th>corpus</th>\n",
       "      <th>words</th>\n",
       "      <th>letters</th>\n",
       "    </tr>\n",
       "  </thead>\n",
       "  <tbody>\n",
       "    <tr>\n",
       "      <th>22633</th>\n",
       "      <td>\"\\n\\n find the \"\"W\"\" \\n\\nMMMMMMMMMMMMMMMMMMMMM...</td>\n",
       "      <td>0</td>\n",
       "      <td>find the w mmmmmmmmmmmmmmmmmmmmmmmmmmmmmmmmmmm...</td>\n",
       "      <td>4</td>\n",
       "      <td>102.000000</td>\n",
       "    </tr>\n",
       "    <tr>\n",
       "      <th>33234</th>\n",
       "      <td>GetthetenyearoldsoffherePLEASE! 85.97.5.140</td>\n",
       "      <td>0</td>\n",
       "      <td>getthetenyearoldsoffhereplease</td>\n",
       "      <td>1</td>\n",
       "      <td>30.000000</td>\n",
       "    </tr>\n",
       "    <tr>\n",
       "      <th>71079</th>\n",
       "      <td>pedro martinez wass the best pitcher everrrrrr...</td>\n",
       "      <td>0</td>\n",
       "      <td>pedro martinez wass the good pitcher everrrrrr...</td>\n",
       "      <td>7</td>\n",
       "      <td>24.857143</td>\n",
       "    </tr>\n",
       "    <tr>\n",
       "      <th>71528</th>\n",
       "      <td>MRRRRRRRRRRRRRRRRRRRRRRRRRRRRRRRRRRRRRRRRRRRRR...</td>\n",
       "      <td>0</td>\n",
       "      <td>mrrrrrrrrrrrrrrrrrrrrrrrrrrrrrrrrrrrrrrrrrrrrr...</td>\n",
       "      <td>5</td>\n",
       "      <td>36.400000</td>\n",
       "    </tr>\n",
       "    <tr>\n",
       "      <th>74697</th>\n",
       "      <td>Dont Change It!!!! zzzzzzzzzzzzzzzzzzzzzzzzzzz...</td>\n",
       "      <td>0</td>\n",
       "      <td>do not change it zzzzzzzzzzzzzzzzzzzzzzzzzzzzz...</td>\n",
       "      <td>37</td>\n",
       "      <td>134.108108</td>\n",
       "    </tr>\n",
       "    <tr>\n",
       "      <th>115507</th>\n",
       "      <td>Feel the might of Cyber Apocalypse! \\n\\nyyyyyy...</td>\n",
       "      <td>0</td>\n",
       "      <td>feel the might of cyber apocalypse yyyyyyyyyyy...</td>\n",
       "      <td>7</td>\n",
       "      <td>708.571429</td>\n",
       "    </tr>\n",
       "    <tr>\n",
       "      <th>131549</th>\n",
       "      <td>SUPERFLYYYYYYYYYYYYYYYYYYYYYYYYYYYYYYYYYYYYYYY...</td>\n",
       "      <td>0</td>\n",
       "      <td>superflyyyyyyyyyyyyyyyyyyyyyyyyyyyyyyyyyyyyyyy...</td>\n",
       "      <td>7</td>\n",
       "      <td>25.714286</td>\n",
       "    </tr>\n",
       "  </tbody>\n",
       "</table>\n",
       "</div>"
      ],
      "text/plain": [
       "                                                     text  toxic  \\\n",
       "22633   \"\\n\\n find the \"\"W\"\" \\n\\nMMMMMMMMMMMMMMMMMMMMM...      0   \n",
       "33234         GetthetenyearoldsoffherePLEASE! 85.97.5.140      0   \n",
       "71079   pedro martinez wass the best pitcher everrrrrr...      0   \n",
       "71528   MRRRRRRRRRRRRRRRRRRRRRRRRRRRRRRRRRRRRRRRRRRRRR...      0   \n",
       "74697   Dont Change It!!!! zzzzzzzzzzzzzzzzzzzzzzzzzzz...      0   \n",
       "115507  Feel the might of Cyber Apocalypse! \\n\\nyyyyyy...      0   \n",
       "131549  SUPERFLYYYYYYYYYYYYYYYYYYYYYYYYYYYYYYYYYYYYYYY...      0   \n",
       "\n",
       "                                                   corpus  words     letters  \n",
       "22633   find the w mmmmmmmmmmmmmmmmmmmmmmmmmmmmmmmmmmm...      4  102.000000  \n",
       "33234                      getthetenyearoldsoffhereplease      1   30.000000  \n",
       "71079   pedro martinez wass the good pitcher everrrrrr...      7   24.857143  \n",
       "71528   mrrrrrrrrrrrrrrrrrrrrrrrrrrrrrrrrrrrrrrrrrrrrr...      5   36.400000  \n",
       "74697   do not change it zzzzzzzzzzzzzzzzzzzzzzzzzzzzz...     37  134.108108  \n",
       "115507  feel the might of cyber apocalypse yyyyyyyyyyy...      7  708.571429  \n",
       "131549  superflyyyyyyyyyyyyyyyyyyyyyyyyyyyyyyyyyyyyyyy...      7   25.714286  "
      ]
     },
     "execution_count": 26,
     "metadata": {},
     "output_type": "execute_result"
    }
   ],
   "source": [
    "# Выведем комментарии с аномальными значениями\n",
    "df_correct.query('letters > 20')"
   ]
  },
  {
   "cell_type": "markdown",
   "metadata": {},
   "source": [
    "Как и в случае с аномальной длиной комментария, здесь аналогичная ситуация: присутствуют буквы, повторяющиеся n-количество раз."
   ]
  },
  {
   "cell_type": "markdown",
   "metadata": {},
   "source": [
    "**Рассмотрим популярные слова в `токсичных комментариях` и построим визуализацию популярности слов в виде облака.**"
   ]
  },
  {
   "cell_type": "code",
   "execution_count": 27,
   "metadata": {},
   "outputs": [],
   "source": [
    "# Сохраним токсичные комментарии\n",
    "df_toxic = df.query('toxic == 1')"
   ]
  },
  {
   "cell_type": "code",
   "execution_count": 28,
   "metadata": {},
   "outputs": [],
   "source": [
    "# Преобразуем наш лематизированный столбец с строку\n",
    "text_toxic = df_toxic['corpus'].astype('str').tolist()\n",
    "text_toxic = ' '.join(text_toxic)"
   ]
  },
  {
   "cell_type": "code",
   "execution_count": 29,
   "metadata": {},
   "outputs": [
    {
     "data": {
      "image/png": "[encoded data removed]",
      "text/plain": [
       "<Figure size 720x360 with 1 Axes>"
      ]
     },
     "metadata": {
      "needs_background": "light"
     },
     "output_type": "display_data"
    }
   ],
   "source": [
    "# Построим облако слов\n",
    "wordcloud_toxic = WordCloud(\n",
    "    width=800, \n",
    "    height=400, \n",
    "    background_color='white', \n",
    "    font_path=font_path,\n",
    "    collocations=False\n",
    ").generate(text_toxic)\n",
    "\n",
    "plt.figure(figsize=(10, 5))\n",
    "plt.imshow(wordcloud_toxic, interpolation='bilinear')\n",
    "plt.axis('off')  \n",
    "plt.title(\"Популярность слов в токсичных комментариях\", fontsize=25)\n",
    "plt.show()"
   ]
  },
  {
   "cell_type": "markdown",
   "metadata": {},
   "source": [
    "Итак, самое популярное слово в токсичных комментариях — `fuck` *(нецензурное слово)*, так же преобладают такие слова как:\n",
    "\n",
    "- `go` - идти\n",
    "- `will` - воля\n",
    "- `know` - знать\n",
    "- `nigger` - нецензурное слово\n",
    "- `article` - статья\n",
    "- `people` - люди\n",
    "- `block` - блокировать\n",
    "- `one` - один\n",
    "- `wikipedia` - википедия"
   ]
  },
  {
   "cell_type": "markdown",
   "metadata": {},
   "source": [
    "**Рассмотрим количество слов в предложений и среднюю длину слов в `токсичных комментариях`.**"
   ]
  },
  {
   "cell_type": "code",
   "execution_count": 30,
   "metadata": {},
   "outputs": [],
   "source": [
    "# Добавим столбец с кол-вом слов в токсичных комментариях\n",
    "df_toxic['words'] = df_toxic['corpus'].str.split().str.len()"
   ]
  },
  {
   "cell_type": "code",
   "execution_count": 31,
   "metadata": {},
   "outputs": [
    {
     "data": {
      "image/png": "[encoded data removed]",
      "text/plain": [
       "<Figure size 864x504 with 1 Axes>"
      ]
     },
     "metadata": {
      "needs_background": "light"
     },
     "output_type": "display_data"
    },
    {
     "name": "stdout",
     "output_type": "stream",
     "text": [
      "\n",
      "Описательные статистики:\n"
     ]
    },
    {
     "data": {
      "text/html": [
       "<div>\n",
       "<style scoped>\n",
       "    .dataframe tbody tr th:only-of-type {\n",
       "        vertical-align: middle;\n",
       "    }\n",
       "\n",
       "    .dataframe tbody tr th {\n",
       "        vertical-align: top;\n",
       "    }\n",
       "\n",
       "    .dataframe thead th {\n",
       "        text-align: right;\n",
       "    }\n",
       "</style>\n",
       "<table border=\"1\" class=\"dataframe\">\n",
       "  <thead>\n",
       "    <tr style=\"text-align: right;\">\n",
       "      <th></th>\n",
       "      <th>count</th>\n",
       "      <th>mean</th>\n",
       "      <th>std</th>\n",
       "      <th>min</th>\n",
       "      <th>25%</th>\n",
       "      <th>50%</th>\n",
       "      <th>75%</th>\n",
       "      <th>max</th>\n",
       "    </tr>\n",
       "  </thead>\n",
       "  <tbody>\n",
       "    <tr>\n",
       "      <th>words</th>\n",
       "      <td>16186.0</td>\n",
       "      <td>52.0</td>\n",
       "      <td>105.0</td>\n",
       "      <td>0.0</td>\n",
       "      <td>11.0</td>\n",
       "      <td>23.0</td>\n",
       "      <td>49.0</td>\n",
       "      <td>1403.0</td>\n",
       "    </tr>\n",
       "  </tbody>\n",
       "</table>\n",
       "</div>"
      ],
      "text/plain": [
       "         count  mean    std  min   25%   50%   75%     max\n",
       "words  16186.0  52.0  105.0  0.0  11.0  23.0  49.0  1403.0"
      ]
     },
     "execution_count": 31,
     "metadata": {},
     "output_type": "execute_result"
    }
   ],
   "source": [
    "# Построим гистограмму\n",
    "df_toxic['words'].hist(bins=50, figsize=(12,7), alpha=0.8, edgecolor='black', range=(0, 400))\n",
    "\n",
    "# Отобразим медиану и среднее\n",
    "plt.vlines(df_toxic['words'].median(), ymin=0, ymax=3500, color='red', label='Медиана')\n",
    "plt.vlines(df_toxic['words'].mean(), ymin=0, ymax=3500, color='green', label='Среднее')\n",
    "\n",
    "# Зададим параметры графику\n",
    "plt.legend()\n",
    "plt.title('Распределение длины токсичных комментариев', fontsize=18)\n",
    "plt.xlabel('кол-во слов', fontsize=14)\n",
    "plt.ylabel('кол-во комментариев', fontsize=14)\n",
    "plt.grid(False, axis='x')\n",
    "plt.show()\n",
    "\n",
    "print(f'\\nОписательные статистики:')\n",
    "round(df_toxic[\"words\"].describe().to_frame().T, 0)"
   ]
  },
  {
   "cell_type": "markdown",
   "metadata": {},
   "source": [
    "Итак, на графике мы видим положительное распределение со отклонением вправо (среднее и медиана расположены правее моды). Также на графике мы можем видеть обратную зависимость после 8 слов: с ростом количества слов в комментарии снижается количество комментариев. Большинство токсичных комментариев содержат до 25 слов. В среднем в одном токсичном комментарии содержится 23 слова. \n",
    "\n",
    "Также в описательных статистиках мы можем увидеть аномальное количество слов в одном комментарии — 1403 слова. Посмотрим на подобные комментарии."
   ]
  },
  {
   "cell_type": "code",
   "execution_count": 32,
   "metadata": {},
   "outputs": [
    {
     "data": {
      "text/html": [
       "<div>\n",
       "<style scoped>\n",
       "    .dataframe tbody tr th:only-of-type {\n",
       "        vertical-align: middle;\n",
       "    }\n",
       "\n",
       "    .dataframe tbody tr th {\n",
       "        vertical-align: top;\n",
       "    }\n",
       "\n",
       "    .dataframe thead th {\n",
       "        text-align: right;\n",
       "    }\n",
       "</style>\n",
       "<table border=\"1\" class=\"dataframe\">\n",
       "  <thead>\n",
       "    <tr style=\"text-align: right;\">\n",
       "      <th></th>\n",
       "      <th>text</th>\n",
       "      <th>toxic</th>\n",
       "      <th>corpus</th>\n",
       "      <th>words</th>\n",
       "    </tr>\n",
       "  </thead>\n",
       "  <tbody>\n",
       "    <tr>\n",
       "      <th>4704</th>\n",
       "      <td>do go fuck off bastard\\nDo Yyou Have a life?\\n...</td>\n",
       "      <td>1</td>\n",
       "      <td>do go fuck off bastard do yyou have a life go ...</td>\n",
       "      <td>1403</td>\n",
       "    </tr>\n",
       "    <tr>\n",
       "      <th>5212</th>\n",
       "      <td>HATE YOU HATE YOU HATE YOU HATE YOU HATE YOU H...</td>\n",
       "      <td>1</td>\n",
       "      <td>hate you hate you hate you hate you hate you h...</td>\n",
       "      <td>1108</td>\n",
       "    </tr>\n",
       "    <tr>\n",
       "      <th>8970</th>\n",
       "      <td>I am going to kill you. I am going to murder y...</td>\n",
       "      <td>1</td>\n",
       "      <td>I be go to kill you I be go to murder you I be...</td>\n",
       "      <td>1198</td>\n",
       "    </tr>\n",
       "    <tr>\n",
       "      <th>27124</th>\n",
       "      <td>DAMN YOU U CUNT DAMN YOU U CUNT DAMN YOU U CUN...</td>\n",
       "      <td>1</td>\n",
       "      <td>damn you u cunt damn you u cunt damn you u cun...</td>\n",
       "      <td>1250</td>\n",
       "    </tr>\n",
       "    <tr>\n",
       "      <th>32114</th>\n",
       "      <td>PIG PIG PIG PIG PIG PIG PIG PIG PIG PIG PIG PI...</td>\n",
       "      <td>1</td>\n",
       "      <td>pig pig pig pig pig pig pig pig pig pig pig pi...</td>\n",
       "      <td>1250</td>\n",
       "    </tr>\n",
       "    <tr>\n",
       "      <th>32371</th>\n",
       "      <td>THAT WAS REALLY MILLESECONDS WASNT IT BITCH \\n...</td>\n",
       "      <td>1</td>\n",
       "      <td>that be really millesecond be not it bitch fat...</td>\n",
       "      <td>1239</td>\n",
       "    </tr>\n",
       "    <tr>\n",
       "      <th>35785</th>\n",
       "      <td>What is rong with you u pervert i ahte u just ...</td>\n",
       "      <td>1</td>\n",
       "      <td>what be rong with you u pervert I ahte u just ...</td>\n",
       "      <td>1341</td>\n",
       "    </tr>\n",
       "    <tr>\n",
       "      <th>47625</th>\n",
       "      <td>So I was all like  who farted, than i realized...</td>\n",
       "      <td>1</td>\n",
       "      <td>so I be all like who fart than I realize I nee...</td>\n",
       "      <td>1103</td>\n",
       "    </tr>\n",
       "    <tr>\n",
       "      <th>51350</th>\n",
       "      <td>I am a homo sexual.  I am a homo sexual.  I am...</td>\n",
       "      <td>1</td>\n",
       "      <td>I be a homo sexual I be a homo sexual I be a h...</td>\n",
       "      <td>1188</td>\n",
       "    </tr>\n",
       "    <tr>\n",
       "      <th>76542</th>\n",
       "      <td>DIE FAG DIE FAG DIE FAG DIE FAG DIE FAG DIE FA...</td>\n",
       "      <td>1</td>\n",
       "      <td>die fag die fag die fag die fag die fag die fa...</td>\n",
       "      <td>1250</td>\n",
       "    </tr>\n",
       "    <tr>\n",
       "      <th>81236</th>\n",
       "      <td>Take that! \\n\\nIN THE ASS IN THE ASS IN THE AS...</td>\n",
       "      <td>1</td>\n",
       "      <td>take that in the ass in the ass in the ass in ...</td>\n",
       "      <td>1354</td>\n",
       "    </tr>\n",
       "    <tr>\n",
       "      <th>127036</th>\n",
       "      <td>fuck you  \\n\\nfuck you fuck you fuck you fuck ...</td>\n",
       "      <td>1</td>\n",
       "      <td>fuck you fuck you fuck you fuck you fuck you f...</td>\n",
       "      <td>1104</td>\n",
       "    </tr>\n",
       "    <tr>\n",
       "      <th>128107</th>\n",
       "      <td>I DONT CARE I DONT CARE I DONT CARE I DONT CAR...</td>\n",
       "      <td>1</td>\n",
       "      <td>I do not care I do not care I do not care I do...</td>\n",
       "      <td>1384</td>\n",
       "    </tr>\n",
       "    <tr>\n",
       "      <th>136429</th>\n",
       "      <td>SUCK MY COCK D SUCK MY COCK D SUCK MY COCK D S...</td>\n",
       "      <td>1</td>\n",
       "      <td>suck my cock d suck my cock d suck my cock d s...</td>\n",
       "      <td>1250</td>\n",
       "    </tr>\n",
       "    <tr>\n",
       "      <th>153236</th>\n",
       "      <td>FAT JEW FAT JEW FAT JEW FAT JEW FAT JEW FAT JE...</td>\n",
       "      <td>1</td>\n",
       "      <td>fat jew fat jew fat jew fat jew fat jew fat je...</td>\n",
       "      <td>1247</td>\n",
       "    </tr>\n",
       "  </tbody>\n",
       "</table>\n",
       "</div>"
      ],
      "text/plain": [
       "                                                     text  toxic  \\\n",
       "4704    do go fuck off bastard\\nDo Yyou Have a life?\\n...      1   \n",
       "5212    HATE YOU HATE YOU HATE YOU HATE YOU HATE YOU H...      1   \n",
       "8970    I am going to kill you. I am going to murder y...      1   \n",
       "27124   DAMN YOU U CUNT DAMN YOU U CUNT DAMN YOU U CUN...      1   \n",
       "32114   PIG PIG PIG PIG PIG PIG PIG PIG PIG PIG PIG PI...      1   \n",
       "32371   THAT WAS REALLY MILLESECONDS WASNT IT BITCH \\n...      1   \n",
       "35785   What is rong with you u pervert i ahte u just ...      1   \n",
       "47625   So I was all like  who farted, than i realized...      1   \n",
       "51350   I am a homo sexual.  I am a homo sexual.  I am...      1   \n",
       "76542   DIE FAG DIE FAG DIE FAG DIE FAG DIE FAG DIE FA...      1   \n",
       "81236   Take that! \\n\\nIN THE ASS IN THE ASS IN THE AS...      1   \n",
       "127036  fuck you  \\n\\nfuck you fuck you fuck you fuck ...      1   \n",
       "128107  I DONT CARE I DONT CARE I DONT CARE I DONT CAR...      1   \n",
       "136429  SUCK MY COCK D SUCK MY COCK D SUCK MY COCK D S...      1   \n",
       "153236  FAT JEW FAT JEW FAT JEW FAT JEW FAT JEW FAT JE...      1   \n",
       "\n",
       "                                                   corpus  words  \n",
       "4704    do go fuck off bastard do yyou have a life go ...   1403  \n",
       "5212    hate you hate you hate you hate you hate you h...   1108  \n",
       "8970    I be go to kill you I be go to murder you I be...   1198  \n",
       "27124   damn you u cunt damn you u cunt damn you u cun...   1250  \n",
       "32114   pig pig pig pig pig pig pig pig pig pig pig pi...   1250  \n",
       "32371   that be really millesecond be not it bitch fat...   1239  \n",
       "35785   what be rong with you u pervert I ahte u just ...   1341  \n",
       "47625   so I be all like who fart than I realize I nee...   1103  \n",
       "51350   I be a homo sexual I be a homo sexual I be a h...   1188  \n",
       "76542   die fag die fag die fag die fag die fag die fa...   1250  \n",
       "81236   take that in the ass in the ass in the ass in ...   1354  \n",
       "127036  fuck you fuck you fuck you fuck you fuck you f...   1104  \n",
       "128107  I do not care I do not care I do not care I do...   1384  \n",
       "136429  suck my cock d suck my cock d suck my cock d s...   1250  \n",
       "153236  fat jew fat jew fat jew fat jew fat jew fat je...   1247  "
      ]
     },
     "execution_count": 32,
     "metadata": {},
     "output_type": "execute_result"
    }
   ],
   "source": [
    "# Выведем комментарии с аномальными значениями\n",
    "df_toxic.query('words > 1100')"
   ]
  },
  {
   "cell_type": "markdown",
   "metadata": {},
   "source": [
    "Как и в случае с корректными комментариями, здесь так же присутствуют слова или выражения, повторяющиеся n-количество раз."
   ]
  },
  {
   "cell_type": "code",
   "execution_count": 33,
   "metadata": {},
   "outputs": [],
   "source": [
    "# Добавим столбец со средним кол-вом букв в комментарии\n",
    "df_toxic['letters'] = (df_toxic['corpus'].str.len() - df_toxic['corpus'].str.count(' '))/df_toxic['words']"
   ]
  },
  {
   "cell_type": "code",
   "execution_count": 34,
   "metadata": {},
   "outputs": [
    {
     "data": {
      "image/png": "[encoded data removed]",
      "text/plain": [
       "<Figure size 864x504 with 1 Axes>"
      ]
     },
     "metadata": {
      "needs_background": "light"
     },
     "output_type": "display_data"
    },
    {
     "name": "stdout",
     "output_type": "stream",
     "text": [
      "\n",
      "Описательные статистики:\n"
     ]
    },
    {
     "data": {
      "text/html": [
       "<div>\n",
       "<style scoped>\n",
       "    .dataframe tbody tr th:only-of-type {\n",
       "        vertical-align: middle;\n",
       "    }\n",
       "\n",
       "    .dataframe tbody tr th {\n",
       "        vertical-align: top;\n",
       "    }\n",
       "\n",
       "    .dataframe thead th {\n",
       "        text-align: right;\n",
       "    }\n",
       "</style>\n",
       "<table border=\"1\" class=\"dataframe\">\n",
       "  <thead>\n",
       "    <tr style=\"text-align: right;\">\n",
       "      <th></th>\n",
       "      <th>count</th>\n",
       "      <th>mean</th>\n",
       "      <th>std</th>\n",
       "      <th>min</th>\n",
       "      <th>25%</th>\n",
       "      <th>50%</th>\n",
       "      <th>75%</th>\n",
       "      <th>max</th>\n",
       "    </tr>\n",
       "  </thead>\n",
       "  <tbody>\n",
       "    <tr>\n",
       "      <th>letters</th>\n",
       "      <td>16185.0</td>\n",
       "      <td>4.0</td>\n",
       "      <td>17.0</td>\n",
       "      <td>1.0</td>\n",
       "      <td>4.0</td>\n",
       "      <td>4.0</td>\n",
       "      <td>4.0</td>\n",
       "      <td>1652.0</td>\n",
       "    </tr>\n",
       "  </tbody>\n",
       "</table>\n",
       "</div>"
      ],
      "text/plain": [
       "           count  mean   std  min  25%  50%  75%     max\n",
       "letters  16185.0   4.0  17.0  1.0  4.0  4.0  4.0  1652.0"
      ]
     },
     "execution_count": 34,
     "metadata": {},
     "output_type": "execute_result"
    }
   ],
   "source": [
    "# Построим гистограмму\n",
    "df_toxic['letters'].hist(bins=40, figsize=(12,7), alpha=0.8, edgecolor='black', range=(0, 10))\n",
    "\n",
    "# Отобразим медиану\n",
    "plt.vlines(df_toxic['letters'].median(), ymin=0, ymax=3200, color='red', label='Медиана')\n",
    "\n",
    "# Зададим параметры графику\n",
    "plt.legend()\n",
    "plt.title('Распределение средней длины слова в токсичных комментариях', fontsize=18)\n",
    "plt.xlabel('кол-во букв', fontsize=14)\n",
    "plt.ylabel('кол-во комментариев', fontsize=14)\n",
    "plt.grid(False, axis='x')\n",
    "plt.show()\n",
    "\n",
    "print(f'\\nОписательные статистики:')\n",
    "round(df_toxic[\"letters\"].describe().to_frame().T, 0)"
   ]
  },
  {
   "cell_type": "markdown",
   "metadata": {},
   "source": [
    "Итак, на графике мы видим нормальное распределение. Средняя длина слова в токсичных комментариях составляет 4 буквы. В описательных статистиках мы можем увидеть аномальную среднюю длину слова — 1652. Посмотрим на подобные комментарии."
   ]
  },
  {
   "cell_type": "code",
   "execution_count": 35,
   "metadata": {},
   "outputs": [
    {
     "data": {
      "text/html": [
       "<div>\n",
       "<style scoped>\n",
       "    .dataframe tbody tr th:only-of-type {\n",
       "        vertical-align: middle;\n",
       "    }\n",
       "\n",
       "    .dataframe tbody tr th {\n",
       "        vertical-align: top;\n",
       "    }\n",
       "\n",
       "    .dataframe thead th {\n",
       "        text-align: right;\n",
       "    }\n",
       "</style>\n",
       "<table border=\"1\" class=\"dataframe\">\n",
       "  <thead>\n",
       "    <tr style=\"text-align: right;\">\n",
       "      <th></th>\n",
       "      <th>text</th>\n",
       "      <th>toxic</th>\n",
       "      <th>corpus</th>\n",
       "      <th>words</th>\n",
       "      <th>letters</th>\n",
       "    </tr>\n",
       "  </thead>\n",
       "  <tbody>\n",
       "    <tr>\n",
       "      <th>1869</th>\n",
       "      <td>YOUR ARE FUCKING GAY WAD!!!!!!!!!!!!!!!!!!!!!!...</td>\n",
       "      <td>1</td>\n",
       "      <td>your be fuck gay wad I fuck your mum oh wait y...</td>\n",
       "      <td>102</td>\n",
       "      <td>45.000000</td>\n",
       "    </tr>\n",
       "    <tr>\n",
       "      <th>11786</th>\n",
       "      <td>==U R GAY== \\n\\nFUCKFUCKFUCKFUCKFUCKFUCKFUCKFU...</td>\n",
       "      <td>1</td>\n",
       "      <td>u r fuckfuckfuckfuckfuckfuckfuckfuckfuckfuckfu...</td>\n",
       "      <td>3</td>\n",
       "      <td>1652.333333</td>\n",
       "    </tr>\n",
       "    <tr>\n",
       "      <th>16232</th>\n",
       "      <td>jerk me jolly \\n\\nfuckfuckfuckfuckfuckfuckfuck...</td>\n",
       "      <td>1</td>\n",
       "      <td>jerk I jolly fuckfuckfuckfuckfuckfuckfuckfuckf...</td>\n",
       "      <td>23</td>\n",
       "      <td>80.086957</td>\n",
       "    </tr>\n",
       "    <tr>\n",
       "      <th>21342</th>\n",
       "      <td>I SAID GOOD DAY BIATCH\\nDONT BREAK WP:3RR BIAT...</td>\n",
       "      <td>1</td>\n",
       "      <td>I say good day biatch do nt break biatch hahah...</td>\n",
       "      <td>13</td>\n",
       "      <td>24.846154</td>\n",
       "    </tr>\n",
       "    <tr>\n",
       "      <th>29554</th>\n",
       "      <td>YO MOMA IS COOL AND FARTS 247 \\n\\nHI BYE GIGOW...</td>\n",
       "      <td>1</td>\n",
       "      <td>yo moma be cool and fart hi bye gigowngnognron...</td>\n",
       "      <td>9</td>\n",
       "      <td>49.333333</td>\n",
       "    </tr>\n",
       "    <tr>\n",
       "      <th>34607</th>\n",
       "      <td>shut up you cunt\\nWWWWWWWWWWWWWWWWWWWWWWWWWWWW...</td>\n",
       "      <td>1</td>\n",
       "      <td>shut up you cunt wwwwwwwwwwwwwwwwwwwwwwwwwwwww...</td>\n",
       "      <td>5</td>\n",
       "      <td>834.600000</td>\n",
       "    </tr>\n",
       "    <tr>\n",
       "      <th>36065</th>\n",
       "      <td>Death To Wikipedia! Down with free Speach! \\n\\...</td>\n",
       "      <td>1</td>\n",
       "      <td>death to wikipedia down with free speach hjyun...</td>\n",
       "      <td>8</td>\n",
       "      <td>619.750000</td>\n",
       "    </tr>\n",
       "    <tr>\n",
       "      <th>40809</th>\n",
       "      <td>Discussion destroying CRAP topic \\n\\nIt seems ...</td>\n",
       "      <td>1</td>\n",
       "      <td>discussion destroy crap topic it seem that whe...</td>\n",
       "      <td>52</td>\n",
       "      <td>93.923077</td>\n",
       "    </tr>\n",
       "    <tr>\n",
       "      <th>70340</th>\n",
       "      <td>for potexionn, block dis page....MWAAAAAAAAAAA...</td>\n",
       "      <td>1</td>\n",
       "      <td>for potexionn block dis page mwaaaaaaaaaaaaaaa...</td>\n",
       "      <td>6</td>\n",
       "      <td>30.000000</td>\n",
       "    </tr>\n",
       "    <tr>\n",
       "      <th>87959</th>\n",
       "      <td>Nerd\\n\\nNeeeeeeeeeeeeeeeeeeeeeeeeeeeeeeeeeeeeeerd</td>\n",
       "      <td>1</td>\n",
       "      <td>nerd neeeeeeeeeeeeeeeeeeeeeeeeeeeeeeeeeeeeeerd</td>\n",
       "      <td>2</td>\n",
       "      <td>22.500000</td>\n",
       "    </tr>\n",
       "    <tr>\n",
       "      <th>90224</th>\n",
       "      <td>I shall purge this web site of the weak! \\n\\nh...</td>\n",
       "      <td>1</td>\n",
       "      <td>I shall purge this web site of the weak hyyuyu...</td>\n",
       "      <td>10</td>\n",
       "      <td>495.700000</td>\n",
       "    </tr>\n",
       "    <tr>\n",
       "      <th>101286</th>\n",
       "      <td>Gaaaaaaaaaaaaaaaaaaaaaaaaay! U r fucking gaey!...</td>\n",
       "      <td>1</td>\n",
       "      <td>gaaaaaaaaaaaaaaaaaaaaaaaaay u r fucking gaey g...</td>\n",
       "      <td>6</td>\n",
       "      <td>826.666667</td>\n",
       "    </tr>\n",
       "    <tr>\n",
       "      <th>105646</th>\n",
       "      <td>Your Web Site is As useless to the public as i...</td>\n",
       "      <td>1</td>\n",
       "      <td>your web site be as useless to the public as i...</td>\n",
       "      <td>21</td>\n",
       "      <td>235.380952</td>\n",
       "    </tr>\n",
       "    <tr>\n",
       "      <th>105975</th>\n",
       "      <td>FFFFFFFFFFFFFFFUUUUUUUUUUUUUUUUUUUUUUUCCCCCCCC...</td>\n",
       "      <td>1</td>\n",
       "      <td>fffffffffffffffuuuuuuuuuuuuuuuuuuuuuuucccccccc...</td>\n",
       "      <td>4</td>\n",
       "      <td>20.750000</td>\n",
       "    </tr>\n",
       "  </tbody>\n",
       "</table>\n",
       "</div>"
      ],
      "text/plain": [
       "                                                     text  toxic  \\\n",
       "1869    YOUR ARE FUCKING GAY WAD!!!!!!!!!!!!!!!!!!!!!!...      1   \n",
       "11786   ==U R GAY== \\n\\nFUCKFUCKFUCKFUCKFUCKFUCKFUCKFU...      1   \n",
       "16232   jerk me jolly \\n\\nfuckfuckfuckfuckfuckfuckfuck...      1   \n",
       "21342   I SAID GOOD DAY BIATCH\\nDONT BREAK WP:3RR BIAT...      1   \n",
       "29554   YO MOMA IS COOL AND FARTS 247 \\n\\nHI BYE GIGOW...      1   \n",
       "34607   shut up you cunt\\nWWWWWWWWWWWWWWWWWWWWWWWWWWWW...      1   \n",
       "36065   Death To Wikipedia! Down with free Speach! \\n\\...      1   \n",
       "40809   Discussion destroying CRAP topic \\n\\nIt seems ...      1   \n",
       "70340   for potexionn, block dis page....MWAAAAAAAAAAA...      1   \n",
       "87959   Nerd\\n\\nNeeeeeeeeeeeeeeeeeeeeeeeeeeeeeeeeeeeeeerd      1   \n",
       "90224   I shall purge this web site of the weak! \\n\\nh...      1   \n",
       "101286  Gaaaaaaaaaaaaaaaaaaaaaaaaay! U r fucking gaey!...      1   \n",
       "105646  Your Web Site is As useless to the public as i...      1   \n",
       "105975  FFFFFFFFFFFFFFFUUUUUUUUUUUUUUUUUUUUUUUCCCCCCCC...      1   \n",
       "\n",
       "                                                   corpus  words      letters  \n",
       "1869    your be fuck gay wad I fuck your mum oh wait y...    102    45.000000  \n",
       "11786   u r fuckfuckfuckfuckfuckfuckfuckfuckfuckfuckfu...      3  1652.333333  \n",
       "16232   jerk I jolly fuckfuckfuckfuckfuckfuckfuckfuckf...     23    80.086957  \n",
       "21342   I say good day biatch do nt break biatch hahah...     13    24.846154  \n",
       "29554   yo moma be cool and fart hi bye gigowngnognron...      9    49.333333  \n",
       "34607   shut up you cunt wwwwwwwwwwwwwwwwwwwwwwwwwwwww...      5   834.600000  \n",
       "36065   death to wikipedia down with free speach hjyun...      8   619.750000  \n",
       "40809   discussion destroy crap topic it seem that whe...     52    93.923077  \n",
       "70340   for potexionn block dis page mwaaaaaaaaaaaaaaa...      6    30.000000  \n",
       "87959      nerd neeeeeeeeeeeeeeeeeeeeeeeeeeeeeeeeeeeeeerd      2    22.500000  \n",
       "90224   I shall purge this web site of the weak hyyuyu...     10   495.700000  \n",
       "101286  gaaaaaaaaaaaaaaaaaaaaaaaaay u r fucking gaey g...      6   826.666667  \n",
       "105646  your web site be as useless to the public as i...     21   235.380952  \n",
       "105975  fffffffffffffffuuuuuuuuuuuuuuuuuuuuuuucccccccc...      4    20.750000  "
      ]
     },
     "execution_count": 35,
     "metadata": {},
     "output_type": "execute_result"
    }
   ],
   "source": [
    "# Выведем комментарии с аномальными значениями\n",
    "df_toxic.query('letters > 20')"
   ]
  },
  {
   "cell_type": "markdown",
   "metadata": {},
   "source": [
    "Как и в случае с аномальной длиной комментария, здесь аналогичная ситуация: присутствуют буквы, повторяющиеся n-количество раз."
   ]
  },
  {
   "cell_type": "markdown",
   "metadata": {},
   "source": [
    "**Промежуточный итог:**\n",
    "\n",
    "- выявили отсутствие пропусков и дубликатов в датасете;\n",
    "\n",
    "\n",
    "- добавили столбец `corpus` с очищенным и лемматизированным текстом из столбца `text`;\n",
    "\n",
    "\n",
    "- целевой признак `toxic` имеет два значения, где `0` — корректный комментарий, а `1` — токсичный комментарий; \n",
    "\n",
    "\n",
    "- целевой признак `toxic` имеет дисбаланс классов: *корректных комментариев* (класс `0`) более чем в 7 раз больше, чем *токсичных комментариев* (класс `1`). При сплитировании датасета необходимо выполнить стратификацию целевого признака;\n",
    "\n",
    "\n",
    "- самое популярное слово в корректных комментариях — `article` *(статья)*;\n",
    "\n",
    "\n",
    "- самое популярное слово в токсичных комментариях — `fuck` *(нецензурное слово)*; \n",
    "\n",
    "\n",
    "- средняя длина слова в токсичных и корректных комментариях одинакова и составляет 4 буквы;\n",
    "\n",
    "\n",
    "- средняя длина корректных комментариев превышает среднюю длину токсичных комментариев:\n",
    "     - в одном корректном комментарии в среднем содержится 36 слов\n",
    "     - в одном токсичном комментарии в среднем содержится 23 слова\n",
    "     \n",
    "\n",
    "- в корректных и токсичных комментариях встречаются аномально длинные слова и сами комментариии: это обусловлено наличием букв, слов или выражений, повторяющихся n-количество раз (как правило, люди зажимают одну клавишу или копируют выражение)"
   ]
  },
  {
   "cell_type": "markdown",
   "metadata": {},
   "source": [
    "## Обучение"
   ]
  },
  {
   "cell_type": "markdown",
   "metadata": {},
   "source": [
    "Разобьем данные на тренировочную и тестовую выборки."
   ]
  },
  {
   "cell_type": "code",
   "execution_count": 36,
   "metadata": {},
   "outputs": [],
   "source": [
    "# Сохраним входные признаки в переменную X\n",
    "X = df['corpus']"
   ]
  },
  {
   "cell_type": "code",
   "execution_count": 37,
   "metadata": {},
   "outputs": [],
   "source": [
    "# Сохраним целевой признак в переменную y\n",
    "y = df['toxic']"
   ]
  },
  {
   "cell_type": "code",
   "execution_count": 38,
   "metadata": {},
   "outputs": [],
   "source": [
    "# Разобьем данные на тренировочную и тестовую выборки\n",
    "X_train, X_test, y_train, y_test = train_test_split(\n",
    "    X, \n",
    "    y, \n",
    "    test_size = 0.25, \n",
    "    random_state = RANDOM_STATE, \n",
    "    stratify = y\n",
    ")"
   ]
  },
  {
   "cell_type": "markdown",
   "metadata": {},
   "source": [
    "### С помощью `OptunaSearchCV` и `Pipeline` подберем гиперпараметры для моделей и векторизации:\n",
    "\n",
    "- DecisionTreeClassifier\n",
    "- LogisticRegression\n",
    "\n",
    "Будем использовать метрику `F1`. Значение метрики качества `F1` лучшей модели должно быть не меньше 0.75."
   ]
  },
  {
   "cell_type": "markdown",
   "metadata": {},
   "source": [
    "**Подготовим пайплайн и параметры для `LogisticRegression`**"
   ]
  },
  {
   "cell_type": "code",
   "execution_count": 40,
   "metadata": {},
   "outputs": [],
   "source": [
    "# Пайплайн с TF-IDF и моделью LogisticRegression\n",
    "pipeline_lg = Pipeline([\n",
    "    ('tfidf', TfidfVectorizer()),\n",
    "    ('model', LogisticRegression(max_iter=1000, random_state=RANDOM_STATE))\n",
    "])"
   ]
  },
  {
   "cell_type": "code",
   "execution_count": 41,
   "metadata": {},
   "outputs": [],
   "source": [
    "# Параметры для Optuna\n",
    "parameters_lg = {\n",
    "    'tfidf__ngram_range': optuna.distributions.CategoricalDistribution([(1, 1), (1, 2), (1, 3)]),\n",
    "    'model__C': optuna.distributions.FloatDistribution(1e-5, 1e2)\n",
    "}"
   ]
  },
  {
   "cell_type": "code",
   "execution_count": 42,
   "metadata": {},
   "outputs": [],
   "source": [
    "# Инициализируем OptunaSearchCV\n",
    "oscv_lg = OptunaSearchCV(\n",
    "    pipeline_lg,\n",
    "    parameters_lg,\n",
    "    random_state=RANDOM_STATE,\n",
    "    cv=3,\n",
    "    scoring='f1',\n",
    "    n_trials=10\n",
    ") "
   ]
  },
  {
   "cell_type": "code",
   "execution_count": 43,
   "metadata": {},
   "outputs": [
    {
     "name": "stderr",
     "output_type": "stream",
     "text": [
      "[I 2025-09-09 12:43:36,199] A new study created in memory with name: no-name-0694f930-6ba5-4fba-9601-bd64ad3c084d\n",
      "[I 2025-09-09 12:47:40,179] Trial 0 finished with value: 0.7857260605353383 and parameters: {'tfidf__ngram_range': (1, 2), 'model__C': 31.944731909504224}. Best is trial 0 with value: 0.7857260605353383.\n",
      "[I 2025-09-09 12:49:46,023] Trial 1 finished with value: 0.7831956444866112 and parameters: {'tfidf__ngram_range': (1, 1), 'model__C': 16.674692129512426}. Best is trial 0 with value: 0.7857260605353383.\n",
      "[I 2025-09-09 12:57:34,192] Trial 2 finished with value: 0.7868255867342265 and parameters: {'tfidf__ngram_range': (1, 3), 'model__C': 99.92508604150088}. Best is trial 2 with value: 0.7868255867342265.\n",
      "[I 2025-09-09 12:59:34,135] Trial 3 finished with value: 0.7811383011107326 and parameters: {'tfidf__ngram_range': (1, 1), 'model__C': 47.27371888626828}. Best is trial 2 with value: 0.7868255867342265.\n",
      "[I 2025-09-09 13:04:13,286] Trial 4 finished with value: 0.790394473580089 and parameters: {'tfidf__ngram_range': (1, 2), 'model__C': 95.23800846099395}. Best is trial 4 with value: 0.790394473580089.\n",
      "[I 2025-09-09 13:08:32,646] Trial 5 finished with value: 0.7681300238923953 and parameters: {'tfidf__ngram_range': (1, 2), 'model__C': 9.084262685314483}. Best is trial 4 with value: 0.790394473580089.\n",
      "[I 2025-09-09 13:15:27,861] Trial 6 finished with value: 0.7863701017233365 and parameters: {'tfidf__ngram_range': (1, 3), 'model__C': 52.311060974063466}. Best is trial 4 with value: 0.790394473580089.\n",
      "[I 2025-09-09 13:19:23,111] Trial 7 finished with value: 0.7876610841328339 and parameters: {'tfidf__ngram_range': (1, 2), 'model__C': 53.70110329448587}. Best is trial 4 with value: 0.790394473580089.\n",
      "[I 2025-09-09 13:27:09,972] Trial 8 finished with value: 0.7280421916213152 and parameters: {'tfidf__ngram_range': (1, 3), 'model__C': 2.908285268750621}. Best is trial 4 with value: 0.790394473580089.\n",
      "[I 2025-09-09 13:31:09,534] Trial 9 finished with value: 0.7831437128018034 and parameters: {'tfidf__ngram_range': (1, 2), 'model__C': 24.249366991466264}. Best is trial 4 with value: 0.790394473580089.\n"
     ]
    },
    {
     "name": "stdout",
     "output_type": "stream",
     "text": [
      "CPU times: user 36min 34s, sys: 12min 5s, total: 48min 39s\n",
      "Wall time: 48min 45s\n",
      "Оптимальные гиперпараметры: {'tfidf__ngram_range': (1, 2), 'model__C': 95.23800846099395}\n",
      "\n",
      "Наилучшая метрика F1: 0.79\n"
     ]
    }
   ],
   "source": [
    "# Запускаем поиск гиперпараметров\n",
    "%time oscv_lg.fit(X_train, y_train)\n",
    "\n",
    "# Лучшие гиперпараметры\n",
    "print(f'Оптимальные гиперпараметры: {oscv_lg.best_params_}')\n",
    "\n",
    "# Лучшая метрику качества\n",
    "print(f'\\nНаилучшая метрика F1: {oscv_lg.best_score_:.2f}')"
   ]
  },
  {
   "cell_type": "markdown",
   "metadata": {},
   "source": [
    "В ходе иследования `Optuna` мы получили лучшую метрику `F1: 0.78` и следующие гиперпараметры:\n",
    "- `'tfidf__ngram_range': (1, 1)`, \n",
    "- `'model__C': 16.674692129512426`"
   ]
  },
  {
   "cell_type": "markdown",
   "metadata": {},
   "source": [
    "**Подготовим пайплайн и параметры для `DecisionTreeClassifier`**"
   ]
  },
  {
   "cell_type": "code",
   "execution_count": 44,
   "metadata": {},
   "outputs": [],
   "source": [
    "# Пайплайн с TF-IDF и моделью DecisionTreeClassifier\n",
    "pipeline_tree = Pipeline([\n",
    "    ('tfidf', TfidfVectorizer()),\n",
    "    ('model', DecisionTreeClassifier(random_state=RANDOM_STATE))\n",
    "])"
   ]
  },
  {
   "cell_type": "code",
   "execution_count": 45,
   "metadata": {},
   "outputs": [],
   "source": [
    "# Параметры для Optuna\n",
    "parameters_tree = {\n",
    "    'tfidf__ngram_range': optuna.distributions.CategoricalDistribution([(1, 1), (1, 2), (1, 3)]),\n",
    "    'model__max_depth': optuna.distributions.IntDistribution(2, 15),\n",
    "    'model__min_samples_split': optuna.distributions.IntDistribution(2, 10),\n",
    "    'model__min_samples_leaf': optuna.distributions.IntDistribution(1, 10)\n",
    "}"
   ]
  },
  {
   "cell_type": "code",
   "execution_count": 46,
   "metadata": {},
   "outputs": [],
   "source": [
    "# Инициализируем OptunaSearchCV\n",
    "oscv_tree = OptunaSearchCV(\n",
    "    pipeline_tree,\n",
    "    parameters_tree,\n",
    "    random_state=RANDOM_STATE,\n",
    "    cv=3,\n",
    "    scoring='f1',\n",
    "    n_trials=10\n",
    ") "
   ]
  },
  {
   "cell_type": "code",
   "execution_count": 47,
   "metadata": {},
   "outputs": [
    {
     "name": "stderr",
     "output_type": "stream",
     "text": [
      "[I 2025-09-09 13:32:21,598] A new study created in memory with name: no-name-6e4c87d2-b675-4268-add8-5661fcc8455c\n",
      "[I 2025-09-09 13:34:01,720] Trial 0 finished with value: 0.5362648417154087 and parameters: {'tfidf__ngram_range': (1, 2), 'model__max_depth': 6, 'model__min_samples_split': 6, 'model__min_samples_leaf': 3}. Best is trial 0 with value: 0.5362648417154087.\n",
      "[I 2025-09-09 13:34:29,452] Trial 1 finished with value: 0.5366031721512665 and parameters: {'tfidf__ngram_range': (1, 1), 'model__max_depth': 6, 'model__min_samples_split': 5, 'model__min_samples_leaf': 10}. Best is trial 1 with value: 0.5366031721512665.\n",
      "[I 2025-09-09 13:35:01,237] Trial 2 finished with value: 0.5694868779930666 and parameters: {'tfidf__ngram_range': (1, 1), 'model__max_depth': 8, 'model__min_samples_split': 9, 'model__min_samples_leaf': 10}. Best is trial 2 with value: 0.5694868779930666.\n",
      "[I 2025-09-09 13:37:54,394] Trial 3 finished with value: 0.622540469421167 and parameters: {'tfidf__ngram_range': (1, 2), 'model__max_depth': 14, 'model__min_samples_split': 9, 'model__min_samples_leaf': 1}. Best is trial 3 with value: 0.622540469421167.\n",
      "[I 2025-09-09 13:43:15,229] Trial 4 finished with value: 0.5914649712579645 and parameters: {'tfidf__ngram_range': (1, 3), 'model__max_depth': 9, 'model__min_samples_split': 2, 'model__min_samples_leaf': 8}. Best is trial 3 with value: 0.622540469421167.\n",
      "[I 2025-09-09 13:45:11,763] Trial 5 finished with value: 0.5626447736931963 and parameters: {'tfidf__ngram_range': (1, 2), 'model__max_depth': 7, 'model__min_samples_split': 8, 'model__min_samples_leaf': 1}. Best is trial 3 with value: 0.622540469421167.\n",
      "[I 2025-09-09 13:46:53,040] Trial 6 finished with value: 0.5084665965049503 and parameters: {'tfidf__ngram_range': (1, 2), 'model__max_depth': 5, 'model__min_samples_split': 4, 'model__min_samples_leaf': 7}. Best is trial 3 with value: 0.622540469421167.\n",
      "[I 2025-09-09 13:49:00,770] Trial 7 finished with value: 0.5861772380480161 and parameters: {'tfidf__ngram_range': (1, 2), 'model__max_depth': 9, 'model__min_samples_split': 6, 'model__min_samples_leaf': 5}. Best is trial 3 with value: 0.622540469421167.\n",
      "[I 2025-09-09 13:51:01,084] Trial 8 finished with value: 0.5695007042279551 and parameters: {'tfidf__ngram_range': (1, 2), 'model__max_depth': 8, 'model__min_samples_split': 7, 'model__min_samples_leaf': 4}. Best is trial 3 with value: 0.622540469421167.\n",
      "[I 2025-09-09 13:51:33,568] Trial 9 finished with value: 0.5694868779930666 and parameters: {'tfidf__ngram_range': (1, 1), 'model__max_depth': 8, 'model__min_samples_split': 3, 'model__min_samples_leaf': 10}. Best is trial 3 with value: 0.622540469421167.\n"
     ]
    },
    {
     "name": "stdout",
     "output_type": "stream",
     "text": [
      "CPU times: user 20min 25s, sys: 7.23 s, total: 20min 32s\n",
      "Wall time: 20min 35s\n",
      "Оптимальные гиперпараметры: {'tfidf__ngram_range': (1, 2), 'model__max_depth': 14, 'model__min_samples_split': 9, 'model__min_samples_leaf': 1}\n",
      "\n",
      "Наилучшая метрика F1: 0.62\n"
     ]
    }
   ],
   "source": [
    "# Запускаем поиск гиперпараметров\n",
    "%time oscv_tree.fit(X_train, y_train)\n",
    "\n",
    "# Лучшие гиперпараметры\n",
    "print(f'Оптимальные гиперпараметры: {oscv_tree.best_params_}')\n",
    "\n",
    "# Лучшая метрику качества\n",
    "print(f'\\nНаилучшая метрика F1: {oscv_tree.best_score_:.2f}')"
   ]
  },
  {
   "cell_type": "markdown",
   "metadata": {},
   "source": [
    "В ходе иследования `Optuna` мы получили лучшую метрику `F1: 0.62` и следующие гиперпараметры:\n",
    "- `'tfidf__ngram_range': (1, 2)` \n",
    "- `'model__max_depth': 14`\n",
    "- `'model__min_samples_split': 9`\n",
    "- `'model__min_samples_leaf': 1`"
   ]
  },
  {
   "cell_type": "markdown",
   "metadata": {},
   "source": [
    "Итак, в ходе иследования `Optuna` мы получили лучшую метрику `F1: 0.78` у модели `LogisticRegression (C = 16.674692129512426)` и методом векторизации `TfidfVectorizer(ngram_range': (1, 1))`. По условию задачи значение метрики качества `F1` должно быть `не меньше 0.75`.\n",
    "\n",
    "Модель `DecisionTreeClassifier` справилась значительно хуже и ее значение метрики `F1` не удовлетворяют наименьшему значению метрики по условию задачи."
   ]
  },
  {
   "cell_type": "markdown",
   "metadata": {},
   "source": [
    "### Проверим лучшую модель на тестовых данных"
   ]
  },
  {
   "cell_type": "code",
   "execution_count": 48,
   "metadata": {},
   "outputs": [
    {
     "data": {
      "text/html": [
       "<style>#sk-container-id-1 {\n",
       "  /* Definition of color scheme common for light and dark mode */\n",
       "  --sklearn-color-text: #000;\n",
       "  --sklearn-color-text-muted: #666;\n",
       "  --sklearn-color-line: gray;\n",
       "  /* Definition of color scheme for unfitted estimators */\n",
       "  --sklearn-color-unfitted-level-0: #fff5e6;\n",
       "  --sklearn-color-unfitted-level-1: #f6e4d2;\n",
       "  --sklearn-color-unfitted-level-2: #ffe0b3;\n",
       "  --sklearn-color-unfitted-level-3: chocolate;\n",
       "  /* Definition of color scheme for fitted estimators */\n",
       "  --sklearn-color-fitted-level-0: #f0f8ff;\n",
       "  --sklearn-color-fitted-level-1: #d4ebff;\n",
       "  --sklearn-color-fitted-level-2: #b3dbfd;\n",
       "  --sklearn-color-fitted-level-3: cornflowerblue;\n",
       "\n",
       "  /* Specific color for light theme */\n",
       "  --sklearn-color-text-on-default-background: var(--sg-text-color, var(--theme-code-foreground, var(--jp-content-font-color1, black)));\n",
       "  --sklearn-color-background: var(--sg-background-color, var(--theme-background, var(--jp-layout-color0, white)));\n",
       "  --sklearn-color-border-box: var(--sg-text-color, var(--theme-code-foreground, var(--jp-content-font-color1, black)));\n",
       "  --sklearn-color-icon: #696969;\n",
       "\n",
       "  @media (prefers-color-scheme: dark) {\n",
       "    /* Redefinition of color scheme for dark theme */\n",
       "    --sklearn-color-text-on-default-background: var(--sg-text-color, var(--theme-code-foreground, var(--jp-content-font-color1, white)));\n",
       "    --sklearn-color-background: var(--sg-background-color, var(--theme-background, var(--jp-layout-color0, #111)));\n",
       "    --sklearn-color-border-box: var(--sg-text-color, var(--theme-code-foreground, var(--jp-content-font-color1, white)));\n",
       "    --sklearn-color-icon: #878787;\n",
       "  }\n",
       "}\n",
       "\n",
       "#sk-container-id-1 {\n",
       "  color: var(--sklearn-color-text);\n",
       "}\n",
       "\n",
       "#sk-container-id-1 pre {\n",
       "  padding: 0;\n",
       "}\n",
       "\n",
       "#sk-container-id-1 input.sk-hidden--visually {\n",
       "  border: 0;\n",
       "  clip: rect(1px 1px 1px 1px);\n",
       "  clip: rect(1px, 1px, 1px, 1px);\n",
       "  height: 1px;\n",
       "  margin: -1px;\n",
       "  overflow: hidden;\n",
       "  padding: 0;\n",
       "  position: absolute;\n",
       "  width: 1px;\n",
       "}\n",
       "\n",
       "#sk-container-id-1 div.sk-dashed-wrapped {\n",
       "  border: 1px dashed var(--sklearn-color-line);\n",
       "  margin: 0 0.4em 0.5em 0.4em;\n",
       "  box-sizing: border-box;\n",
       "  padding-bottom: 0.4em;\n",
       "  background-color: var(--sklearn-color-background);\n",
       "}\n",
       "\n",
       "#sk-container-id-1 div.sk-container {\n",
       "  /* jupyter's `normalize.less` sets `[hidden] { display: none; }`\n",
       "     but bootstrap.min.css set `[hidden] { display: none !important; }`\n",
       "     so we also need the `!important` here to be able to override the\n",
       "     default hidden behavior on the sphinx rendered scikit-learn.org.\n",
       "     See: https://github.com/scikit-learn/scikit-learn/issues/21755 */\n",
       "  display: inline-block !important;\n",
       "  position: relative;\n",
       "}\n",
       "\n",
       "#sk-container-id-1 div.sk-text-repr-fallback {\n",
       "  display: none;\n",
       "}\n",
       "\n",
       "div.sk-parallel-item,\n",
       "div.sk-serial,\n",
       "div.sk-item {\n",
       "  /* draw centered vertical line to link estimators */\n",
       "  background-image: linear-gradient(var(--sklearn-color-text-on-default-background), var(--sklearn-color-text-on-default-background));\n",
       "  background-size: 2px 100%;\n",
       "  background-repeat: no-repeat;\n",
       "  background-position: center center;\n",
       "}\n",
       "\n",
       "/* Parallel-specific style estimator block */\n",
       "\n",
       "#sk-container-id-1 div.sk-parallel-item::after {\n",
       "  content: \"\";\n",
       "  width: 100%;\n",
       "  border-bottom: 2px solid var(--sklearn-color-text-on-default-background);\n",
       "  flex-grow: 1;\n",
       "}\n",
       "\n",
       "#sk-container-id-1 div.sk-parallel {\n",
       "  display: flex;\n",
       "  align-items: stretch;\n",
       "  justify-content: center;\n",
       "  background-color: var(--sklearn-color-background);\n",
       "  position: relative;\n",
       "}\n",
       "\n",
       "#sk-container-id-1 div.sk-parallel-item {\n",
       "  display: flex;\n",
       "  flex-direction: column;\n",
       "}\n",
       "\n",
       "#sk-container-id-1 div.sk-parallel-item:first-child::after {\n",
       "  align-self: flex-end;\n",
       "  width: 50%;\n",
       "}\n",
       "\n",
       "#sk-container-id-1 div.sk-parallel-item:last-child::after {\n",
       "  align-self: flex-start;\n",
       "  width: 50%;\n",
       "}\n",
       "\n",
       "#sk-container-id-1 div.sk-parallel-item:only-child::after {\n",
       "  width: 0;\n",
       "}\n",
       "\n",
       "/* Serial-specific style estimator block */\n",
       "\n",
       "#sk-container-id-1 div.sk-serial {\n",
       "  display: flex;\n",
       "  flex-direction: column;\n",
       "  align-items: center;\n",
       "  background-color: var(--sklearn-color-background);\n",
       "  padding-right: 1em;\n",
       "  padding-left: 1em;\n",
       "}\n",
       "\n",
       "\n",
       "/* Toggleable style: style used for estimator/Pipeline/ColumnTransformer box that is\n",
       "clickable and can be expanded/collapsed.\n",
       "- Pipeline and ColumnTransformer use this feature and define the default style\n",
       "- Estimators will overwrite some part of the style using the `sk-estimator` class\n",
       "*/\n",
       "\n",
       "/* Pipeline and ColumnTransformer style (default) */\n",
       "\n",
       "#sk-container-id-1 div.sk-toggleable {\n",
       "  /* Default theme specific background. It is overwritten whether we have a\n",
       "  specific estimator or a Pipeline/ColumnTransformer */\n",
       "  background-color: var(--sklearn-color-background);\n",
       "}\n",
       "\n",
       "/* Toggleable label */\n",
       "#sk-container-id-1 label.sk-toggleable__label {\n",
       "  cursor: pointer;\n",
       "  display: flex;\n",
       "  width: 100%;\n",
       "  margin-bottom: 0;\n",
       "  padding: 0.5em;\n",
       "  box-sizing: border-box;\n",
       "  text-align: center;\n",
       "  align-items: start;\n",
       "  justify-content: space-between;\n",
       "  gap: 0.5em;\n",
       "}\n",
       "\n",
       "#sk-container-id-1 label.sk-toggleable__label .caption {\n",
       "  font-size: 0.6rem;\n",
       "  font-weight: lighter;\n",
       "  color: var(--sklearn-color-text-muted);\n",
       "}\n",
       "\n",
       "#sk-container-id-1 label.sk-toggleable__label-arrow:before {\n",
       "  /* Arrow on the left of the label */\n",
       "  content: \"▸\";\n",
       "  float: left;\n",
       "  margin-right: 0.25em;\n",
       "  color: var(--sklearn-color-icon);\n",
       "}\n",
       "\n",
       "#sk-container-id-1 label.sk-toggleable__label-arrow:hover:before {\n",
       "  color: var(--sklearn-color-text);\n",
       "}\n",
       "\n",
       "/* Toggleable content - dropdown */\n",
       "\n",
       "#sk-container-id-1 div.sk-toggleable__content {\n",
       "  max-height: 0;\n",
       "  max-width: 0;\n",
       "  overflow: hidden;\n",
       "  text-align: left;\n",
       "  /* unfitted */\n",
       "  background-color: var(--sklearn-color-unfitted-level-0);\n",
       "}\n",
       "\n",
       "#sk-container-id-1 div.sk-toggleable__content.fitted {\n",
       "  /* fitted */\n",
       "  background-color: var(--sklearn-color-fitted-level-0);\n",
       "}\n",
       "\n",
       "#sk-container-id-1 div.sk-toggleable__content pre {\n",
       "  margin: 0.2em;\n",
       "  border-radius: 0.25em;\n",
       "  color: var(--sklearn-color-text);\n",
       "  /* unfitted */\n",
       "  background-color: var(--sklearn-color-unfitted-level-0);\n",
       "}\n",
       "\n",
       "#sk-container-id-1 div.sk-toggleable__content.fitted pre {\n",
       "  /* unfitted */\n",
       "  background-color: var(--sklearn-color-fitted-level-0);\n",
       "}\n",
       "\n",
       "#sk-container-id-1 input.sk-toggleable__control:checked~div.sk-toggleable__content {\n",
       "  /* Expand drop-down */\n",
       "  max-height: 200px;\n",
       "  max-width: 100%;\n",
       "  overflow: auto;\n",
       "}\n",
       "\n",
       "#sk-container-id-1 input.sk-toggleable__control:checked~label.sk-toggleable__label-arrow:before {\n",
       "  content: \"▾\";\n",
       "}\n",
       "\n",
       "/* Pipeline/ColumnTransformer-specific style */\n",
       "\n",
       "#sk-container-id-1 div.sk-label input.sk-toggleable__control:checked~label.sk-toggleable__label {\n",
       "  color: var(--sklearn-color-text);\n",
       "  background-color: var(--sklearn-color-unfitted-level-2);\n",
       "}\n",
       "\n",
       "#sk-container-id-1 div.sk-label.fitted input.sk-toggleable__control:checked~label.sk-toggleable__label {\n",
       "  background-color: var(--sklearn-color-fitted-level-2);\n",
       "}\n",
       "\n",
       "/* Estimator-specific style */\n",
       "\n",
       "/* Colorize estimator box */\n",
       "#sk-container-id-1 div.sk-estimator input.sk-toggleable__control:checked~label.sk-toggleable__label {\n",
       "  /* unfitted */\n",
       "  background-color: var(--sklearn-color-unfitted-level-2);\n",
       "}\n",
       "\n",
       "#sk-container-id-1 div.sk-estimator.fitted input.sk-toggleable__control:checked~label.sk-toggleable__label {\n",
       "  /* fitted */\n",
       "  background-color: var(--sklearn-color-fitted-level-2);\n",
       "}\n",
       "\n",
       "#sk-container-id-1 div.sk-label label.sk-toggleable__label,\n",
       "#sk-container-id-1 div.sk-label label {\n",
       "  /* The background is the default theme color */\n",
       "  color: var(--sklearn-color-text-on-default-background);\n",
       "}\n",
       "\n",
       "/* On hover, darken the color of the background */\n",
       "#sk-container-id-1 div.sk-label:hover label.sk-toggleable__label {\n",
       "  color: var(--sklearn-color-text);\n",
       "  background-color: var(--sklearn-color-unfitted-level-2);\n",
       "}\n",
       "\n",
       "/* Label box, darken color on hover, fitted */\n",
       "#sk-container-id-1 div.sk-label.fitted:hover label.sk-toggleable__label.fitted {\n",
       "  color: var(--sklearn-color-text);\n",
       "  background-color: var(--sklearn-color-fitted-level-2);\n",
       "}\n",
       "\n",
       "/* Estimator label */\n",
       "\n",
       "#sk-container-id-1 div.sk-label label {\n",
       "  font-family: monospace;\n",
       "  font-weight: bold;\n",
       "  display: inline-block;\n",
       "  line-height: 1.2em;\n",
       "}\n",
       "\n",
       "#sk-container-id-1 div.sk-label-container {\n",
       "  text-align: center;\n",
       "}\n",
       "\n",
       "/* Estimator-specific */\n",
       "#sk-container-id-1 div.sk-estimator {\n",
       "  font-family: monospace;\n",
       "  border: 1px dotted var(--sklearn-color-border-box);\n",
       "  border-radius: 0.25em;\n",
       "  box-sizing: border-box;\n",
       "  margin-bottom: 0.5em;\n",
       "  /* unfitted */\n",
       "  background-color: var(--sklearn-color-unfitted-level-0);\n",
       "}\n",
       "\n",
       "#sk-container-id-1 div.sk-estimator.fitted {\n",
       "  /* fitted */\n",
       "  background-color: var(--sklearn-color-fitted-level-0);\n",
       "}\n",
       "\n",
       "/* on hover */\n",
       "#sk-container-id-1 div.sk-estimator:hover {\n",
       "  /* unfitted */\n",
       "  background-color: var(--sklearn-color-unfitted-level-2);\n",
       "}\n",
       "\n",
       "#sk-container-id-1 div.sk-estimator.fitted:hover {\n",
       "  /* fitted */\n",
       "  background-color: var(--sklearn-color-fitted-level-2);\n",
       "}\n",
       "\n",
       "/* Specification for estimator info (e.g. \"i\" and \"?\") */\n",
       "\n",
       "/* Common style for \"i\" and \"?\" */\n",
       "\n",
       ".sk-estimator-doc-link,\n",
       "a:link.sk-estimator-doc-link,\n",
       "a:visited.sk-estimator-doc-link {\n",
       "  float: right;\n",
       "  font-size: smaller;\n",
       "  line-height: 1em;\n",
       "  font-family: monospace;\n",
       "  background-color: var(--sklearn-color-background);\n",
       "  border-radius: 1em;\n",
       "  height: 1em;\n",
       "  width: 1em;\n",
       "  text-decoration: none !important;\n",
       "  margin-left: 0.5em;\n",
       "  text-align: center;\n",
       "  /* unfitted */\n",
       "  border: var(--sklearn-color-unfitted-level-1) 1pt solid;\n",
       "  color: var(--sklearn-color-unfitted-level-1);\n",
       "}\n",
       "\n",
       ".sk-estimator-doc-link.fitted,\n",
       "a:link.sk-estimator-doc-link.fitted,\n",
       "a:visited.sk-estimator-doc-link.fitted {\n",
       "  /* fitted */\n",
       "  border: var(--sklearn-color-fitted-level-1) 1pt solid;\n",
       "  color: var(--sklearn-color-fitted-level-1);\n",
       "}\n",
       "\n",
       "/* On hover */\n",
       "div.sk-estimator:hover .sk-estimator-doc-link:hover,\n",
       ".sk-estimator-doc-link:hover,\n",
       "div.sk-label-container:hover .sk-estimator-doc-link:hover,\n",
       ".sk-estimator-doc-link:hover {\n",
       "  /* unfitted */\n",
       "  background-color: var(--sklearn-color-unfitted-level-3);\n",
       "  color: var(--sklearn-color-background);\n",
       "  text-decoration: none;\n",
       "}\n",
       "\n",
       "div.sk-estimator.fitted:hover .sk-estimator-doc-link.fitted:hover,\n",
       ".sk-estimator-doc-link.fitted:hover,\n",
       "div.sk-label-container:hover .sk-estimator-doc-link.fitted:hover,\n",
       ".sk-estimator-doc-link.fitted:hover {\n",
       "  /* fitted */\n",
       "  background-color: var(--sklearn-color-fitted-level-3);\n",
       "  color: var(--sklearn-color-background);\n",
       "  text-decoration: none;\n",
       "}\n",
       "\n",
       "/* Span, style for the box shown on hovering the info icon */\n",
       ".sk-estimator-doc-link span {\n",
       "  display: none;\n",
       "  z-index: 9999;\n",
       "  position: relative;\n",
       "  font-weight: normal;\n",
       "  right: .2ex;\n",
       "  padding: .5ex;\n",
       "  margin: .5ex;\n",
       "  width: min-content;\n",
       "  min-width: 20ex;\n",
       "  max-width: 50ex;\n",
       "  color: var(--sklearn-color-text);\n",
       "  box-shadow: 2pt 2pt 4pt #999;\n",
       "  /* unfitted */\n",
       "  background: var(--sklearn-color-unfitted-level-0);\n",
       "  border: .5pt solid var(--sklearn-color-unfitted-level-3);\n",
       "}\n",
       "\n",
       ".sk-estimator-doc-link.fitted span {\n",
       "  /* fitted */\n",
       "  background: var(--sklearn-color-fitted-level-0);\n",
       "  border: var(--sklearn-color-fitted-level-3);\n",
       "}\n",
       "\n",
       ".sk-estimator-doc-link:hover span {\n",
       "  display: block;\n",
       "}\n",
       "\n",
       "/* \"?\"-specific style due to the `<a>` HTML tag */\n",
       "\n",
       "#sk-container-id-1 a.estimator_doc_link {\n",
       "  float: right;\n",
       "  font-size: 1rem;\n",
       "  line-height: 1em;\n",
       "  font-family: monospace;\n",
       "  background-color: var(--sklearn-color-background);\n",
       "  border-radius: 1rem;\n",
       "  height: 1rem;\n",
       "  width: 1rem;\n",
       "  text-decoration: none;\n",
       "  /* unfitted */\n",
       "  color: var(--sklearn-color-unfitted-level-1);\n",
       "  border: var(--sklearn-color-unfitted-level-1) 1pt solid;\n",
       "}\n",
       "\n",
       "#sk-container-id-1 a.estimator_doc_link.fitted {\n",
       "  /* fitted */\n",
       "  border: var(--sklearn-color-fitted-level-1) 1pt solid;\n",
       "  color: var(--sklearn-color-fitted-level-1);\n",
       "}\n",
       "\n",
       "/* On hover */\n",
       "#sk-container-id-1 a.estimator_doc_link:hover {\n",
       "  /* unfitted */\n",
       "  background-color: var(--sklearn-color-unfitted-level-3);\n",
       "  color: var(--sklearn-color-background);\n",
       "  text-decoration: none;\n",
       "}\n",
       "\n",
       "#sk-container-id-1 a.estimator_doc_link.fitted:hover {\n",
       "  /* fitted */\n",
       "  background-color: var(--sklearn-color-fitted-level-3);\n",
       "}\n",
       "</style><div id=\"sk-container-id-1\" class=\"sk-top-container\"><div class=\"sk-text-repr-fallback\"><pre>Pipeline(steps=[(&#x27;tfidf&#x27;, TfidfVectorizer(ngram_range=(1, 2))),\n",
       "                (&#x27;model&#x27;,\n",
       "                 LogisticRegression(C=95.23800846099395, max_iter=1000,\n",
       "                                    random_state=42))])</pre><b>In a Jupyter environment, please rerun this cell to show the HTML representation or trust the notebook. <br />On GitHub, the HTML representation is unable to render, please try loading this page with nbviewer.org.</b></div><div class=\"sk-container\" hidden><div class=\"sk-item sk-dashed-wrapped\"><div class=\"sk-label-container\"><div class=\"sk-label fitted sk-toggleable\"><input class=\"sk-toggleable__control sk-hidden--visually\" id=\"sk-estimator-id-1\" type=\"checkbox\" ><label for=\"sk-estimator-id-1\" class=\"sk-toggleable__label fitted sk-toggleable__label-arrow\"><div><div>Pipeline</div></div><div><a class=\"sk-estimator-doc-link fitted\" rel=\"noreferrer\" target=\"_blank\" href=\"https://scikit-learn.org/1.6/modules/generated/sklearn.pipeline.Pipeline.html\">?<span>Documentation for Pipeline</span></a><span class=\"sk-estimator-doc-link fitted\">i<span>Fitted</span></span></div></label><div class=\"sk-toggleable__content fitted\"><pre>Pipeline(steps=[(&#x27;tfidf&#x27;, TfidfVectorizer(ngram_range=(1, 2))),\n",
       "                (&#x27;model&#x27;,\n",
       "                 LogisticRegression(C=95.23800846099395, max_iter=1000,\n",
       "                                    random_state=42))])</pre></div> </div></div><div class=\"sk-serial\"><div class=\"sk-item\"><div class=\"sk-estimator fitted sk-toggleable\"><input class=\"sk-toggleable__control sk-hidden--visually\" id=\"sk-estimator-id-2\" type=\"checkbox\" ><label for=\"sk-estimator-id-2\" class=\"sk-toggleable__label fitted sk-toggleable__label-arrow\"><div><div>TfidfVectorizer</div></div><div><a class=\"sk-estimator-doc-link fitted\" rel=\"noreferrer\" target=\"_blank\" href=\"https://scikit-learn.org/1.6/modules/generated/sklearn.feature_extraction.text.TfidfVectorizer.html\">?<span>Documentation for TfidfVectorizer</span></a></div></label><div class=\"sk-toggleable__content fitted\"><pre>TfidfVectorizer(ngram_range=(1, 2))</pre></div> </div></div><div class=\"sk-item\"><div class=\"sk-estimator fitted sk-toggleable\"><input class=\"sk-toggleable__control sk-hidden--visually\" id=\"sk-estimator-id-3\" type=\"checkbox\" ><label for=\"sk-estimator-id-3\" class=\"sk-toggleable__label fitted sk-toggleable__label-arrow\"><div><div>LogisticRegression</div></div><div><a class=\"sk-estimator-doc-link fitted\" rel=\"noreferrer\" target=\"_blank\" href=\"https://scikit-learn.org/1.6/modules/generated/sklearn.linear_model.LogisticRegression.html\">?<span>Documentation for LogisticRegression</span></a></div></label><div class=\"sk-toggleable__content fitted\"><pre>LogisticRegression(C=95.23800846099395, max_iter=1000, random_state=42)</pre></div> </div></div></div></div></div></div>"
      ],
      "text/plain": [
       "Pipeline(steps=[('tfidf', TfidfVectorizer(ngram_range=(1, 2))),\n",
       "                ('model',\n",
       "                 LogisticRegression(C=95.23800846099395, max_iter=1000,\n",
       "                                    random_state=42))])"
      ]
     },
     "execution_count": 48,
     "metadata": {},
     "output_type": "execute_result"
    }
   ],
   "source": [
    "# Сохраним параметры лучшей модели\n",
    "best_model = oscv_lg.best_estimator_\n",
    "\n",
    "best_model"
   ]
  },
  {
   "cell_type": "code",
   "execution_count": 49,
   "metadata": {},
   "outputs": [
    {
     "name": "stdout",
     "output_type": "stream",
     "text": [
      "Оценка F1 на тестовой выборке: 0.80\n"
     ]
    }
   ],
   "source": [
    "# Оценим модель LogisticRegression на тестовых данных\n",
    "print(f'Оценка F1 на тестовой выборке: {f1_score(best_model.predict(X_test), y_test):.2f}')"
   ]
  },
  {
   "cell_type": "markdown",
   "metadata": {},
   "source": [
    "Проверим нашу лучшую модель на адекватность, сравнив качество её предсказаний с качеством константной модели `DummyClassifier`."
   ]
  },
  {
   "cell_type": "code",
   "execution_count": 50,
   "metadata": {},
   "outputs": [
    {
     "data": {
      "text/html": [
       "<style>#sk-container-id-2 {\n",
       "  /* Definition of color scheme common for light and dark mode */\n",
       "  --sklearn-color-text: #000;\n",
       "  --sklearn-color-text-muted: #666;\n",
       "  --sklearn-color-line: gray;\n",
       "  /* Definition of color scheme for unfitted estimators */\n",
       "  --sklearn-color-unfitted-level-0: #fff5e6;\n",
       "  --sklearn-color-unfitted-level-1: #f6e4d2;\n",
       "  --sklearn-color-unfitted-level-2: #ffe0b3;\n",
       "  --sklearn-color-unfitted-level-3: chocolate;\n",
       "  /* Definition of color scheme for fitted estimators */\n",
       "  --sklearn-color-fitted-level-0: #f0f8ff;\n",
       "  --sklearn-color-fitted-level-1: #d4ebff;\n",
       "  --sklearn-color-fitted-level-2: #b3dbfd;\n",
       "  --sklearn-color-fitted-level-3: cornflowerblue;\n",
       "\n",
       "  /* Specific color for light theme */\n",
       "  --sklearn-color-text-on-default-background: var(--sg-text-color, var(--theme-code-foreground, var(--jp-content-font-color1, black)));\n",
       "  --sklearn-color-background: var(--sg-background-color, var(--theme-background, var(--jp-layout-color0, white)));\n",
       "  --sklearn-color-border-box: var(--sg-text-color, var(--theme-code-foreground, var(--jp-content-font-color1, black)));\n",
       "  --sklearn-color-icon: #696969;\n",
       "\n",
       "  @media (prefers-color-scheme: dark) {\n",
       "    /* Redefinition of color scheme for dark theme */\n",
       "    --sklearn-color-text-on-default-background: var(--sg-text-color, var(--theme-code-foreground, var(--jp-content-font-color1, white)));\n",
       "    --sklearn-color-background: var(--sg-background-color, var(--theme-background, var(--jp-layout-color0, #111)));\n",
       "    --sklearn-color-border-box: var(--sg-text-color, var(--theme-code-foreground, var(--jp-content-font-color1, white)));\n",
       "    --sklearn-color-icon: #878787;\n",
       "  }\n",
       "}\n",
       "\n",
       "#sk-container-id-2 {\n",
       "  color: var(--sklearn-color-text);\n",
       "}\n",
       "\n",
       "#sk-container-id-2 pre {\n",
       "  padding: 0;\n",
       "}\n",
       "\n",
       "#sk-container-id-2 input.sk-hidden--visually {\n",
       "  border: 0;\n",
       "  clip: rect(1px 1px 1px 1px);\n",
       "  clip: rect(1px, 1px, 1px, 1px);\n",
       "  height: 1px;\n",
       "  margin: -1px;\n",
       "  overflow: hidden;\n",
       "  padding: 0;\n",
       "  position: absolute;\n",
       "  width: 1px;\n",
       "}\n",
       "\n",
       "#sk-container-id-2 div.sk-dashed-wrapped {\n",
       "  border: 1px dashed var(--sklearn-color-line);\n",
       "  margin: 0 0.4em 0.5em 0.4em;\n",
       "  box-sizing: border-box;\n",
       "  padding-bottom: 0.4em;\n",
       "  background-color: var(--sklearn-color-background);\n",
       "}\n",
       "\n",
       "#sk-container-id-2 div.sk-container {\n",
       "  /* jupyter's `normalize.less` sets `[hidden] { display: none; }`\n",
       "     but bootstrap.min.css set `[hidden] { display: none !important; }`\n",
       "     so we also need the `!important` here to be able to override the\n",
       "     default hidden behavior on the sphinx rendered scikit-learn.org.\n",
       "     See: https://github.com/scikit-learn/scikit-learn/issues/21755 */\n",
       "  display: inline-block !important;\n",
       "  position: relative;\n",
       "}\n",
       "\n",
       "#sk-container-id-2 div.sk-text-repr-fallback {\n",
       "  display: none;\n",
       "}\n",
       "\n",
       "div.sk-parallel-item,\n",
       "div.sk-serial,\n",
       "div.sk-item {\n",
       "  /* draw centered vertical line to link estimators */\n",
       "  background-image: linear-gradient(var(--sklearn-color-text-on-default-background), var(--sklearn-color-text-on-default-background));\n",
       "  background-size: 2px 100%;\n",
       "  background-repeat: no-repeat;\n",
       "  background-position: center center;\n",
       "}\n",
       "\n",
       "/* Parallel-specific style estimator block */\n",
       "\n",
       "#sk-container-id-2 div.sk-parallel-item::after {\n",
       "  content: \"\";\n",
       "  width: 100%;\n",
       "  border-bottom: 2px solid var(--sklearn-color-text-on-default-background);\n",
       "  flex-grow: 1;\n",
       "}\n",
       "\n",
       "#sk-container-id-2 div.sk-parallel {\n",
       "  display: flex;\n",
       "  align-items: stretch;\n",
       "  justify-content: center;\n",
       "  background-color: var(--sklearn-color-background);\n",
       "  position: relative;\n",
       "}\n",
       "\n",
       "#sk-container-id-2 div.sk-parallel-item {\n",
       "  display: flex;\n",
       "  flex-direction: column;\n",
       "}\n",
       "\n",
       "#sk-container-id-2 div.sk-parallel-item:first-child::after {\n",
       "  align-self: flex-end;\n",
       "  width: 50%;\n",
       "}\n",
       "\n",
       "#sk-container-id-2 div.sk-parallel-item:last-child::after {\n",
       "  align-self: flex-start;\n",
       "  width: 50%;\n",
       "}\n",
       "\n",
       "#sk-container-id-2 div.sk-parallel-item:only-child::after {\n",
       "  width: 0;\n",
       "}\n",
       "\n",
       "/* Serial-specific style estimator block */\n",
       "\n",
       "#sk-container-id-2 div.sk-serial {\n",
       "  display: flex;\n",
       "  flex-direction: column;\n",
       "  align-items: center;\n",
       "  background-color: var(--sklearn-color-background);\n",
       "  padding-right: 1em;\n",
       "  padding-left: 1em;\n",
       "}\n",
       "\n",
       "\n",
       "/* Toggleable style: style used for estimator/Pipeline/ColumnTransformer box that is\n",
       "clickable and can be expanded/collapsed.\n",
       "- Pipeline and ColumnTransformer use this feature and define the default style\n",
       "- Estimators will overwrite some part of the style using the `sk-estimator` class\n",
       "*/\n",
       "\n",
       "/* Pipeline and ColumnTransformer style (default) */\n",
       "\n",
       "#sk-container-id-2 div.sk-toggleable {\n",
       "  /* Default theme specific background. It is overwritten whether we have a\n",
       "  specific estimator or a Pipeline/ColumnTransformer */\n",
       "  background-color: var(--sklearn-color-background);\n",
       "}\n",
       "\n",
       "/* Toggleable label */\n",
       "#sk-container-id-2 label.sk-toggleable__label {\n",
       "  cursor: pointer;\n",
       "  display: flex;\n",
       "  width: 100%;\n",
       "  margin-bottom: 0;\n",
       "  padding: 0.5em;\n",
       "  box-sizing: border-box;\n",
       "  text-align: center;\n",
       "  align-items: start;\n",
       "  justify-content: space-between;\n",
       "  gap: 0.5em;\n",
       "}\n",
       "\n",
       "#sk-container-id-2 label.sk-toggleable__label .caption {\n",
       "  font-size: 0.6rem;\n",
       "  font-weight: lighter;\n",
       "  color: var(--sklearn-color-text-muted);\n",
       "}\n",
       "\n",
       "#sk-container-id-2 label.sk-toggleable__label-arrow:before {\n",
       "  /* Arrow on the left of the label */\n",
       "  content: \"▸\";\n",
       "  float: left;\n",
       "  margin-right: 0.25em;\n",
       "  color: var(--sklearn-color-icon);\n",
       "}\n",
       "\n",
       "#sk-container-id-2 label.sk-toggleable__label-arrow:hover:before {\n",
       "  color: var(--sklearn-color-text);\n",
       "}\n",
       "\n",
       "/* Toggleable content - dropdown */\n",
       "\n",
       "#sk-container-id-2 div.sk-toggleable__content {\n",
       "  max-height: 0;\n",
       "  max-width: 0;\n",
       "  overflow: hidden;\n",
       "  text-align: left;\n",
       "  /* unfitted */\n",
       "  background-color: var(--sklearn-color-unfitted-level-0);\n",
       "}\n",
       "\n",
       "#sk-container-id-2 div.sk-toggleable__content.fitted {\n",
       "  /* fitted */\n",
       "  background-color: var(--sklearn-color-fitted-level-0);\n",
       "}\n",
       "\n",
       "#sk-container-id-2 div.sk-toggleable__content pre {\n",
       "  margin: 0.2em;\n",
       "  border-radius: 0.25em;\n",
       "  color: var(--sklearn-color-text);\n",
       "  /* unfitted */\n",
       "  background-color: var(--sklearn-color-unfitted-level-0);\n",
       "}\n",
       "\n",
       "#sk-container-id-2 div.sk-toggleable__content.fitted pre {\n",
       "  /* unfitted */\n",
       "  background-color: var(--sklearn-color-fitted-level-0);\n",
       "}\n",
       "\n",
       "#sk-container-id-2 input.sk-toggleable__control:checked~div.sk-toggleable__content {\n",
       "  /* Expand drop-down */\n",
       "  max-height: 200px;\n",
       "  max-width: 100%;\n",
       "  overflow: auto;\n",
       "}\n",
       "\n",
       "#sk-container-id-2 input.sk-toggleable__control:checked~label.sk-toggleable__label-arrow:before {\n",
       "  content: \"▾\";\n",
       "}\n",
       "\n",
       "/* Pipeline/ColumnTransformer-specific style */\n",
       "\n",
       "#sk-container-id-2 div.sk-label input.sk-toggleable__control:checked~label.sk-toggleable__label {\n",
       "  color: var(--sklearn-color-text);\n",
       "  background-color: var(--sklearn-color-unfitted-level-2);\n",
       "}\n",
       "\n",
       "#sk-container-id-2 div.sk-label.fitted input.sk-toggleable__control:checked~label.sk-toggleable__label {\n",
       "  background-color: var(--sklearn-color-fitted-level-2);\n",
       "}\n",
       "\n",
       "/* Estimator-specific style */\n",
       "\n",
       "/* Colorize estimator box */\n",
       "#sk-container-id-2 div.sk-estimator input.sk-toggleable__control:checked~label.sk-toggleable__label {\n",
       "  /* unfitted */\n",
       "  background-color: var(--sklearn-color-unfitted-level-2);\n",
       "}\n",
       "\n",
       "#sk-container-id-2 div.sk-estimator.fitted input.sk-toggleable__control:checked~label.sk-toggleable__label {\n",
       "  /* fitted */\n",
       "  background-color: var(--sklearn-color-fitted-level-2);\n",
       "}\n",
       "\n",
       "#sk-container-id-2 div.sk-label label.sk-toggleable__label,\n",
       "#sk-container-id-2 div.sk-label label {\n",
       "  /* The background is the default theme color */\n",
       "  color: var(--sklearn-color-text-on-default-background);\n",
       "}\n",
       "\n",
       "/* On hover, darken the color of the background */\n",
       "#sk-container-id-2 div.sk-label:hover label.sk-toggleable__label {\n",
       "  color: var(--sklearn-color-text);\n",
       "  background-color: var(--sklearn-color-unfitted-level-2);\n",
       "}\n",
       "\n",
       "/* Label box, darken color on hover, fitted */\n",
       "#sk-container-id-2 div.sk-label.fitted:hover label.sk-toggleable__label.fitted {\n",
       "  color: var(--sklearn-color-text);\n",
       "  background-color: var(--sklearn-color-fitted-level-2);\n",
       "}\n",
       "\n",
       "/* Estimator label */\n",
       "\n",
       "#sk-container-id-2 div.sk-label label {\n",
       "  font-family: monospace;\n",
       "  font-weight: bold;\n",
       "  display: inline-block;\n",
       "  line-height: 1.2em;\n",
       "}\n",
       "\n",
       "#sk-container-id-2 div.sk-label-container {\n",
       "  text-align: center;\n",
       "}\n",
       "\n",
       "/* Estimator-specific */\n",
       "#sk-container-id-2 div.sk-estimator {\n",
       "  font-family: monospace;\n",
       "  border: 1px dotted var(--sklearn-color-border-box);\n",
       "  border-radius: 0.25em;\n",
       "  box-sizing: border-box;\n",
       "  margin-bottom: 0.5em;\n",
       "  /* unfitted */\n",
       "  background-color: var(--sklearn-color-unfitted-level-0);\n",
       "}\n",
       "\n",
       "#sk-container-id-2 div.sk-estimator.fitted {\n",
       "  /* fitted */\n",
       "  background-color: var(--sklearn-color-fitted-level-0);\n",
       "}\n",
       "\n",
       "/* on hover */\n",
       "#sk-container-id-2 div.sk-estimator:hover {\n",
       "  /* unfitted */\n",
       "  background-color: var(--sklearn-color-unfitted-level-2);\n",
       "}\n",
       "\n",
       "#sk-container-id-2 div.sk-estimator.fitted:hover {\n",
       "  /* fitted */\n",
       "  background-color: var(--sklearn-color-fitted-level-2);\n",
       "}\n",
       "\n",
       "/* Specification for estimator info (e.g. \"i\" and \"?\") */\n",
       "\n",
       "/* Common style for \"i\" and \"?\" */\n",
       "\n",
       ".sk-estimator-doc-link,\n",
       "a:link.sk-estimator-doc-link,\n",
       "a:visited.sk-estimator-doc-link {\n",
       "  float: right;\n",
       "  font-size: smaller;\n",
       "  line-height: 1em;\n",
       "  font-family: monospace;\n",
       "  background-color: var(--sklearn-color-background);\n",
       "  border-radius: 1em;\n",
       "  height: 1em;\n",
       "  width: 1em;\n",
       "  text-decoration: none !important;\n",
       "  margin-left: 0.5em;\n",
       "  text-align: center;\n",
       "  /* unfitted */\n",
       "  border: var(--sklearn-color-unfitted-level-1) 1pt solid;\n",
       "  color: var(--sklearn-color-unfitted-level-1);\n",
       "}\n",
       "\n",
       ".sk-estimator-doc-link.fitted,\n",
       "a:link.sk-estimator-doc-link.fitted,\n",
       "a:visited.sk-estimator-doc-link.fitted {\n",
       "  /* fitted */\n",
       "  border: var(--sklearn-color-fitted-level-1) 1pt solid;\n",
       "  color: var(--sklearn-color-fitted-level-1);\n",
       "}\n",
       "\n",
       "/* On hover */\n",
       "div.sk-estimator:hover .sk-estimator-doc-link:hover,\n",
       ".sk-estimator-doc-link:hover,\n",
       "div.sk-label-container:hover .sk-estimator-doc-link:hover,\n",
       ".sk-estimator-doc-link:hover {\n",
       "  /* unfitted */\n",
       "  background-color: var(--sklearn-color-unfitted-level-3);\n",
       "  color: var(--sklearn-color-background);\n",
       "  text-decoration: none;\n",
       "}\n",
       "\n",
       "div.sk-estimator.fitted:hover .sk-estimator-doc-link.fitted:hover,\n",
       ".sk-estimator-doc-link.fitted:hover,\n",
       "div.sk-label-container:hover .sk-estimator-doc-link.fitted:hover,\n",
       ".sk-estimator-doc-link.fitted:hover {\n",
       "  /* fitted */\n",
       "  background-color: var(--sklearn-color-fitted-level-3);\n",
       "  color: var(--sklearn-color-background);\n",
       "  text-decoration: none;\n",
       "}\n",
       "\n",
       "/* Span, style for the box shown on hovering the info icon */\n",
       ".sk-estimator-doc-link span {\n",
       "  display: none;\n",
       "  z-index: 9999;\n",
       "  position: relative;\n",
       "  font-weight: normal;\n",
       "  right: .2ex;\n",
       "  padding: .5ex;\n",
       "  margin: .5ex;\n",
       "  width: min-content;\n",
       "  min-width: 20ex;\n",
       "  max-width: 50ex;\n",
       "  color: var(--sklearn-color-text);\n",
       "  box-shadow: 2pt 2pt 4pt #999;\n",
       "  /* unfitted */\n",
       "  background: var(--sklearn-color-unfitted-level-0);\n",
       "  border: .5pt solid var(--sklearn-color-unfitted-level-3);\n",
       "}\n",
       "\n",
       ".sk-estimator-doc-link.fitted span {\n",
       "  /* fitted */\n",
       "  background: var(--sklearn-color-fitted-level-0);\n",
       "  border: var(--sklearn-color-fitted-level-3);\n",
       "}\n",
       "\n",
       ".sk-estimator-doc-link:hover span {\n",
       "  display: block;\n",
       "}\n",
       "\n",
       "/* \"?\"-specific style due to the `<a>` HTML tag */\n",
       "\n",
       "#sk-container-id-2 a.estimator_doc_link {\n",
       "  float: right;\n",
       "  font-size: 1rem;\n",
       "  line-height: 1em;\n",
       "  font-family: monospace;\n",
       "  background-color: var(--sklearn-color-background);\n",
       "  border-radius: 1rem;\n",
       "  height: 1rem;\n",
       "  width: 1rem;\n",
       "  text-decoration: none;\n",
       "  /* unfitted */\n",
       "  color: var(--sklearn-color-unfitted-level-1);\n",
       "  border: var(--sklearn-color-unfitted-level-1) 1pt solid;\n",
       "}\n",
       "\n",
       "#sk-container-id-2 a.estimator_doc_link.fitted {\n",
       "  /* fitted */\n",
       "  border: var(--sklearn-color-fitted-level-1) 1pt solid;\n",
       "  color: var(--sklearn-color-fitted-level-1);\n",
       "}\n",
       "\n",
       "/* On hover */\n",
       "#sk-container-id-2 a.estimator_doc_link:hover {\n",
       "  /* unfitted */\n",
       "  background-color: var(--sklearn-color-unfitted-level-3);\n",
       "  color: var(--sklearn-color-background);\n",
       "  text-decoration: none;\n",
       "}\n",
       "\n",
       "#sk-container-id-2 a.estimator_doc_link.fitted:hover {\n",
       "  /* fitted */\n",
       "  background-color: var(--sklearn-color-fitted-level-3);\n",
       "}\n",
       "</style><div id=\"sk-container-id-2\" class=\"sk-top-container\"><div class=\"sk-text-repr-fallback\"><pre>DummyClassifier(constant=1, strategy=&#x27;constant&#x27;)</pre><b>In a Jupyter environment, please rerun this cell to show the HTML representation or trust the notebook. <br />On GitHub, the HTML representation is unable to render, please try loading this page with nbviewer.org.</b></div><div class=\"sk-container\" hidden><div class=\"sk-item\"><div class=\"sk-estimator fitted sk-toggleable\"><input class=\"sk-toggleable__control sk-hidden--visually\" id=\"sk-estimator-id-4\" type=\"checkbox\" checked><label for=\"sk-estimator-id-4\" class=\"sk-toggleable__label fitted sk-toggleable__label-arrow\"><div><div>DummyClassifier</div></div><div><a class=\"sk-estimator-doc-link fitted\" rel=\"noreferrer\" target=\"_blank\" href=\"https://scikit-learn.org/1.6/modules/generated/sklearn.dummy.DummyClassifier.html\">?<span>Documentation for DummyClassifier</span></a><span class=\"sk-estimator-doc-link fitted\">i<span>Fitted</span></span></div></label><div class=\"sk-toggleable__content fitted\"><pre>DummyClassifier(constant=1, strategy=&#x27;constant&#x27;)</pre></div> </div></div></div></div>"
      ],
      "text/plain": [
       "DummyClassifier(constant=1, strategy='constant')"
      ]
     },
     "execution_count": 50,
     "metadata": {},
     "output_type": "execute_result"
    }
   ],
   "source": [
    "# Обучим модель DummyClassifier\n",
    "dummy_model = DummyClassifier(strategy = 'constant', constant = 1)\n",
    "\n",
    "dummy_model.fit(X_train, y_train)"
   ]
  },
  {
   "cell_type": "code",
   "execution_count": 51,
   "metadata": {},
   "outputs": [
    {
     "name": "stdout",
     "output_type": "stream",
     "text": [
      "Оценка F1 константной модели на тестовой выборке: 0.18\n"
     ]
    }
   ],
   "source": [
    "# Оценим модель DummyClassifier на тестовых данных\n",
    "predict_dummy = dummy_model.predict(X_test)\n",
    "\n",
    "print(f'Оценка F1 константной модели на тестовой выборке: {f1_score(predict_dummy, y_test):.2f}')"
   ]
  },
  {
   "cell_type": "markdown",
   "metadata": {},
   "source": [
    "Итак, константная модель не справилась с задачей и показала значение метрики `F1` на тестовых данных `0.18`. При этом наша лучшая модель `LogisticRegression` с гиперпараметрами `(random_state=RANDOM_STATE, max_iter=1000, C=16.674692129512426)` и методом векторизации `TfidfVectorizer(ngram_range': (1, 1))` показала значение метрики `F1` на тестовых данных `0.79`, что удовлетворяет условию задачи (значение метрики качества `F1` должно быть `не меньше 0.75`)."
   ]
  },
  {
   "cell_type": "markdown",
   "metadata": {},
   "source": [
    "## Выводы"
   ]
  },
  {
   "cell_type": "markdown",
   "metadata": {},
   "source": [
    "В ходе выполнения проекта была проделана следующая работа:\n",
    "\n",
    "**Проведена подготовка данных:**\n",
    "\n",
    "- выявили отсутствие пропусков и дубликатов в датасете;\n",
    "- добавили столбец `corpus` с очищенным и лемматизированным текстом из столбца `text`;\n",
    "\n",
    "\n",
    "**Проведен исследовательский анализ данных целевого признака:**\n",
    "\n",
    "- целевой признак `toxic` имеет два значения, где `0` — корректный комментарий, а `1` — токсичный комментарий; \n",
    "- целевой признак `toxic` имеет дисбаланс классов, *корректных комментариев* (класс `0`) более чем в 7 раз больше, чем *токсичных комментариев* (класс `1`);\n",
    "- самое популярное слово в корректных комментариях — `article` *(статья)*;\n",
    "- самое популярное слово в токсичных комментариях — `fuck` *(нецензурное слово)*; \n",
    "- средняя длина слова в токсичных и корректных комментариях одинакова и составляет 4 буквы;\n",
    "- средняя длина корректных комментариев превышает среднюю длину токсичных комментариев:\n",
    "     - в одном корректном комментарии в среднем содержится 36 слов\n",
    "     - в одном токсичном комментарии в среднем содержится 23 слова\n",
    "- в корректных и токсичных комментариях встречаются аномально длинные слова и сами комментариии: это обусловлено наличием букв, слов или выражений, повторяющихся n-количество раз.\n",
    "\n",
    "\n",
    "**Обучили и проверили модели:**\n",
    "\n",
    "- При сплитировании датасета выполнили стратификацю целевого признака.\n",
    "\n",
    "- По итогам работы `OptunaSearchCV` и `Pipeline` мы получили следующие гиперпараметры:\n",
    "\n",
    "    - Гиперпараметры модели `LogisticRegression (C=13.439280875935085)`, метод векторизации `TfidfVectorizer(ngram_range': (1, 1))`\n",
    "    - Гиперпараметры модели `DecisionTreeClassifier (max_depth = 14, min_samples_split = 9, min_samples_leaf = 1)`, метод векторизации `TfidfVectorizer(ngram_range': (1, 2))`\n",
    "    \n",
    "\n",
    "- Проверили модели с лучшими гиперпараметрами на валидационных данных:\n",
    "\n",
    "    - Метрика `F1` модели `LogisticRegression` равна `0.78`\n",
    "    - Метрика `F1` модели `DecisionTreeClassifier` равна `0.62`\n",
    "\n",
    "\n",
    "- **Лучшей оказалась модель `LogisticRegression`** с гиперпараметрами: `(random_state=RANDOM_STATE, max_iter=1000, C=16.674692129512426)`, методом векторизации `TfidfVectorizer(ngram_range': (1, 1))` и значением метрики `F1` на тестовых данных `0.79`."
   ]
  }
 ],
 "metadata": {
  "ExecuteTimeLog": [
   {
    "duration": 2151,
    "start_time": "2025-06-20T08:06:53.551Z"
   },
   {
    "duration": 1034,
    "start_time": "2025-06-20T08:08:48.407Z"
   },
   {
    "duration": 52,
    "start_time": "2025-06-20T08:10:01.877Z"
   },
   {
    "duration": 38,
    "start_time": "2025-06-20T08:10:23.770Z"
   },
   {
    "duration": 45,
    "start_time": "2025-06-20T08:10:37.434Z"
   },
   {
    "duration": 44,
    "start_time": "2025-06-20T08:11:46.154Z"
   },
   {
    "duration": 39,
    "start_time": "2025-06-20T08:11:57.409Z"
   },
   {
    "duration": 40,
    "start_time": "2025-06-20T08:12:34.539Z"
   },
   {
    "duration": 43,
    "start_time": "2025-06-20T08:12:59.521Z"
   },
   {
    "duration": 39,
    "start_time": "2025-06-20T08:15:33.266Z"
   },
   {
    "duration": 63,
    "start_time": "2025-06-20T08:18:18.888Z"
   },
   {
    "duration": 30,
    "start_time": "2025-06-20T08:18:40.350Z"
   },
   {
    "duration": 4,
    "start_time": "2025-06-20T08:18:51.391Z"
   },
   {
    "duration": 32,
    "start_time": "2025-06-20T08:18:53.648Z"
   },
   {
    "duration": 41,
    "start_time": "2025-06-20T08:19:09.865Z"
   },
   {
    "duration": 167,
    "start_time": "2025-06-20T08:20:33.899Z"
   },
   {
    "duration": 83,
    "start_time": "2025-06-20T08:21:07.958Z"
   },
   {
    "duration": 265,
    "start_time": "2025-06-20T08:23:38.080Z"
   },
   {
    "duration": 227,
    "start_time": "2025-06-20T08:23:43.440Z"
   },
   {
    "duration": 235,
    "start_time": "2025-06-20T08:24:13.333Z"
   },
   {
    "duration": 224,
    "start_time": "2025-06-20T08:24:53.538Z"
   },
   {
    "duration": 7,
    "start_time": "2025-06-20T08:25:03.348Z"
   },
   {
    "duration": 16,
    "start_time": "2025-06-20T08:26:55.778Z"
   },
   {
    "duration": 15,
    "start_time": "2025-06-20T08:28:33.207Z"
   },
   {
    "duration": 13,
    "start_time": "2025-06-20T08:28:57.422Z"
   },
   {
    "duration": 14,
    "start_time": "2025-06-20T08:30:17.345Z"
   },
   {
    "duration": 18,
    "start_time": "2025-06-20T08:30:25.278Z"
   },
   {
    "duration": 13,
    "start_time": "2025-06-20T08:30:32.149Z"
   },
   {
    "duration": 16,
    "start_time": "2025-06-20T08:30:47.052Z"
   },
   {
    "duration": 14,
    "start_time": "2025-06-20T08:30:53.352Z"
   },
   {
    "duration": 13,
    "start_time": "2025-06-20T08:32:24.817Z"
   },
   {
    "duration": 21,
    "start_time": "2025-06-20T08:32:28.468Z"
   },
   {
    "duration": 14,
    "start_time": "2025-06-20T08:33:38.396Z"
   },
   {
    "duration": 17,
    "start_time": "2025-06-20T08:33:44.016Z"
   },
   {
    "duration": 228,
    "start_time": "2025-06-20T08:35:33.744Z"
   },
   {
    "duration": 180,
    "start_time": "2025-06-20T08:36:11.086Z"
   },
   {
    "duration": 198,
    "start_time": "2025-06-20T08:36:16.746Z"
   },
   {
    "duration": 22,
    "start_time": "2025-06-20T08:36:52.336Z"
   },
   {
    "duration": 23,
    "start_time": "2025-06-20T08:37:23.683Z"
   },
   {
    "duration": 24,
    "start_time": "2025-06-20T08:37:30.681Z"
   },
   {
    "duration": 1116,
    "start_time": "2025-06-20T08:38:04.915Z"
   },
   {
    "duration": 7,
    "start_time": "2025-06-20T08:38:16.307Z"
   },
   {
    "duration": 2,
    "start_time": "2025-06-20T08:38:45.998Z"
   },
   {
    "duration": 80,
    "start_time": "2025-06-20T08:42:15.441Z"
   },
   {
    "duration": 147,
    "start_time": "2025-06-20T08:42:21.852Z"
   },
   {
    "duration": 141,
    "start_time": "2025-06-20T08:42:29.391Z"
   },
   {
    "duration": 155,
    "start_time": "2025-06-20T08:42:35.807Z"
   },
   {
    "duration": 7,
    "start_time": "2025-06-20T08:43:38.088Z"
   },
   {
    "duration": 9,
    "start_time": "2025-06-20T08:43:59.626Z"
   },
   {
    "duration": 8,
    "start_time": "2025-06-20T08:44:04.356Z"
   },
   {
    "duration": 74,
    "start_time": "2025-06-20T08:46:48.205Z"
   },
   {
    "duration": 5,
    "start_time": "2025-06-20T08:47:00.133Z"
   },
   {
    "duration": 14,
    "start_time": "2025-06-20T08:47:30.050Z"
   },
   {
    "duration": 12,
    "start_time": "2025-06-20T08:48:01.856Z"
   },
   {
    "duration": 11,
    "start_time": "2025-06-20T08:48:09.247Z"
   },
   {
    "duration": 11,
    "start_time": "2025-06-20T08:48:13.864Z"
   },
   {
    "duration": 10,
    "start_time": "2025-06-20T08:48:33.123Z"
   },
   {
    "duration": 11,
    "start_time": "2025-06-20T08:48:40.959Z"
   },
   {
    "duration": 11,
    "start_time": "2025-06-20T08:48:55.244Z"
   },
   {
    "duration": 13,
    "start_time": "2025-06-20T08:48:59.015Z"
   },
   {
    "duration": 11,
    "start_time": "2025-06-20T08:49:01.340Z"
   },
   {
    "duration": 11,
    "start_time": "2025-06-20T08:49:04.060Z"
   },
   {
    "duration": 11,
    "start_time": "2025-06-20T08:49:06.511Z"
   },
   {
    "duration": 10,
    "start_time": "2025-06-20T08:49:09.096Z"
   },
   {
    "duration": 18,
    "start_time": "2025-06-20T08:49:12.166Z"
   },
   {
    "duration": 10,
    "start_time": "2025-06-20T08:49:14.703Z"
   },
   {
    "duration": 11,
    "start_time": "2025-06-20T08:49:18.347Z"
   },
   {
    "duration": 10,
    "start_time": "2025-06-20T08:49:21.535Z"
   },
   {
    "duration": 10,
    "start_time": "2025-06-20T08:49:29.132Z"
   },
   {
    "duration": 9,
    "start_time": "2025-06-20T08:49:40.182Z"
   },
   {
    "duration": 11,
    "start_time": "2025-06-20T08:49:45.044Z"
   },
   {
    "duration": 11,
    "start_time": "2025-06-20T08:49:48.496Z"
   },
   {
    "duration": 10,
    "start_time": "2025-06-20T08:49:52.823Z"
   },
   {
    "duration": 10,
    "start_time": "2025-06-20T08:49:55.607Z"
   },
   {
    "duration": 10,
    "start_time": "2025-06-20T08:49:58.860Z"
   },
   {
    "duration": 9,
    "start_time": "2025-06-20T08:50:02.080Z"
   },
   {
    "duration": 10,
    "start_time": "2025-06-20T08:50:04.494Z"
   },
   {
    "duration": 10,
    "start_time": "2025-06-20T08:50:07.069Z"
   },
   {
    "duration": 10,
    "start_time": "2025-06-20T08:50:09.864Z"
   },
   {
    "duration": 10,
    "start_time": "2025-06-20T08:50:12.241Z"
   },
   {
    "duration": 10,
    "start_time": "2025-06-20T08:50:15.487Z"
   },
   {
    "duration": 10,
    "start_time": "2025-06-20T08:50:33.585Z"
   },
   {
    "duration": 11,
    "start_time": "2025-06-20T08:50:37.563Z"
   },
   {
    "duration": 9,
    "start_time": "2025-06-20T08:50:40.068Z"
   },
   {
    "duration": 10,
    "start_time": "2025-06-20T08:50:42.220Z"
   },
   {
    "duration": 9,
    "start_time": "2025-06-20T08:52:51.575Z"
   },
   {
    "duration": 10,
    "start_time": "2025-06-20T08:52:56.154Z"
   },
   {
    "duration": 16,
    "start_time": "2025-06-20T08:57:11.131Z"
   },
   {
    "duration": 13,
    "start_time": "2025-06-20T08:57:48.907Z"
   },
   {
    "duration": 14,
    "start_time": "2025-06-20T08:58:08.991Z"
   },
   {
    "duration": 149,
    "start_time": "2025-06-20T09:02:01.640Z"
   },
   {
    "duration": 145,
    "start_time": "2025-06-20T09:02:13.586Z"
   },
   {
    "duration": 135,
    "start_time": "2025-06-20T09:02:24.045Z"
   },
   {
    "duration": 152,
    "start_time": "2025-06-20T09:02:28.550Z"
   },
   {
    "duration": 156,
    "start_time": "2025-06-20T09:02:34.457Z"
   },
   {
    "duration": 149,
    "start_time": "2025-06-20T09:02:47.443Z"
   },
   {
    "duration": 2633,
    "start_time": "2025-06-20T09:20:05.950Z"
   },
   {
    "duration": 5,
    "start_time": "2025-06-20T09:20:15.026Z"
   },
   {
    "duration": 3,
    "start_time": "2025-06-20T09:27:58.579Z"
   },
   {
    "duration": 19,
    "start_time": "2025-06-20T09:29:32.874Z"
   },
   {
    "duration": 1419,
    "start_time": "2025-06-20T09:29:50.285Z"
   },
   {
    "duration": 105,
    "start_time": "2025-06-20T09:30:58.977Z"
   },
   {
    "duration": 27,
    "start_time": "2025-06-20T09:31:25.076Z"
   },
   {
    "duration": 6,
    "start_time": "2025-06-20T09:32:08.513Z"
   },
   {
    "duration": 18,
    "start_time": "2025-06-20T09:32:11.074Z"
   },
   {
    "duration": 3,
    "start_time": "2025-06-20T09:32:50.407Z"
   },
   {
    "duration": 19,
    "start_time": "2025-06-20T09:32:51.742Z"
   },
   {
    "duration": 19,
    "start_time": "2025-06-20T09:33:06.749Z"
   },
   {
    "duration": 3,
    "start_time": "2025-06-20T09:34:11.874Z"
   },
   {
    "duration": 20,
    "start_time": "2025-06-20T09:34:14.977Z"
   },
   {
    "duration": 3,
    "start_time": "2025-06-20T09:36:28.649Z"
   },
   {
    "duration": 4,
    "start_time": "2025-06-20T09:37:45.452Z"
   },
   {
    "duration": 26,
    "start_time": "2025-06-20T09:37:53.600Z"
   },
   {
    "duration": 33,
    "start_time": "2025-06-20T09:38:45.192Z"
   },
   {
    "duration": 32,
    "start_time": "2025-06-20T09:38:49.297Z"
   },
   {
    "duration": 22,
    "start_time": "2025-06-20T09:39:05.363Z"
   },
   {
    "duration": 19,
    "start_time": "2025-06-20T09:39:24.681Z"
   },
   {
    "duration": 5,
    "start_time": "2025-06-20T09:39:43.183Z"
   },
   {
    "duration": 1003,
    "start_time": "2025-06-20T09:40:26.346Z"
   },
   {
    "duration": 6,
    "start_time": "2025-06-20T09:40:40.068Z"
   },
   {
    "duration": 67,
    "start_time": "2025-06-20T09:41:19.660Z"
   },
   {
    "duration": 194,
    "start_time": "2025-06-20T09:41:29.729Z"
   },
   {
    "duration": 5,
    "start_time": "2025-06-20T09:41:51.955Z"
   },
   {
    "duration": 140,
    "start_time": "2025-06-20T09:42:45.448Z"
   },
   {
    "duration": 943,
    "start_time": "2025-06-20T09:50:37.106Z"
   },
   {
    "duration": 99011,
    "start_time": "2025-06-20T09:52:08.592Z"
   },
   {
    "duration": 3104887,
    "start_time": "2025-06-20T09:56:31.704Z"
   },
   {
    "duration": 2,
    "start_time": "2025-06-20T10:48:21.210Z"
   },
   {
    "duration": 13,
    "start_time": "2025-06-20T10:49:26.026Z"
   },
   {
    "duration": 14,
    "start_time": "2025-06-20T10:49:31.682Z"
   },
   {
    "duration": 54830,
    "start_time": "2025-06-20T10:49:49.662Z"
   },
   {
    "duration": 8,
    "start_time": "2025-06-20T10:50:49.399Z"
   },
   {
    "duration": 39419,
    "start_time": "2025-06-20T10:50:51.107Z"
   },
   {
    "duration": 7,
    "start_time": "2025-06-20T10:51:32.210Z"
   },
   {
    "duration": 9869,
    "start_time": "2025-06-20T10:51:33.535Z"
   },
   {
    "duration": 8,
    "start_time": "2025-06-20T10:51:54.100Z"
   },
   {
    "duration": 48644,
    "start_time": "2025-06-20T10:51:55.223Z"
   },
   {
    "duration": 15,
    "start_time": "2025-06-20T10:53:25.161Z"
   },
   {
    "duration": 18,
    "start_time": "2025-06-20T10:53:53.391Z"
   },
   {
    "duration": 7,
    "start_time": "2025-06-20T10:55:27.725Z"
   },
   {
    "duration": 12,
    "start_time": "2025-06-20T10:56:07.208Z"
   },
   {
    "duration": 13,
    "start_time": "2025-06-20T10:56:54.438Z"
   },
   {
    "duration": 13,
    "start_time": "2025-06-20T10:56:57.192Z"
   },
   {
    "duration": 27,
    "start_time": "2025-06-20T10:57:05.559Z"
   },
   {
    "duration": 4,
    "start_time": "2025-06-20T10:59:31.156Z"
   },
   {
    "duration": 8,
    "start_time": "2025-06-20T11:00:02.145Z"
   },
   {
    "duration": 49735,
    "start_time": "2025-06-20T11:00:20.050Z"
   },
   {
    "duration": 14,
    "start_time": "2025-06-20T11:05:21.591Z"
   },
   {
    "duration": 9,
    "start_time": "2025-06-20T11:05:49.201Z"
   },
   {
    "duration": 3,
    "start_time": "2025-06-20T11:06:05.598Z"
   },
   {
    "duration": 4,
    "start_time": "2025-06-20T11:06:26.935Z"
   },
   {
    "duration": 52952,
    "start_time": "2025-06-20T11:06:33.203Z"
   },
   {
    "duration": 4,
    "start_time": "2025-06-20T11:07:42.282Z"
   },
   {
    "duration": 508,
    "start_time": "2025-06-20T11:07:47.628Z"
   },
   {
    "duration": 9,
    "start_time": "2025-06-20T11:08:34.521Z"
   },
   {
    "duration": 338,
    "start_time": "2025-06-20T11:08:39.761Z"
   },
   {
    "duration": 1497,
    "start_time": "2025-06-20T11:09:23.535Z"
   },
   {
    "duration": 42,
    "start_time": "2025-06-20T11:09:44.439Z"
   },
   {
    "duration": 12,
    "start_time": "2025-06-20T11:09:51.248Z"
   },
   {
    "duration": 14,
    "start_time": "2025-06-20T11:23:44.962Z"
   },
   {
    "duration": 18,
    "start_time": "2025-06-20T11:24:02.239Z"
   },
   {
    "duration": 7,
    "start_time": "2025-06-20T11:24:12.280Z"
   },
   {
    "duration": 4,
    "start_time": "2025-06-20T11:30:31.114Z"
   },
   {
    "duration": 116295,
    "start_time": "2025-06-20T11:31:30.465Z"
   },
   {
    "duration": 8,
    "start_time": "2025-06-20T11:34:09.394Z"
   },
   {
    "duration": 1263,
    "start_time": "2025-06-20T11:36:30.557Z"
   },
   {
    "duration": 4,
    "start_time": "2025-06-20T11:38:32.031Z"
   },
   {
    "duration": 5,
    "start_time": "2025-06-20T11:38:37.578Z"
   },
   {
    "duration": 4,
    "start_time": "2025-06-20T11:40:03.105Z"
   },
   {
    "duration": 3,
    "start_time": "2025-06-20T11:40:05.237Z"
   },
   {
    "duration": 4,
    "start_time": "2025-06-20T11:40:08.873Z"
   },
   {
    "duration": 3,
    "start_time": "2025-06-20T11:40:41.433Z"
   },
   {
    "duration": 4,
    "start_time": "2025-06-20T11:40:43.689Z"
   },
   {
    "duration": 4,
    "start_time": "2025-06-20T11:41:31.266Z"
   },
   {
    "duration": 4,
    "start_time": "2025-06-20T11:41:33.222Z"
   },
   {
    "duration": 4,
    "start_time": "2025-06-20T11:41:47.987Z"
   },
   {
    "duration": 3,
    "start_time": "2025-06-20T11:42:00.951Z"
   },
   {
    "duration": 5,
    "start_time": "2025-06-20T11:42:02.407Z"
   },
   {
    "duration": 4,
    "start_time": "2025-06-20T11:43:08.505Z"
   },
   {
    "duration": 3,
    "start_time": "2025-06-20T11:43:09.994Z"
   },
   {
    "duration": 6,
    "start_time": "2025-06-20T11:43:11.710Z"
   },
   {
    "duration": 2220,
    "start_time": "2025-06-20T11:45:58.091Z"
   },
   {
    "duration": 1305,
    "start_time": "2025-06-20T11:46:00.314Z"
   },
   {
    "duration": 53,
    "start_time": "2025-06-20T11:46:01.623Z"
   },
   {
    "duration": 101,
    "start_time": "2025-06-20T11:46:01.678Z"
   },
   {
    "duration": 297,
    "start_time": "2025-06-20T11:46:01.781Z"
   },
   {
    "duration": 7,
    "start_time": "2025-06-20T11:46:02.080Z"
   },
   {
    "duration": 46,
    "start_time": "2025-06-20T11:46:02.089Z"
   },
   {
    "duration": 44,
    "start_time": "2025-06-20T11:46:02.137Z"
   },
   {
    "duration": 183,
    "start_time": "2025-06-20T11:46:02.184Z"
   },
   {
    "duration": 18,
    "start_time": "2025-06-20T11:46:02.369Z"
   },
   {
    "duration": 35,
    "start_time": "2025-06-20T11:46:02.389Z"
   },
   {
    "duration": 106527,
    "start_time": "2025-06-20T11:46:02.427Z"
   },
   {
    "duration": 14,
    "start_time": "2025-06-20T11:47:48.955Z"
   },
   {
    "duration": 3,
    "start_time": "2025-06-20T11:54:30.259Z"
   },
   {
    "duration": 3,
    "start_time": "2025-06-20T11:54:32.426Z"
   },
   {
    "duration": 7,
    "start_time": "2025-06-20T11:54:36.637Z"
   },
   {
    "duration": 5,
    "start_time": "2025-06-20T11:54:41.357Z"
   },
   {
    "duration": 154,
    "start_time": "2025-06-20T12:00:05.598Z"
   },
   {
    "duration": 3,
    "start_time": "2025-06-20T12:00:08.801Z"
   },
   {
    "duration": 73,
    "start_time": "2025-06-20T12:00:10.662Z"
   },
   {
    "duration": 69,
    "start_time": "2025-06-20T12:10:27.191Z"
   },
   {
    "duration": 3,
    "start_time": "2025-06-20T12:10:52.265Z"
   },
   {
    "duration": 14,
    "start_time": "2025-06-20T12:10:55.993Z"
   },
   {
    "duration": 3,
    "start_time": "2025-06-20T12:11:03.574Z"
   },
   {
    "duration": 14,
    "start_time": "2025-06-20T12:11:07.350Z"
   },
   {
    "duration": 14,
    "start_time": "2025-06-20T12:11:11.830Z"
   },
   {
    "duration": 3,
    "start_time": "2025-06-20T12:11:18.927Z"
   },
   {
    "duration": 4,
    "start_time": "2025-06-20T12:21:23.862Z"
   },
   {
    "duration": 3,
    "start_time": "2025-06-20T12:22:59.108Z"
   },
   {
    "duration": 8683,
    "start_time": "2025-06-20T12:26:09.434Z"
   },
   {
    "duration": 3,
    "start_time": "2025-06-20T12:29:58.164Z"
   },
   {
    "duration": 4285,
    "start_time": "2025-06-20T12:32:15.885Z"
   },
   {
    "duration": 5,
    "start_time": "2025-06-20T12:32:26.115Z"
   },
   {
    "duration": 1340,
    "start_time": "2025-06-20T12:33:05.645Z"
   },
   {
    "duration": 4,
    "start_time": "2025-06-20T12:33:20.679Z"
   },
   {
    "duration": 5,
    "start_time": "2025-06-20T12:33:28.022Z"
   },
   {
    "duration": 1425219,
    "start_time": "2025-06-20T12:36:55.886Z"
   },
   {
    "duration": 4,
    "start_time": "2025-06-20T13:01:04.412Z"
   },
   {
    "duration": 4,
    "start_time": "2025-06-20T13:01:07.033Z"
   },
   {
    "duration": 1508551,
    "start_time": "2025-06-20T13:01:09.471Z"
   },
   {
    "duration": 3,
    "start_time": "2025-06-20T13:26:24.566Z"
   },
   {
    "duration": 4,
    "start_time": "2025-06-20T13:26:27.365Z"
   },
   {
    "duration": 114302,
    "start_time": "2025-06-20T13:26:30.204Z"
   },
   {
    "duration": 4,
    "start_time": "2025-06-20T13:29:32.931Z"
   },
   {
    "duration": 4,
    "start_time": "2025-06-20T13:29:36.489Z"
   },
   {
    "duration": 4,
    "start_time": "2025-06-20T13:30:46.888Z"
   },
   {
    "duration": 3,
    "start_time": "2025-06-20T13:30:49.142Z"
   },
   {
    "duration": 2203,
    "start_time": "2025-06-20T14:50:39.386Z"
   },
   {
    "duration": 1111,
    "start_time": "2025-06-20T14:50:41.592Z"
   },
   {
    "duration": 63,
    "start_time": "2025-06-20T14:50:42.705Z"
   },
   {
    "duration": 94,
    "start_time": "2025-06-20T14:50:42.772Z"
   },
   {
    "duration": 308,
    "start_time": "2025-06-20T14:50:42.874Z"
   },
   {
    "duration": 7,
    "start_time": "2025-06-20T14:50:43.187Z"
   },
   {
    "duration": 12,
    "start_time": "2025-06-20T14:50:43.196Z"
   },
   {
    "duration": 30,
    "start_time": "2025-06-20T14:50:43.209Z"
   },
   {
    "duration": 204,
    "start_time": "2025-06-20T14:50:43.260Z"
   },
   {
    "duration": 22,
    "start_time": "2025-06-20T14:50:43.466Z"
   },
   {
    "duration": 12,
    "start_time": "2025-06-20T14:50:43.491Z"
   },
   {
    "duration": 119006,
    "start_time": "2025-06-20T14:50:43.505Z"
   },
   {
    "duration": 9,
    "start_time": "2025-06-20T14:52:42.513Z"
   },
   {
    "duration": 15,
    "start_time": "2025-06-20T14:52:42.526Z"
   },
   {
    "duration": 7,
    "start_time": "2025-06-20T14:52:42.543Z"
   },
   {
    "duration": 11,
    "start_time": "2025-06-20T14:52:42.551Z"
   },
   {
    "duration": 90,
    "start_time": "2025-06-20T14:52:42.564Z"
   },
   {
    "duration": 19,
    "start_time": "2025-06-20T14:52:42.656Z"
   },
   {
    "duration": 4918,
    "start_time": "2025-06-20T14:52:42.685Z"
   },
   {
    "duration": 1518,
    "start_time": "2025-06-20T14:52:47.605Z"
   },
   {
    "duration": 2,
    "start_time": "2025-06-20T14:52:49.125Z"
   },
   {
    "duration": 6,
    "start_time": "2025-06-20T14:52:49.129Z"
   },
   {
    "duration": 34,
    "start_time": "2025-06-20T14:52:49.137Z"
   },
   {
    "duration": 821082,
    "start_time": "2025-06-20T14:52:49.179Z"
   },
   {
    "duration": 4,
    "start_time": "2025-06-20T15:06:30.263Z"
   },
   {
    "duration": 4336,
    "start_time": "2025-06-20T15:06:30.268Z"
   },
   {
    "duration": 871,
    "start_time": "2025-06-20T15:06:34.606Z"
   },
   {
    "duration": 0,
    "start_time": "2025-06-20T15:06:35.479Z"
   },
   {
    "duration": 0,
    "start_time": "2025-06-20T15:06:35.481Z"
   },
   {
    "duration": 0,
    "start_time": "2025-06-20T15:06:35.482Z"
   },
   {
    "duration": 0,
    "start_time": "2025-06-20T15:06:35.483Z"
   },
   {
    "duration": 0,
    "start_time": "2025-06-20T15:06:35.485Z"
   },
   {
    "duration": 0,
    "start_time": "2025-06-20T15:06:35.486Z"
   },
   {
    "duration": 2808,
    "start_time": "2025-06-20T15:07:00.362Z"
   },
   {
    "duration": 3727,
    "start_time": "2025-06-20T15:08:33.575Z"
   },
   {
    "duration": 2968,
    "start_time": "2025-06-20T15:08:44.165Z"
   },
   {
    "duration": 11,
    "start_time": "2025-06-20T15:08:49.757Z"
   },
   {
    "duration": 5,
    "start_time": "2025-06-20T15:09:01.186Z"
   },
   {
    "duration": 23,
    "start_time": "2025-06-20T15:09:27.128Z"
   },
   {
    "duration": 17,
    "start_time": "2025-06-20T15:10:58.957Z"
   },
   {
    "duration": 15,
    "start_time": "2025-06-20T15:11:23.040Z"
   },
   {
    "duration": 15,
    "start_time": "2025-06-20T15:12:07.872Z"
   },
   {
    "duration": 24,
    "start_time": "2025-06-20T15:12:52.805Z"
   },
   {
    "duration": 78,
    "start_time": "2025-06-20T15:12:54.781Z"
   },
   {
    "duration": 88,
    "start_time": "2025-06-20T15:13:38.901Z"
   },
   {
    "duration": 206,
    "start_time": "2025-06-20T15:13:48.801Z"
   },
   {
    "duration": 77,
    "start_time": "2025-06-20T15:14:39.129Z"
   },
   {
    "duration": 4,
    "start_time": "2025-06-20T15:15:51.444Z"
   },
   {
    "duration": 3,
    "start_time": "2025-06-20T15:15:57.116Z"
   },
   {
    "duration": 3,
    "start_time": "2025-06-20T15:16:08.794Z"
   },
   {
    "duration": 38621,
    "start_time": "2025-06-20T15:16:13.400Z"
   },
   {
    "duration": 3,
    "start_time": "2025-06-20T15:19:10.094Z"
   },
   {
    "duration": 164,
    "start_time": "2025-06-20T15:19:11.844Z"
   },
   {
    "duration": 3,
    "start_time": "2025-06-20T15:19:55.527Z"
   },
   {
    "duration": 38427,
    "start_time": "2025-06-20T15:21:03.697Z"
   },
   {
    "duration": 4,
    "start_time": "2025-06-20T15:22:26.793Z"
   },
   {
    "duration": 4,
    "start_time": "2025-06-20T15:22:28.355Z"
   },
   {
    "duration": 4,
    "start_time": "2025-06-20T15:22:29.554Z"
   },
   {
    "duration": 86595,
    "start_time": "2025-06-20T15:22:31.166Z"
   },
   {
    "duration": 3,
    "start_time": "2025-06-20T15:24:07.787Z"
   },
   {
    "duration": 3,
    "start_time": "2025-06-20T15:24:08.905Z"
   },
   {
    "duration": 181375,
    "start_time": "2025-06-20T15:24:10.570Z"
   },
   {
    "duration": 5,
    "start_time": "2025-06-20T15:28:00.848Z"
   },
   {
    "duration": 23,
    "start_time": "2025-06-20T15:28:16.860Z"
   },
   {
    "duration": 5,
    "start_time": "2025-06-20T15:29:55.790Z"
   },
   {
    "duration": 4,
    "start_time": "2025-06-20T15:29:57.085Z"
   },
   {
    "duration": 98,
    "start_time": "2025-06-20T15:30:08.301Z"
   },
   {
    "duration": 3,
    "start_time": "2025-06-20T15:34:00.731Z"
   },
   {
    "duration": 5,
    "start_time": "2025-06-20T15:34:02.295Z"
   },
   {
    "duration": 5,
    "start_time": "2025-06-20T15:34:11.982Z"
   },
   {
    "duration": 858302,
    "start_time": "2025-06-20T15:34:19.943Z"
   },
   {
    "duration": 12,
    "start_time": "2025-06-20T16:00:53.773Z"
   },
   {
    "duration": 4,
    "start_time": "2025-06-20T16:02:31.240Z"
   },
   {
    "duration": 5,
    "start_time": "2025-06-20T16:02:32.758Z"
   },
   {
    "duration": 4,
    "start_time": "2025-06-20T16:02:35.236Z"
   },
   {
    "duration": 8844815,
    "start_time": "2025-06-20T16:02:56.926Z"
   },
   {
    "duration": 2363,
    "start_time": "2025-06-21T08:58:28.254Z"
   },
   {
    "duration": 969,
    "start_time": "2025-06-21T08:58:30.621Z"
   },
   {
    "duration": 53,
    "start_time": "2025-06-21T08:58:31.592Z"
   },
   {
    "duration": 117,
    "start_time": "2025-06-21T08:58:31.647Z"
   },
   {
    "duration": 279,
    "start_time": "2025-06-21T08:58:31.767Z"
   },
   {
    "duration": 11,
    "start_time": "2025-06-21T08:58:32.048Z"
   },
   {
    "duration": 45,
    "start_time": "2025-06-21T08:58:32.061Z"
   },
   {
    "duration": 28,
    "start_time": "2025-06-21T08:58:32.108Z"
   },
   {
    "duration": 191,
    "start_time": "2025-06-21T08:58:32.137Z"
   },
   {
    "duration": 25,
    "start_time": "2025-06-21T08:58:32.330Z"
   },
   {
    "duration": 5,
    "start_time": "2025-06-21T08:58:32.358Z"
   },
   {
    "duration": 104502,
    "start_time": "2025-06-21T08:58:32.365Z"
   },
   {
    "duration": 9,
    "start_time": "2025-06-21T09:00:16.869Z"
   },
   {
    "duration": 33,
    "start_time": "2025-06-21T09:00:16.883Z"
   },
   {
    "duration": 40,
    "start_time": "2025-06-21T09:00:16.918Z"
   },
   {
    "duration": 9,
    "start_time": "2025-06-21T09:00:16.960Z"
   },
   {
    "duration": 100,
    "start_time": "2025-06-21T09:00:16.971Z"
   },
   {
    "duration": 4,
    "start_time": "2025-06-21T09:00:17.073Z"
   },
   {
    "duration": 4466,
    "start_time": "2025-06-21T09:00:17.079Z"
   },
   {
    "duration": 1342,
    "start_time": "2025-06-21T09:00:21.551Z"
   },
   {
    "duration": 4,
    "start_time": "2025-06-21T09:00:22.895Z"
   },
   {
    "duration": 59,
    "start_time": "2025-06-21T09:00:22.900Z"
   },
   {
    "duration": 28,
    "start_time": "2025-06-21T09:00:22.961Z"
   },
   {
    "duration": 779961,
    "start_time": "2025-06-21T09:00:22.991Z"
   },
   {
    "duration": 149,
    "start_time": "2025-06-21T09:13:22.959Z"
   },
   {
    "duration": 0,
    "start_time": "2025-06-21T09:13:23.110Z"
   },
   {
    "duration": 0,
    "start_time": "2025-06-21T09:13:23.111Z"
   },
   {
    "duration": 1,
    "start_time": "2025-06-21T09:13:23.112Z"
   },
   {
    "duration": 0,
    "start_time": "2025-06-21T09:13:23.113Z"
   },
   {
    "duration": 0,
    "start_time": "2025-06-21T09:13:23.115Z"
   },
   {
    "duration": 1,
    "start_time": "2025-06-21T09:13:23.115Z"
   },
   {
    "duration": 0,
    "start_time": "2025-06-21T09:13:23.116Z"
   },
   {
    "duration": 0,
    "start_time": "2025-06-21T09:13:23.117Z"
   },
   {
    "duration": 0,
    "start_time": "2025-06-21T09:13:23.118Z"
   },
   {
    "duration": 0,
    "start_time": "2025-06-21T09:13:23.119Z"
   },
   {
    "duration": 0,
    "start_time": "2025-06-21T09:13:23.120Z"
   },
   {
    "duration": 0,
    "start_time": "2025-06-21T09:13:23.121Z"
   },
   {
    "duration": 0,
    "start_time": "2025-06-21T09:13:23.144Z"
   },
   {
    "duration": 18,
    "start_time": "2025-06-21T11:46:56.186Z"
   },
   {
    "duration": 7554,
    "start_time": "2025-06-21T11:47:08.499Z"
   },
   {
    "duration": 285,
    "start_time": "2025-06-21T11:48:00.583Z"
   },
   {
    "duration": 3,
    "start_time": "2025-06-21T11:49:15.681Z"
   },
   {
    "duration": 26,
    "start_time": "2025-06-21T11:51:09.781Z"
   },
   {
    "duration": 14,
    "start_time": "2025-06-21T11:52:15.556Z"
   },
   {
    "duration": 13,
    "start_time": "2025-06-21T11:53:23.460Z"
   },
   {
    "duration": 22,
    "start_time": "2025-06-21T11:53:38.129Z"
   },
   {
    "duration": 22,
    "start_time": "2025-06-21T11:55:52.527Z"
   },
   {
    "duration": 4,
    "start_time": "2025-06-21T11:58:17.651Z"
   },
   {
    "duration": 4,
    "start_time": "2025-06-21T11:58:45.771Z"
   },
   {
    "duration": 2,
    "start_time": "2025-06-21T11:59:07.717Z"
   },
   {
    "duration": 13,
    "start_time": "2025-06-21T12:01:55.115Z"
   },
   {
    "duration": 33767,
    "start_time": "2025-06-21T12:02:01.131Z"
   },
   {
    "duration": 33411,
    "start_time": "2025-06-21T12:02:51.240Z"
   },
   {
    "duration": 33493,
    "start_time": "2025-06-21T12:03:36.811Z"
   },
   {
    "duration": 74,
    "start_time": "2025-06-21T12:05:17.796Z"
   },
   {
    "duration": 4,
    "start_time": "2025-06-21T12:05:23.951Z"
   },
   {
    "duration": 4,
    "start_time": "2025-06-21T12:05:27.028Z"
   },
   {
    "duration": 3,
    "start_time": "2025-06-21T12:05:28.928Z"
   },
   {
    "duration": 5426,
    "start_time": "2025-06-21T12:06:37.015Z"
   },
   {
    "duration": 2284,
    "start_time": "2025-06-21T12:06:42.445Z"
   },
   {
    "duration": 976,
    "start_time": "2025-06-21T12:06:44.731Z"
   },
   {
    "duration": 56,
    "start_time": "2025-06-21T12:06:45.709Z"
   },
   {
    "duration": 89,
    "start_time": "2025-06-21T12:06:45.767Z"
   },
   {
    "duration": 250,
    "start_time": "2025-06-21T12:06:45.858Z"
   },
   {
    "duration": 7,
    "start_time": "2025-06-21T12:06:46.110Z"
   },
   {
    "duration": 43,
    "start_time": "2025-06-21T12:06:46.119Z"
   },
   {
    "duration": 16,
    "start_time": "2025-06-21T12:06:46.164Z"
   },
   {
    "duration": 171,
    "start_time": "2025-06-21T12:06:46.183Z"
   },
   {
    "duration": 14,
    "start_time": "2025-06-21T12:06:46.356Z"
   },
   {
    "duration": 6,
    "start_time": "2025-06-21T12:06:46.372Z"
   },
   {
    "duration": 108786,
    "start_time": "2025-06-21T12:06:46.380Z"
   },
   {
    "duration": 8,
    "start_time": "2025-06-21T12:08:35.168Z"
   },
   {
    "duration": 50,
    "start_time": "2025-06-21T12:08:35.178Z"
   },
   {
    "duration": 9,
    "start_time": "2025-06-21T12:08:35.229Z"
   },
   {
    "duration": 6,
    "start_time": "2025-06-21T12:08:35.245Z"
   },
   {
    "duration": 117,
    "start_time": "2025-06-21T12:08:35.253Z"
   },
   {
    "duration": 3,
    "start_time": "2025-06-21T12:08:35.372Z"
   },
   {
    "duration": 4539,
    "start_time": "2025-06-21T12:08:35.376Z"
   },
   {
    "duration": 1342,
    "start_time": "2025-06-21T12:08:39.917Z"
   },
   {
    "duration": 3,
    "start_time": "2025-06-21T12:08:41.271Z"
   },
   {
    "duration": 8,
    "start_time": "2025-06-21T12:08:41.276Z"
   },
   {
    "duration": 13,
    "start_time": "2025-06-21T12:08:41.286Z"
   },
   {
    "duration": 395509,
    "start_time": "2025-06-21T12:08:41.301Z"
   },
   {
    "duration": 0,
    "start_time": "2025-06-21T12:15:16.813Z"
   },
   {
    "duration": 0,
    "start_time": "2025-06-21T12:15:16.815Z"
   },
   {
    "duration": 0,
    "start_time": "2025-06-21T12:15:16.816Z"
   },
   {
    "duration": 0,
    "start_time": "2025-06-21T12:15:16.818Z"
   },
   {
    "duration": 0,
    "start_time": "2025-06-21T12:15:16.819Z"
   },
   {
    "duration": 0,
    "start_time": "2025-06-21T12:15:16.821Z"
   },
   {
    "duration": 0,
    "start_time": "2025-06-21T12:15:16.822Z"
   },
   {
    "duration": 0,
    "start_time": "2025-06-21T12:15:16.845Z"
   },
   {
    "duration": 0,
    "start_time": "2025-06-21T12:15:16.847Z"
   },
   {
    "duration": 0,
    "start_time": "2025-06-21T12:15:16.848Z"
   },
   {
    "duration": 0,
    "start_time": "2025-06-21T12:15:16.849Z"
   },
   {
    "duration": 0,
    "start_time": "2025-06-21T12:15:16.850Z"
   },
   {
    "duration": 0,
    "start_time": "2025-06-21T12:15:16.851Z"
   },
   {
    "duration": 0,
    "start_time": "2025-06-21T12:15:16.853Z"
   },
   {
    "duration": 0,
    "start_time": "2025-06-21T12:15:16.854Z"
   },
   {
    "duration": 2,
    "start_time": "2025-06-21T12:15:19.803Z"
   },
   {
    "duration": 93,
    "start_time": "2025-06-21T12:15:24.613Z"
   },
   {
    "duration": 25,
    "start_time": "2025-06-21T12:15:40.807Z"
   },
   {
    "duration": 22,
    "start_time": "2025-06-21T12:16:18.329Z"
   },
   {
    "duration": 4399,
    "start_time": "2025-06-21T12:16:21.190Z"
   },
   {
    "duration": 700,
    "start_time": "2025-06-21T12:16:33.507Z"
   },
   {
    "duration": 636,
    "start_time": "2025-06-21T12:16:35.721Z"
   },
   {
    "duration": 3,
    "start_time": "2025-06-21T12:16:45.667Z"
   },
   {
    "duration": 4,
    "start_time": "2025-06-21T12:16:48.264Z"
   },
   {
    "duration": 10,
    "start_time": "2025-06-21T12:21:56.320Z"
   },
   {
    "duration": 8,
    "start_time": "2025-06-21T12:22:06.309Z"
   },
   {
    "duration": 18,
    "start_time": "2025-06-21T12:22:13.439Z"
   },
   {
    "duration": 3,
    "start_time": "2025-06-21T12:22:24.573Z"
   },
   {
    "duration": 6114,
    "start_time": "2025-06-21T12:30:57.190Z"
   },
   {
    "duration": 2631,
    "start_time": "2025-06-21T12:31:03.307Z"
   },
   {
    "duration": 1161,
    "start_time": "2025-06-21T12:31:05.943Z"
   },
   {
    "duration": 47,
    "start_time": "2025-06-21T12:31:07.106Z"
   },
   {
    "duration": 95,
    "start_time": "2025-06-21T12:31:07.156Z"
   },
   {
    "duration": 266,
    "start_time": "2025-06-21T12:31:07.253Z"
   },
   {
    "duration": 7,
    "start_time": "2025-06-21T12:31:07.521Z"
   },
   {
    "duration": 29,
    "start_time": "2025-06-21T12:31:07.540Z"
   },
   {
    "duration": 89,
    "start_time": "2025-06-21T12:31:07.571Z"
   },
   {
    "duration": 193,
    "start_time": "2025-06-21T12:31:07.667Z"
   },
   {
    "duration": 19,
    "start_time": "2025-06-21T12:31:07.865Z"
   },
   {
    "duration": 15,
    "start_time": "2025-06-21T12:31:07.886Z"
   },
   {
    "duration": 108095,
    "start_time": "2025-06-21T12:31:07.903Z"
   },
   {
    "duration": 7,
    "start_time": "2025-06-21T12:32:56.002Z"
   },
   {
    "duration": 7,
    "start_time": "2025-06-21T12:32:56.011Z"
   },
   {
    "duration": 6,
    "start_time": "2025-06-21T12:32:56.019Z"
   },
   {
    "duration": 26,
    "start_time": "2025-06-21T12:32:56.027Z"
   },
   {
    "duration": 73,
    "start_time": "2025-06-21T12:32:56.055Z"
   },
   {
    "duration": 32,
    "start_time": "2025-06-21T12:32:56.130Z"
   },
   {
    "duration": 3,
    "start_time": "2025-06-21T12:32:56.166Z"
   },
   {
    "duration": 4545,
    "start_time": "2025-06-21T12:32:56.171Z"
   },
   {
    "duration": 718,
    "start_time": "2025-06-21T12:33:00.718Z"
   },
   {
    "duration": 695,
    "start_time": "2025-06-21T12:33:01.438Z"
   },
   {
    "duration": 9,
    "start_time": "2025-06-21T12:33:02.135Z"
   },
   {
    "duration": 120,
    "start_time": "2025-06-21T12:33:02.146Z"
   },
   {
    "duration": 20,
    "start_time": "2025-06-21T12:33:02.268Z"
   },
   {
    "duration": 14,
    "start_time": "2025-06-21T12:33:02.290Z"
   },
   {
    "duration": 53,
    "start_time": "2025-06-21T12:33:02.306Z"
   },
   {
    "duration": 33,
    "start_time": "2025-06-21T12:33:02.360Z"
   },
   {
    "duration": 184,
    "start_time": "2025-06-21T12:33:02.394Z"
   },
   {
    "duration": 42,
    "start_time": "2025-06-21T12:33:02.580Z"
   },
   {
    "duration": 32,
    "start_time": "2025-06-21T12:33:02.623Z"
   },
   {
    "duration": 5,
    "start_time": "2025-06-21T12:33:02.663Z"
   },
   {
    "duration": 30,
    "start_time": "2025-06-21T12:33:02.671Z"
   },
   {
    "duration": 65,
    "start_time": "2025-06-21T12:36:43.053Z"
   },
   {
    "duration": 5577,
    "start_time": "2025-06-21T12:36:50.441Z"
   },
   {
    "duration": 2404,
    "start_time": "2025-06-21T12:36:56.020Z"
   },
   {
    "duration": 1136,
    "start_time": "2025-06-21T12:36:58.425Z"
   },
   {
    "duration": 44,
    "start_time": "2025-06-21T12:36:59.567Z"
   },
   {
    "duration": 98,
    "start_time": "2025-06-21T12:36:59.613Z"
   },
   {
    "duration": 278,
    "start_time": "2025-06-21T12:36:59.713Z"
   },
   {
    "duration": 6,
    "start_time": "2025-06-21T12:36:59.993Z"
   },
   {
    "duration": 55,
    "start_time": "2025-06-21T12:37:00.001Z"
   },
   {
    "duration": 76,
    "start_time": "2025-06-21T12:37:00.057Z"
   },
   {
    "duration": 234,
    "start_time": "2025-06-21T12:37:00.134Z"
   },
   {
    "duration": 14,
    "start_time": "2025-06-21T12:37:00.369Z"
   },
   {
    "duration": 15,
    "start_time": "2025-06-21T12:37:00.384Z"
   },
   {
    "duration": 105935,
    "start_time": "2025-06-21T12:37:00.400Z"
   },
   {
    "duration": 14,
    "start_time": "2025-06-21T12:38:46.342Z"
   },
   {
    "duration": 4,
    "start_time": "2025-06-21T12:38:46.357Z"
   },
   {
    "duration": 5,
    "start_time": "2025-06-21T12:38:46.362Z"
   },
   {
    "duration": 3,
    "start_time": "2025-06-21T12:38:46.368Z"
   },
   {
    "duration": 88,
    "start_time": "2025-06-21T12:38:46.373Z"
   },
   {
    "duration": 27,
    "start_time": "2025-06-21T12:38:46.464Z"
   },
   {
    "duration": 2,
    "start_time": "2025-06-21T12:38:46.493Z"
   },
   {
    "duration": 3607,
    "start_time": "2025-06-21T12:38:46.497Z"
   },
   {
    "duration": 982,
    "start_time": "2025-06-21T12:38:50.105Z"
   },
   {
    "duration": 953,
    "start_time": "2025-06-21T12:38:51.090Z"
   },
   {
    "duration": 3,
    "start_time": "2025-06-21T12:38:52.045Z"
   },
   {
    "duration": 18,
    "start_time": "2025-06-21T12:38:52.054Z"
   },
   {
    "duration": 35,
    "start_time": "2025-06-21T12:38:52.073Z"
   },
   {
    "duration": 562244,
    "start_time": "2025-06-21T12:38:52.110Z"
   },
   {
    "duration": 6,
    "start_time": "2025-06-21T12:48:14.356Z"
   },
   {
    "duration": 8,
    "start_time": "2025-06-21T12:48:14.370Z"
   },
   {
    "duration": 5,
    "start_time": "2025-06-21T12:48:14.380Z"
   },
   {
    "duration": 9,
    "start_time": "2025-06-21T12:48:14.387Z"
   },
   {
    "duration": 194,
    "start_time": "2025-06-21T12:48:14.398Z"
   },
   {
    "duration": 0,
    "start_time": "2025-06-21T12:48:14.594Z"
   },
   {
    "duration": 0,
    "start_time": "2025-06-21T12:48:14.596Z"
   },
   {
    "duration": 0,
    "start_time": "2025-06-21T12:48:14.597Z"
   },
   {
    "duration": 0,
    "start_time": "2025-06-21T12:48:14.599Z"
   },
   {
    "duration": 20,
    "start_time": "2025-06-21T12:58:10.081Z"
   },
   {
    "duration": 9,
    "start_time": "2025-06-21T12:59:19.949Z"
   },
   {
    "duration": 21,
    "start_time": "2025-06-21T12:59:24.037Z"
   },
   {
    "duration": 6,
    "start_time": "2025-06-21T13:04:03.580Z"
   },
   {
    "duration": 15,
    "start_time": "2025-06-21T13:04:28.921Z"
   },
   {
    "duration": 2,
    "start_time": "2025-06-21T13:05:35.232Z"
   },
   {
    "duration": 3,
    "start_time": "2025-06-21T13:05:47.020Z"
   },
   {
    "duration": 20,
    "start_time": "2025-06-21T13:05:49.425Z"
   },
   {
    "duration": 7,
    "start_time": "2025-06-21T13:06:13.651Z"
   },
   {
    "duration": 4,
    "start_time": "2025-06-21T13:06:42.360Z"
   },
   {
    "duration": 12,
    "start_time": "2025-06-21T13:06:57.037Z"
   },
   {
    "duration": 3,
    "start_time": "2025-06-21T13:08:29.502Z"
   },
   {
    "duration": 5,
    "start_time": "2025-06-21T13:08:40.769Z"
   },
   {
    "duration": 6,
    "start_time": "2025-06-21T13:09:48.854Z"
   },
   {
    "duration": 20,
    "start_time": "2025-06-21T13:09:54.230Z"
   },
   {
    "duration": 3,
    "start_time": "2025-06-21T13:10:07.885Z"
   },
   {
    "duration": 145,
    "start_time": "2025-06-21T13:10:29.048Z"
   },
   {
    "duration": 22,
    "start_time": "2025-06-21T13:12:11.032Z"
   },
   {
    "duration": 4,
    "start_time": "2025-06-21T13:12:49.987Z"
   },
   {
    "duration": 3,
    "start_time": "2025-06-21T13:12:55.388Z"
   },
   {
    "duration": 146,
    "start_time": "2025-06-21T13:12:59.183Z"
   },
   {
    "duration": 8,
    "start_time": "2025-06-21T13:19:13.965Z"
   },
   {
    "duration": 4,
    "start_time": "2025-06-21T13:19:16.182Z"
   },
   {
    "duration": 140,
    "start_time": "2025-06-21T13:19:17.979Z"
   },
   {
    "duration": 7,
    "start_time": "2025-06-21T13:22:43.675Z"
   },
   {
    "duration": 3,
    "start_time": "2025-06-21T13:22:47.904Z"
   },
   {
    "duration": 133,
    "start_time": "2025-06-21T13:22:50.863Z"
   },
   {
    "duration": 15,
    "start_time": "2025-06-21T13:25:38.008Z"
   },
   {
    "duration": 18,
    "start_time": "2025-06-21T13:25:55.128Z"
   },
   {
    "duration": 16,
    "start_time": "2025-06-21T13:26:11.694Z"
   },
   {
    "duration": 15,
    "start_time": "2025-06-21T13:26:40.712Z"
   },
   {
    "duration": 4,
    "start_time": "2025-06-21T13:30:10.989Z"
   },
   {
    "duration": 17,
    "start_time": "2025-06-21T13:30:20.276Z"
   },
   {
    "duration": 3,
    "start_time": "2025-06-21T13:30:38.326Z"
   },
   {
    "duration": 3,
    "start_time": "2025-06-21T13:30:40.696Z"
   },
   {
    "duration": 142,
    "start_time": "2025-06-21T13:30:44.515Z"
   },
   {
    "duration": 4,
    "start_time": "2025-06-21T13:36:56.062Z"
   },
   {
    "duration": 6,
    "start_time": "2025-06-21T13:36:58.742Z"
   },
   {
    "duration": 7,
    "start_time": "2025-06-21T13:37:01.672Z"
   },
   {
    "duration": 50,
    "start_time": "2025-06-21T13:38:57.079Z"
   },
   {
    "duration": 5,
    "start_time": "2025-06-21T13:50:48.568Z"
   },
   {
    "duration": 5,
    "start_time": "2025-06-21T13:53:47.174Z"
   },
   {
    "duration": 7,
    "start_time": "2025-06-21T13:56:56.895Z"
   },
   {
    "duration": 5371,
    "start_time": "2025-06-21T13:57:49.386Z"
   },
   {
    "duration": 2375,
    "start_time": "2025-06-21T13:57:54.760Z"
   },
   {
    "duration": 1297,
    "start_time": "2025-06-21T13:57:57.137Z"
   },
   {
    "duration": 47,
    "start_time": "2025-06-21T13:57:58.436Z"
   },
   {
    "duration": 109,
    "start_time": "2025-06-21T13:57:58.486Z"
   },
   {
    "duration": 258,
    "start_time": "2025-06-21T13:57:58.596Z"
   },
   {
    "duration": 6,
    "start_time": "2025-06-21T13:57:58.856Z"
   },
   {
    "duration": 98,
    "start_time": "2025-06-21T13:57:58.863Z"
   },
   {
    "duration": 15,
    "start_time": "2025-06-21T13:57:58.963Z"
   },
   {
    "duration": 151,
    "start_time": "2025-06-21T13:57:58.980Z"
   },
   {
    "duration": 24,
    "start_time": "2025-06-21T13:57:59.132Z"
   },
   {
    "duration": 54,
    "start_time": "2025-06-21T13:57:59.157Z"
   },
   {
    "duration": 101642,
    "start_time": "2025-06-21T13:57:59.212Z"
   },
   {
    "duration": 8,
    "start_time": "2025-06-21T13:59:40.857Z"
   },
   {
    "duration": 51,
    "start_time": "2025-06-21T13:59:40.866Z"
   },
   {
    "duration": 14,
    "start_time": "2025-06-21T13:59:40.919Z"
   },
   {
    "duration": 11,
    "start_time": "2025-06-21T13:59:40.935Z"
   },
   {
    "duration": 77,
    "start_time": "2025-06-21T13:59:40.948Z"
   },
   {
    "duration": 41,
    "start_time": "2025-06-21T13:59:41.027Z"
   },
   {
    "duration": 2,
    "start_time": "2025-06-21T13:59:41.070Z"
   },
   {
    "duration": 3310,
    "start_time": "2025-06-21T13:59:41.074Z"
   },
   {
    "duration": 964,
    "start_time": "2025-06-21T13:59:44.386Z"
   },
   {
    "duration": 917,
    "start_time": "2025-06-21T13:59:45.352Z"
   },
   {
    "duration": 4,
    "start_time": "2025-06-21T13:59:46.271Z"
   },
   {
    "duration": 174,
    "start_time": "2025-06-21T13:59:46.277Z"
   },
   {
    "duration": 0,
    "start_time": "2025-06-21T13:59:46.453Z"
   },
   {
    "duration": 0,
    "start_time": "2025-06-21T13:59:46.455Z"
   },
   {
    "duration": 5,
    "start_time": "2025-06-21T14:02:09.075Z"
   },
   {
    "duration": 26,
    "start_time": "2025-06-21T14:02:14.673Z"
   },
   {
    "duration": 6,
    "start_time": "2025-06-21T14:02:31.836Z"
   },
   {
    "duration": 1196,
    "start_time": "2025-06-21T14:02:35.786Z"
   },
   {
    "duration": 5,
    "start_time": "2025-06-21T14:03:21.177Z"
   },
   {
    "duration": 49,
    "start_time": "2025-06-21T15:23:22.302Z"
   },
   {
    "duration": 5654,
    "start_time": "2025-06-21T15:26:32.231Z"
   },
   {
    "duration": 2353,
    "start_time": "2025-06-21T15:26:37.888Z"
   },
   {
    "duration": 1276,
    "start_time": "2025-06-21T15:26:40.243Z"
   },
   {
    "duration": 50,
    "start_time": "2025-06-21T15:26:41.521Z"
   },
   {
    "duration": 93,
    "start_time": "2025-06-21T15:26:41.573Z"
   },
   {
    "duration": 287,
    "start_time": "2025-06-21T15:26:41.669Z"
   },
   {
    "duration": 13,
    "start_time": "2025-06-21T15:26:41.958Z"
   },
   {
    "duration": 31,
    "start_time": "2025-06-21T15:26:41.974Z"
   },
   {
    "duration": 20,
    "start_time": "2025-06-21T15:26:42.007Z"
   },
   {
    "duration": 172,
    "start_time": "2025-06-21T15:26:42.029Z"
   },
   {
    "duration": 12,
    "start_time": "2025-06-21T15:26:42.203Z"
   },
   {
    "duration": 4,
    "start_time": "2025-06-21T15:26:42.217Z"
   },
   {
    "duration": 98145,
    "start_time": "2025-06-21T15:26:42.240Z"
   },
   {
    "duration": 8,
    "start_time": "2025-06-21T15:28:20.387Z"
   },
   {
    "duration": 23,
    "start_time": "2025-06-21T15:28:20.397Z"
   },
   {
    "duration": 26,
    "start_time": "2025-06-21T15:28:20.422Z"
   },
   {
    "duration": 15,
    "start_time": "2025-06-21T15:28:20.450Z"
   },
   {
    "duration": 89,
    "start_time": "2025-06-21T15:28:20.467Z"
   },
   {
    "duration": 31,
    "start_time": "2025-06-21T15:28:20.557Z"
   },
   {
    "duration": 2,
    "start_time": "2025-06-21T15:28:20.590Z"
   },
   {
    "duration": 3577,
    "start_time": "2025-06-21T15:28:20.593Z"
   },
   {
    "duration": 1051,
    "start_time": "2025-06-21T15:28:24.172Z"
   },
   {
    "duration": 1018,
    "start_time": "2025-06-21T15:28:25.225Z"
   },
   {
    "duration": 3,
    "start_time": "2025-06-21T15:28:26.245Z"
   },
   {
    "duration": 629346,
    "start_time": "2025-06-21T15:28:26.250Z"
   },
   {
    "duration": 146,
    "start_time": "2025-06-21T15:38:55.598Z"
   },
   {
    "duration": 0,
    "start_time": "2025-06-21T15:38:55.746Z"
   },
   {
    "duration": 0,
    "start_time": "2025-06-21T15:38:55.747Z"
   },
   {
    "duration": 0,
    "start_time": "2025-06-21T15:38:55.748Z"
   },
   {
    "duration": 0,
    "start_time": "2025-06-21T15:38:55.749Z"
   },
   {
    "duration": 0,
    "start_time": "2025-06-21T15:38:55.754Z"
   },
   {
    "duration": 401,
    "start_time": "2025-06-21T15:41:38.300Z"
   },
   {
    "duration": 11,
    "start_time": "2025-06-21T15:41:41.763Z"
   },
   {
    "duration": 14,
    "start_time": "2025-06-21T15:41:51.403Z"
   },
   {
    "duration": 14,
    "start_time": "2025-06-21T15:41:59.685Z"
   },
   {
    "duration": 3,
    "start_time": "2025-06-21T15:43:18.292Z"
   },
   {
    "duration": 4,
    "start_time": "2025-06-21T15:44:47.570Z"
   },
   {
    "duration": 70,
    "start_time": "2025-06-21T15:48:05.759Z"
   },
   {
    "duration": 4,
    "start_time": "2025-06-21T15:48:25.552Z"
   },
   {
    "duration": 68,
    "start_time": "2025-06-21T15:48:27.162Z"
   },
   {
    "duration": 70,
    "start_time": "2025-06-21T15:48:41.985Z"
   },
   {
    "duration": 4,
    "start_time": "2025-06-21T15:48:55.490Z"
   },
   {
    "duration": 62,
    "start_time": "2025-06-21T15:49:07.780Z"
   },
   {
    "duration": 203568,
    "start_time": "2025-06-21T15:49:20.090Z"
   },
   {
    "duration": 4,
    "start_time": "2025-06-21T15:53:11.631Z"
   },
   {
    "duration": 4,
    "start_time": "2025-06-21T15:53:15.409Z"
   },
   {
    "duration": 3,
    "start_time": "2025-06-21T15:53:43.907Z"
   },
   {
    "duration": 7505,
    "start_time": "2025-06-22T07:49:16.203Z"
   },
   {
    "duration": 2295,
    "start_time": "2025-06-22T07:49:23.710Z"
   },
   {
    "duration": 879,
    "start_time": "2025-06-22T07:49:26.007Z"
   },
   {
    "duration": 42,
    "start_time": "2025-06-22T07:49:26.888Z"
   },
   {
    "duration": 84,
    "start_time": "2025-06-22T07:49:26.931Z"
   },
   {
    "duration": 240,
    "start_time": "2025-06-22T07:49:27.017Z"
   },
   {
    "duration": 15,
    "start_time": "2025-06-22T07:49:27.259Z"
   },
   {
    "duration": 12,
    "start_time": "2025-06-22T07:49:27.276Z"
   },
   {
    "duration": 21,
    "start_time": "2025-06-22T07:49:27.291Z"
   },
   {
    "duration": 208,
    "start_time": "2025-06-22T07:49:27.315Z"
   },
   {
    "duration": 14,
    "start_time": "2025-06-22T07:49:27.525Z"
   },
   {
    "duration": 4,
    "start_time": "2025-06-22T07:49:27.540Z"
   },
   {
    "duration": 5122,
    "start_time": "2025-06-22T07:50:40.098Z"
   },
   {
    "duration": 1967,
    "start_time": "2025-06-22T07:50:45.223Z"
   },
   {
    "duration": 847,
    "start_time": "2025-06-22T07:50:47.191Z"
   },
   {
    "duration": 48,
    "start_time": "2025-06-22T07:50:48.039Z"
   },
   {
    "duration": 89,
    "start_time": "2025-06-22T07:50:48.089Z"
   },
   {
    "duration": 255,
    "start_time": "2025-06-22T07:50:48.180Z"
   },
   {
    "duration": 6,
    "start_time": "2025-06-22T07:50:48.437Z"
   },
   {
    "duration": 53,
    "start_time": "2025-06-22T07:50:48.444Z"
   },
   {
    "duration": 15,
    "start_time": "2025-06-22T07:50:48.498Z"
   },
   {
    "duration": 171,
    "start_time": "2025-06-22T07:50:48.514Z"
   },
   {
    "duration": 16,
    "start_time": "2025-06-22T07:50:48.688Z"
   },
   {
    "duration": 4,
    "start_time": "2025-06-22T07:50:48.706Z"
   },
   {
    "duration": 94525,
    "start_time": "2025-06-22T07:50:48.711Z"
   },
   {
    "duration": 8,
    "start_time": "2025-06-22T07:52:23.239Z"
   },
   {
    "duration": 9,
    "start_time": "2025-06-22T07:52:23.249Z"
   },
   {
    "duration": 14,
    "start_time": "2025-06-22T07:52:23.260Z"
   },
   {
    "duration": 17,
    "start_time": "2025-06-22T07:52:23.275Z"
   },
   {
    "duration": 70,
    "start_time": "2025-06-22T07:52:23.294Z"
   },
   {
    "duration": 41,
    "start_time": "2025-06-22T07:52:23.366Z"
   },
   {
    "duration": 3,
    "start_time": "2025-06-22T07:52:23.408Z"
   },
   {
    "duration": 3025,
    "start_time": "2025-06-22T07:52:23.412Z"
   },
   {
    "duration": 866,
    "start_time": "2025-06-22T07:52:26.438Z"
   },
   {
    "duration": 842,
    "start_time": "2025-06-22T07:52:27.305Z"
   },
   {
    "duration": 5237,
    "start_time": "2025-06-22T07:55:48.320Z"
   },
   {
    "duration": 2192,
    "start_time": "2025-06-22T07:55:53.560Z"
   },
   {
    "duration": 882,
    "start_time": "2025-06-22T07:55:55.754Z"
   },
   {
    "duration": 44,
    "start_time": "2025-06-22T07:55:56.638Z"
   },
   {
    "duration": 87,
    "start_time": "2025-06-22T07:55:56.684Z"
   },
   {
    "duration": 253,
    "start_time": "2025-06-22T07:55:56.774Z"
   },
   {
    "duration": 6,
    "start_time": "2025-06-22T07:55:57.028Z"
   },
   {
    "duration": 58,
    "start_time": "2025-06-22T07:55:57.035Z"
   },
   {
    "duration": 69,
    "start_time": "2025-06-22T07:55:57.095Z"
   },
   {
    "duration": 159,
    "start_time": "2025-06-22T07:55:57.166Z"
   },
   {
    "duration": 13,
    "start_time": "2025-06-22T07:55:57.326Z"
   },
   {
    "duration": 4,
    "start_time": "2025-06-22T07:55:57.340Z"
   },
   {
    "duration": 93699,
    "start_time": "2025-06-22T07:55:57.345Z"
   },
   {
    "duration": 8,
    "start_time": "2025-06-22T07:57:31.046Z"
   },
   {
    "duration": 18,
    "start_time": "2025-06-22T07:57:31.056Z"
   },
   {
    "duration": 13,
    "start_time": "2025-06-22T07:57:31.076Z"
   },
   {
    "duration": 9,
    "start_time": "2025-06-22T07:57:31.090Z"
   },
   {
    "duration": 70,
    "start_time": "2025-06-22T07:57:31.101Z"
   },
   {
    "duration": 38,
    "start_time": "2025-06-22T07:57:31.173Z"
   },
   {
    "duration": 3,
    "start_time": "2025-06-22T07:57:31.213Z"
   },
   {
    "duration": 3273,
    "start_time": "2025-06-22T07:57:31.217Z"
   },
   {
    "duration": 980,
    "start_time": "2025-06-22T07:57:34.491Z"
   },
   {
    "duration": 942,
    "start_time": "2025-06-22T07:57:35.473Z"
   },
   {
    "duration": 5097,
    "start_time": "2025-06-22T13:22:34.926Z"
   },
   {
    "duration": 2015,
    "start_time": "2025-06-22T13:22:40.025Z"
   },
   {
    "duration": 878,
    "start_time": "2025-06-22T13:22:42.043Z"
   },
   {
    "duration": 50,
    "start_time": "2025-06-22T13:22:42.923Z"
   },
   {
    "duration": 76,
    "start_time": "2025-06-22T13:22:42.975Z"
   },
   {
    "duration": 248,
    "start_time": "2025-06-22T13:22:43.053Z"
   },
   {
    "duration": 5,
    "start_time": "2025-06-22T13:22:43.303Z"
   },
   {
    "duration": 9,
    "start_time": "2025-06-22T13:22:43.310Z"
   },
   {
    "duration": 18,
    "start_time": "2025-06-22T13:22:43.321Z"
   },
   {
    "duration": 178,
    "start_time": "2025-06-22T13:22:43.342Z"
   },
   {
    "duration": 14,
    "start_time": "2025-06-22T13:22:43.522Z"
   },
   {
    "duration": 6,
    "start_time": "2025-06-22T13:22:43.538Z"
   },
   {
    "duration": 91403,
    "start_time": "2025-06-22T13:22:43.546Z"
   },
   {
    "duration": 7,
    "start_time": "2025-06-22T13:24:14.951Z"
   },
   {
    "duration": 4,
    "start_time": "2025-06-22T13:24:14.971Z"
   },
   {
    "duration": 3,
    "start_time": "2025-06-22T13:24:14.976Z"
   },
   {
    "duration": 10,
    "start_time": "2025-06-22T13:24:14.981Z"
   },
   {
    "duration": 78,
    "start_time": "2025-06-22T13:24:14.993Z"
   },
   {
    "duration": 30,
    "start_time": "2025-06-22T13:24:15.073Z"
   },
   {
    "duration": 14,
    "start_time": "2025-06-22T13:24:15.105Z"
   },
   {
    "duration": 3051,
    "start_time": "2025-06-22T13:24:15.120Z"
   },
   {
    "duration": 872,
    "start_time": "2025-06-22T13:24:18.173Z"
   },
   {
    "duration": 847,
    "start_time": "2025-06-22T13:24:19.046Z"
   },
   {
    "duration": 241925,
    "start_time": "2025-06-22T13:24:19.895Z"
   },
   {
    "duration": 0,
    "start_time": "2025-06-22T13:28:21.822Z"
   },
   {
    "duration": 0,
    "start_time": "2025-06-22T13:28:21.823Z"
   },
   {
    "duration": 0,
    "start_time": "2025-06-22T13:28:21.825Z"
   },
   {
    "duration": 0,
    "start_time": "2025-06-22T13:28:21.826Z"
   },
   {
    "duration": 0,
    "start_time": "2025-06-22T13:28:21.827Z"
   },
   {
    "duration": 0,
    "start_time": "2025-06-22T13:28:21.828Z"
   },
   {
    "duration": 0,
    "start_time": "2025-06-22T13:28:21.830Z"
   },
   {
    "duration": 0,
    "start_time": "2025-06-22T13:28:21.831Z"
   },
   {
    "duration": 0,
    "start_time": "2025-06-22T13:28:21.832Z"
   },
   {
    "duration": 0,
    "start_time": "2025-06-22T13:28:21.833Z"
   },
   {
    "duration": 0,
    "start_time": "2025-06-22T13:28:21.834Z"
   },
   {
    "duration": 0,
    "start_time": "2025-06-22T13:28:21.835Z"
   },
   {
    "duration": 0,
    "start_time": "2025-06-22T13:28:21.873Z"
   },
   {
    "duration": 0,
    "start_time": "2025-06-22T13:28:21.874Z"
   },
   {
    "duration": 0,
    "start_time": "2025-06-22T13:28:21.876Z"
   },
   {
    "duration": 9,
    "start_time": "2025-06-22T13:29:10.339Z"
   },
   {
    "duration": 464,
    "start_time": "2025-06-22T15:07:40.273Z"
   },
   {
    "duration": 108,
    "start_time": "2025-06-22T15:10:02.460Z"
   },
   {
    "duration": 10,
    "start_time": "2025-06-22T15:11:16.943Z"
   },
   {
    "duration": 7,
    "start_time": "2025-06-22T15:11:25.781Z"
   },
   {
    "duration": 1397,
    "start_time": "2025-06-22T15:11:44.100Z"
   },
   {
    "duration": 6,
    "start_time": "2025-06-22T15:11:59.108Z"
   },
   {
    "duration": 1458,
    "start_time": "2025-06-22T15:12:11.285Z"
   },
   {
    "duration": 1097,
    "start_time": "2025-06-22T15:13:16.146Z"
   },
   {
    "duration": 6,
    "start_time": "2025-06-22T15:13:23.127Z"
   },
   {
    "duration": 1070,
    "start_time": "2025-06-22T15:13:34.736Z"
   },
   {
    "duration": 15,
    "start_time": "2025-06-22T15:13:45.292Z"
   },
   {
    "duration": 4,
    "start_time": "2025-06-22T15:14:36.451Z"
   },
   {
    "duration": 4,
    "start_time": "2025-06-22T15:14:41.887Z"
   },
   {
    "duration": 3,
    "start_time": "2025-06-22T15:15:04.248Z"
   },
   {
    "duration": 10,
    "start_time": "2025-06-22T15:15:07.604Z"
   },
   {
    "duration": 43,
    "start_time": "2025-06-22T15:15:19.963Z"
   },
   {
    "duration": 12,
    "start_time": "2025-06-22T15:15:26.206Z"
   },
   {
    "duration": 13,
    "start_time": "2025-06-22T15:15:30.922Z"
   },
   {
    "duration": 4,
    "start_time": "2025-06-22T15:15:49.428Z"
   },
   {
    "duration": 11,
    "start_time": "2025-06-22T15:15:51.201Z"
   },
   {
    "duration": 1787,
    "start_time": "2025-06-22T15:17:20.532Z"
   },
   {
    "duration": 5,
    "start_time": "2025-06-22T15:17:49.622Z"
   },
   {
    "duration": 1720,
    "start_time": "2025-06-22T15:18:00.000Z"
   },
   {
    "duration": 1762,
    "start_time": "2025-06-22T15:18:31.660Z"
   },
   {
    "duration": 5275,
    "start_time": "2025-06-22T15:19:44.702Z"
   },
   {
    "duration": 2191,
    "start_time": "2025-06-22T15:19:49.980Z"
   },
   {
    "duration": 1017,
    "start_time": "2025-06-22T15:19:52.173Z"
   },
   {
    "duration": 43,
    "start_time": "2025-06-22T15:19:53.192Z"
   },
   {
    "duration": 109,
    "start_time": "2025-06-22T15:19:53.236Z"
   },
   {
    "duration": 253,
    "start_time": "2025-06-22T15:19:53.347Z"
   },
   {
    "duration": 6,
    "start_time": "2025-06-22T15:19:53.602Z"
   },
   {
    "duration": 21,
    "start_time": "2025-06-22T15:19:53.609Z"
   },
   {
    "duration": 17,
    "start_time": "2025-06-22T15:19:53.632Z"
   },
   {
    "duration": 167,
    "start_time": "2025-06-22T15:19:53.671Z"
   },
   {
    "duration": 15,
    "start_time": "2025-06-22T15:19:53.841Z"
   },
   {
    "duration": 17,
    "start_time": "2025-06-22T15:19:53.857Z"
   },
   {
    "duration": 97726,
    "start_time": "2025-06-22T15:19:53.875Z"
   },
   {
    "duration": 8,
    "start_time": "2025-06-22T15:21:31.603Z"
   },
   {
    "duration": 17,
    "start_time": "2025-06-22T15:21:31.613Z"
   },
   {
    "duration": 37,
    "start_time": "2025-06-22T15:21:31.632Z"
   },
   {
    "duration": 6,
    "start_time": "2025-06-22T15:21:31.672Z"
   },
   {
    "duration": 76,
    "start_time": "2025-06-22T15:21:31.680Z"
   },
   {
    "duration": 38,
    "start_time": "2025-06-22T15:21:31.758Z"
   },
   {
    "duration": 2,
    "start_time": "2025-06-22T15:21:31.798Z"
   },
   {
    "duration": 3276,
    "start_time": "2025-06-22T15:21:31.803Z"
   },
   {
    "duration": 1890,
    "start_time": "2025-06-22T15:21:35.081Z"
   },
   {
    "duration": 1337,
    "start_time": "2025-06-22T15:21:36.974Z"
   },
   {
    "duration": 83,
    "start_time": "2025-06-22T15:21:38.313Z"
   },
   {
    "duration": 10,
    "start_time": "2025-06-22T15:21:38.398Z"
   },
   {
    "duration": 6,
    "start_time": "2025-06-22T15:21:38.410Z"
   },
   {
    "duration": 1742,
    "start_time": "2025-06-22T15:21:38.418Z"
   },
   {
    "duration": 0,
    "start_time": "2025-06-22T15:21:40.164Z"
   },
   {
    "duration": 0,
    "start_time": "2025-06-22T15:21:40.166Z"
   },
   {
    "duration": 0,
    "start_time": "2025-06-22T15:21:40.167Z"
   },
   {
    "duration": 0,
    "start_time": "2025-06-22T15:21:40.169Z"
   },
   {
    "duration": 0,
    "start_time": "2025-06-22T15:21:40.170Z"
   },
   {
    "duration": 0,
    "start_time": "2025-06-22T15:21:40.172Z"
   },
   {
    "duration": 0,
    "start_time": "2025-06-22T15:21:40.173Z"
   },
   {
    "duration": 0,
    "start_time": "2025-06-22T15:21:40.174Z"
   },
   {
    "duration": 0,
    "start_time": "2025-06-22T15:21:40.176Z"
   },
   {
    "duration": 0,
    "start_time": "2025-06-22T15:21:40.179Z"
   },
   {
    "duration": 0,
    "start_time": "2025-06-22T15:21:40.180Z"
   },
   {
    "duration": 0,
    "start_time": "2025-06-22T15:21:40.181Z"
   },
   {
    "duration": 0,
    "start_time": "2025-06-22T15:21:40.183Z"
   },
   {
    "duration": 0,
    "start_time": "2025-06-22T15:21:40.185Z"
   },
   {
    "duration": 0,
    "start_time": "2025-06-22T15:21:40.186Z"
   },
   {
    "duration": 0,
    "start_time": "2025-06-22T15:21:40.187Z"
   },
   {
    "duration": 0,
    "start_time": "2025-06-22T15:21:40.189Z"
   },
   {
    "duration": 4,
    "start_time": "2025-06-22T15:23:52.148Z"
   },
   {
    "duration": 4,
    "start_time": "2025-06-22T15:23:54.779Z"
   },
   {
    "duration": 3,
    "start_time": "2025-06-22T15:24:53.795Z"
   },
   {
    "duration": 5087,
    "start_time": "2025-06-22T17:32:17.826Z"
   },
   {
    "duration": 2060,
    "start_time": "2025-06-22T17:32:22.916Z"
   },
   {
    "duration": 995,
    "start_time": "2025-06-22T17:32:24.978Z"
   },
   {
    "duration": 44,
    "start_time": "2025-06-22T17:32:25.975Z"
   },
   {
    "duration": 97,
    "start_time": "2025-06-22T17:32:26.020Z"
   },
   {
    "duration": 248,
    "start_time": "2025-06-22T17:32:26.118Z"
   },
   {
    "duration": 7,
    "start_time": "2025-06-22T17:32:26.372Z"
   },
   {
    "duration": 13,
    "start_time": "2025-06-22T17:32:26.383Z"
   },
   {
    "duration": 19,
    "start_time": "2025-06-22T17:32:26.398Z"
   },
   {
    "duration": 179,
    "start_time": "2025-06-22T17:32:26.420Z"
   },
   {
    "duration": 18,
    "start_time": "2025-06-22T17:32:26.608Z"
   },
   {
    "duration": 6,
    "start_time": "2025-06-22T17:32:26.627Z"
   },
   {
    "duration": 95053,
    "start_time": "2025-06-22T17:32:26.634Z"
   },
   {
    "duration": 8,
    "start_time": "2025-06-22T17:34:01.689Z"
   },
   {
    "duration": 75,
    "start_time": "2025-06-22T17:34:01.699Z"
   },
   {
    "duration": 10,
    "start_time": "2025-06-22T17:34:01.776Z"
   },
   {
    "duration": 3,
    "start_time": "2025-06-22T17:34:01.788Z"
   },
   {
    "duration": 78,
    "start_time": "2025-06-22T17:34:01.793Z"
   },
   {
    "duration": 34,
    "start_time": "2025-06-22T17:34:01.873Z"
   },
   {
    "duration": 2,
    "start_time": "2025-06-22T17:34:01.910Z"
   },
   {
    "duration": 3232,
    "start_time": "2025-06-22T17:34:01.914Z"
   },
   {
    "duration": 906,
    "start_time": "2025-06-22T17:34:05.147Z"
   },
   {
    "duration": 916,
    "start_time": "2025-06-22T17:34:06.055Z"
   },
   {
    "duration": 76,
    "start_time": "2025-06-22T17:34:06.973Z"
   },
   {
    "duration": 23,
    "start_time": "2025-06-22T17:34:07.051Z"
   },
   {
    "duration": 4,
    "start_time": "2025-06-22T17:34:07.076Z"
   },
   {
    "duration": 6,
    "start_time": "2025-06-22T17:34:07.082Z"
   },
   {
    "duration": 3,
    "start_time": "2025-06-22T17:34:07.092Z"
   },
   {
    "duration": 4,
    "start_time": "2025-06-22T17:34:07.097Z"
   },
   {
    "duration": 304,
    "start_time": "2025-06-22T17:34:07.102Z"
   },
   {
    "duration": 14,
    "start_time": "2025-06-22T17:34:07.408Z"
   },
   {
    "duration": 0,
    "start_time": "2025-06-22T17:34:07.424Z"
   },
   {
    "duration": 0,
    "start_time": "2025-06-22T17:34:07.425Z"
   },
   {
    "duration": 0,
    "start_time": "2025-06-22T17:34:07.427Z"
   },
   {
    "duration": 0,
    "start_time": "2025-06-22T17:34:07.429Z"
   },
   {
    "duration": 0,
    "start_time": "2025-06-22T17:34:07.430Z"
   },
   {
    "duration": 0,
    "start_time": "2025-06-22T17:34:07.432Z"
   },
   {
    "duration": 0,
    "start_time": "2025-06-22T17:34:07.434Z"
   },
   {
    "duration": 0,
    "start_time": "2025-06-22T17:34:07.435Z"
   },
   {
    "duration": 0,
    "start_time": "2025-06-22T17:34:07.437Z"
   },
   {
    "duration": 0,
    "start_time": "2025-06-22T17:34:07.438Z"
   },
   {
    "duration": 0,
    "start_time": "2025-06-22T17:34:07.440Z"
   },
   {
    "duration": 0,
    "start_time": "2025-06-22T17:34:07.441Z"
   },
   {
    "duration": 0,
    "start_time": "2025-06-22T17:34:07.443Z"
   },
   {
    "duration": 195,
    "start_time": "2025-06-22T17:35:50.028Z"
   },
   {
    "duration": 3,
    "start_time": "2025-06-22T17:36:21.296Z"
   },
   {
    "duration": 3,
    "start_time": "2025-06-22T17:36:23.910Z"
   },
   {
    "duration": 3,
    "start_time": "2025-06-22T17:36:26.905Z"
   },
   {
    "duration": 207,
    "start_time": "2025-06-22T17:36:29.141Z"
   },
   {
    "duration": 4,
    "start_time": "2025-06-22T17:42:45.745Z"
   },
   {
    "duration": 3,
    "start_time": "2025-06-22T17:42:47.317Z"
   },
   {
    "duration": 160,
    "start_time": "2025-06-22T17:42:55.298Z"
   },
   {
    "duration": 6,
    "start_time": "2025-06-22T17:44:52.176Z"
   },
   {
    "duration": 294,
    "start_time": "2025-06-22T17:45:39.779Z"
   },
   {
    "duration": 129,
    "start_time": "2025-06-22T17:46:00.269Z"
   },
   {
    "duration": 96089,
    "start_time": "2025-06-22T17:46:17.748Z"
   },
   {
    "duration": 68,
    "start_time": "2025-06-22T17:54:30.802Z"
   },
   {
    "duration": 6,
    "start_time": "2025-06-22T17:54:34.443Z"
   },
   {
    "duration": 84,
    "start_time": "2025-06-22T17:54:37.299Z"
   },
   {
    "duration": 43,
    "start_time": "2025-06-22T17:54:38.508Z"
   },
   {
    "duration": 13909,
    "start_time": "2025-06-22T17:54:44.920Z"
   },
   {
    "duration": 14349,
    "start_time": "2025-06-22T17:55:21.490Z"
   },
   {
    "duration": 3,
    "start_time": "2025-06-22T17:56:05.813Z"
   },
   {
    "duration": 4,
    "start_time": "2025-06-22T17:56:07.119Z"
   },
   {
    "duration": 3,
    "start_time": "2025-06-22T17:56:08.434Z"
   },
   {
    "duration": 3,
    "start_time": "2025-06-22T17:56:16.068Z"
   },
   {
    "duration": 3,
    "start_time": "2025-06-22T17:56:16.877Z"
   },
   {
    "duration": 3,
    "start_time": "2025-06-22T17:56:17.919Z"
   },
   {
    "duration": 14875,
    "start_time": "2025-06-22T17:56:19.380Z"
   },
   {
    "duration": 3,
    "start_time": "2025-06-22T17:57:02.036Z"
   },
   {
    "duration": 7464,
    "start_time": "2025-06-22T17:57:04.212Z"
   },
   {
    "duration": 4,
    "start_time": "2025-06-22T17:57:48.284Z"
   },
   {
    "duration": 3,
    "start_time": "2025-06-22T17:57:49.189Z"
   },
   {
    "duration": 13870,
    "start_time": "2025-06-22T17:57:50.403Z"
   },
   {
    "duration": 804,
    "start_time": "2025-06-22T17:58:17.301Z"
   },
   {
    "duration": 5,
    "start_time": "2025-06-22T18:00:22.530Z"
   },
   {
    "duration": 5,
    "start_time": "2025-06-22T18:00:29.532Z"
   },
   {
    "duration": 68,
    "start_time": "2025-06-22T18:00:56.255Z"
   },
   {
    "duration": 4,
    "start_time": "2025-06-22T18:01:01.237Z"
   },
   {
    "duration": 18,
    "start_time": "2025-06-22T18:01:02.587Z"
   },
   {
    "duration": 65,
    "start_time": "2025-06-22T18:01:15.346Z"
   },
   {
    "duration": 27,
    "start_time": "2025-06-22T18:01:16.695Z"
   },
   {
    "duration": 2,
    "start_time": "2025-06-22T18:01:17.829Z"
   },
   {
    "duration": 3122,
    "start_time": "2025-06-22T18:01:19.724Z"
   },
   {
    "duration": 931,
    "start_time": "2025-06-22T18:01:25.144Z"
   },
   {
    "duration": 895,
    "start_time": "2025-06-22T18:01:26.976Z"
   },
   {
    "duration": 22,
    "start_time": "2025-06-22T18:01:41.198Z"
   },
   {
    "duration": 85,
    "start_time": "2025-06-22T18:01:45.388Z"
   },
   {
    "duration": 7,
    "start_time": "2025-06-22T18:01:46.732Z"
   },
   {
    "duration": 75,
    "start_time": "2025-06-22T18:01:48.687Z"
   },
   {
    "duration": 35,
    "start_time": "2025-06-22T18:01:50.050Z"
   },
   {
    "duration": 1607933,
    "start_time": "2025-06-22T18:01:54.185Z"
   },
   {
    "duration": 16,
    "start_time": "2025-06-22T18:34:31.230Z"
   },
   {
    "duration": 12,
    "start_time": "2025-06-22T18:34:42.309Z"
   },
   {
    "duration": 4,
    "start_time": "2025-06-22T18:34:45.961Z"
   },
   {
    "duration": 4,
    "start_time": "2025-06-22T18:35:54.032Z"
   },
   {
    "duration": 1492586,
    "start_time": "2025-06-22T18:36:16.898Z"
   },
   {
    "duration": 13,
    "start_time": "2025-06-22T19:07:31.867Z"
   },
   {
    "duration": 422,
    "start_time": "2025-06-22T19:07:42.238Z"
   },
   {
    "duration": 12,
    "start_time": "2025-06-22T19:08:11.348Z"
   },
   {
    "duration": 4,
    "start_time": "2025-06-22T19:28:34.273Z"
   },
   {
    "duration": 1252598,
    "start_time": "2025-06-22T19:29:14.716Z"
   },
   {
    "duration": 5,
    "start_time": "2025-06-22T19:51:52.860Z"
   },
   {
    "duration": 4,
    "start_time": "2025-06-22T19:54:06.305Z"
   },
   {
    "duration": 4,
    "start_time": "2025-06-22T19:54:13.451Z"
   },
   {
    "duration": 4,
    "start_time": "2025-06-22T19:54:36.231Z"
   },
   {
    "duration": 3,
    "start_time": "2025-06-22T19:59:48.866Z"
   },
   {
    "duration": 215706,
    "start_time": "2025-06-22T19:59:51.372Z"
   },
   {
    "duration": 91,
    "start_time": "2025-06-22T20:03:27.081Z"
   },
   {
    "duration": 3,
    "start_time": "2025-06-22T20:04:04.251Z"
   },
   {
    "duration": 220105,
    "start_time": "2025-06-22T20:04:11.166Z"
   },
   {
    "duration": 6,
    "start_time": "2025-06-22T20:10:50.933Z"
   },
   {
    "duration": 4,
    "start_time": "2025-06-22T20:11:07.357Z"
   },
   {
    "duration": 3,
    "start_time": "2025-06-22T20:12:11.725Z"
   },
   {
    "duration": 63901,
    "start_time": "2025-06-22T20:12:15.472Z"
   },
   {
    "duration": 4,
    "start_time": "2025-06-22T20:15:40.094Z"
   },
   {
    "duration": 62455,
    "start_time": "2025-06-22T20:15:45.575Z"
   },
   {
    "duration": 3,
    "start_time": "2025-06-22T20:17:05.726Z"
   },
   {
    "duration": 61708,
    "start_time": "2025-06-22T20:17:08.996Z"
   },
   {
    "duration": 3,
    "start_time": "2025-06-22T20:19:08.271Z"
   },
   {
    "duration": 3,
    "start_time": "2025-06-22T20:19:13.483Z"
   },
   {
    "duration": 3,
    "start_time": "2025-06-22T20:19:17.250Z"
   },
   {
    "duration": 1297712,
    "start_time": "2025-06-22T20:19:33.244Z"
   },
   {
    "duration": 22957747,
    "start_time": "2025-06-22T20:47:51.431Z"
   },
   {
    "duration": 5,
    "start_time": "2025-06-23T06:35:49.146Z"
   },
   {
    "duration": 3,
    "start_time": "2025-06-23T06:46:24.657Z"
   },
   {
    "duration": 629550,
    "start_time": "2025-06-23T06:46:34.422Z"
   },
   {
    "duration": 2,
    "start_time": "2025-06-23T06:58:50.178Z"
   },
   {
    "duration": 60729,
    "start_time": "2025-06-23T06:58:59.814Z"
   },
   {
    "duration": 3,
    "start_time": "2025-06-23T07:02:55.461Z"
   },
   {
    "duration": 126910,
    "start_time": "2025-06-23T07:03:05.380Z"
   },
   {
    "duration": 20,
    "start_time": "2025-06-23T07:09:06.870Z"
   },
   {
    "duration": 3,
    "start_time": "2025-06-23T07:09:14.163Z"
   },
   {
    "duration": 4774,
    "start_time": "2025-06-23T07:09:24.125Z"
   },
   {
    "duration": 28,
    "start_time": "2025-06-23T07:09:56.727Z"
   },
   {
    "duration": 3,
    "start_time": "2025-06-23T07:10:03.449Z"
   },
   {
    "duration": 19,
    "start_time": "2025-06-23T07:10:07.191Z"
   },
   {
    "duration": 117443,
    "start_time": "2025-06-23T07:10:12.901Z"
   },
   {
    "duration": 115299,
    "start_time": "2025-06-23T07:15:12.472Z"
   },
   {
    "duration": 17,
    "start_time": "2025-06-23T08:25:10.794Z"
   },
   {
    "duration": 21,
    "start_time": "2025-06-23T08:28:23.568Z"
   },
   {
    "duration": 9,
    "start_time": "2025-06-23T08:28:46.463Z"
   },
   {
    "duration": 13,
    "start_time": "2025-06-23T08:28:49.226Z"
   },
   {
    "duration": 5594,
    "start_time": "2025-06-23T08:48:21.163Z"
   },
   {
    "duration": 2062,
    "start_time": "2025-06-23T08:48:26.760Z"
   },
   {
    "duration": 1071,
    "start_time": "2025-06-23T08:48:28.823Z"
   },
   {
    "duration": 106,
    "start_time": "2025-06-23T08:48:29.896Z"
   },
   {
    "duration": 205,
    "start_time": "2025-06-23T08:48:30.007Z"
   },
   {
    "duration": 598,
    "start_time": "2025-06-23T08:48:30.213Z"
   },
   {
    "duration": 62,
    "start_time": "2025-06-23T08:48:30.813Z"
   },
   {
    "duration": 29,
    "start_time": "2025-06-23T08:48:30.878Z"
   },
   {
    "duration": 16,
    "start_time": "2025-06-23T08:48:30.910Z"
   },
   {
    "duration": 371,
    "start_time": "2025-06-23T08:48:30.927Z"
   },
   {
    "duration": 15,
    "start_time": "2025-06-23T08:48:31.300Z"
   },
   {
    "duration": 6,
    "start_time": "2025-06-23T08:48:31.384Z"
   },
   {
    "duration": 106365,
    "start_time": "2025-06-23T08:48:31.394Z"
   },
   {
    "duration": 21,
    "start_time": "2025-06-23T08:50:17.762Z"
   },
   {
    "duration": 14,
    "start_time": "2025-06-23T08:50:17.785Z"
   },
   {
    "duration": 26,
    "start_time": "2025-06-23T08:50:17.801Z"
   },
   {
    "duration": 4,
    "start_time": "2025-06-23T08:50:17.828Z"
   },
   {
    "duration": 86,
    "start_time": "2025-06-23T08:50:17.833Z"
   },
   {
    "duration": 28,
    "start_time": "2025-06-23T08:50:17.921Z"
   },
   {
    "duration": 3,
    "start_time": "2025-06-23T08:50:17.950Z"
   },
   {
    "duration": 3516,
    "start_time": "2025-06-23T08:50:17.954Z"
   },
   {
    "duration": 1054,
    "start_time": "2025-06-23T08:50:21.475Z"
   },
   {
    "duration": 1005,
    "start_time": "2025-06-23T08:50:22.531Z"
   },
   {
    "duration": 279,
    "start_time": "2025-06-23T08:50:23.537Z"
   },
   {
    "duration": 0,
    "start_time": "2025-06-23T08:50:23.817Z"
   },
   {
    "duration": 0,
    "start_time": "2025-06-23T08:50:23.818Z"
   },
   {
    "duration": 0,
    "start_time": "2025-06-23T08:50:23.819Z"
   },
   {
    "duration": 0,
    "start_time": "2025-06-23T08:50:23.820Z"
   },
   {
    "duration": 0,
    "start_time": "2025-06-23T08:50:23.821Z"
   },
   {
    "duration": 0,
    "start_time": "2025-06-23T08:50:23.822Z"
   },
   {
    "duration": 0,
    "start_time": "2025-06-23T08:50:23.823Z"
   },
   {
    "duration": 0,
    "start_time": "2025-06-23T08:50:23.824Z"
   },
   {
    "duration": 0,
    "start_time": "2025-06-23T08:50:23.825Z"
   },
   {
    "duration": 0,
    "start_time": "2025-06-23T08:50:23.826Z"
   },
   {
    "duration": 0,
    "start_time": "2025-06-23T08:50:23.827Z"
   },
   {
    "duration": 0,
    "start_time": "2025-06-23T08:50:23.828Z"
   },
   {
    "duration": 0,
    "start_time": "2025-06-23T08:50:23.829Z"
   },
   {
    "duration": 7871,
    "start_time": "2025-06-23T08:56:24.711Z"
   },
   {
    "duration": 2112,
    "start_time": "2025-06-23T08:56:32.586Z"
   },
   {
    "duration": 968,
    "start_time": "2025-06-23T08:56:34.706Z"
   },
   {
    "duration": 45,
    "start_time": "2025-06-23T08:56:35.676Z"
   },
   {
    "duration": 134,
    "start_time": "2025-06-23T08:56:35.723Z"
   },
   {
    "duration": 282,
    "start_time": "2025-06-23T08:56:35.859Z"
   },
   {
    "duration": 6,
    "start_time": "2025-06-23T08:56:36.143Z"
   },
   {
    "duration": 37,
    "start_time": "2025-06-23T08:56:36.150Z"
   },
   {
    "duration": 18,
    "start_time": "2025-06-23T08:56:36.190Z"
   },
   {
    "duration": 193,
    "start_time": "2025-06-23T08:56:36.210Z"
   },
   {
    "duration": 14,
    "start_time": "2025-06-23T08:56:36.405Z"
   },
   {
    "duration": 47,
    "start_time": "2025-06-23T08:56:36.421Z"
   },
   {
    "duration": 104271,
    "start_time": "2025-06-23T08:56:36.470Z"
   },
   {
    "duration": 7,
    "start_time": "2025-06-23T08:58:20.743Z"
   },
   {
    "duration": 9,
    "start_time": "2025-06-23T08:58:20.752Z"
   },
   {
    "duration": 12,
    "start_time": "2025-06-23T08:58:20.771Z"
   },
   {
    "duration": 11,
    "start_time": "2025-06-23T08:58:20.785Z"
   },
   {
    "duration": 71,
    "start_time": "2025-06-23T08:58:20.798Z"
   },
   {
    "duration": 39,
    "start_time": "2025-06-23T08:58:20.884Z"
   },
   {
    "duration": 3,
    "start_time": "2025-06-23T08:58:20.925Z"
   },
   {
    "duration": 3364,
    "start_time": "2025-06-23T08:58:20.930Z"
   },
   {
    "duration": 922,
    "start_time": "2025-06-23T08:58:24.296Z"
   },
   {
    "duration": 962,
    "start_time": "2025-06-23T08:58:25.220Z"
   },
   {
    "duration": 9104677,
    "start_time": "2025-06-23T08:58:26.185Z"
   },
   {
    "duration": 5,
    "start_time": "2025-06-23T11:30:10.864Z"
   },
   {
    "duration": 7,
    "start_time": "2025-06-23T11:30:10.870Z"
   },
   {
    "duration": 5078,
    "start_time": "2025-06-23T11:30:32.423Z"
   },
   {
    "duration": 1950,
    "start_time": "2025-06-23T11:30:37.504Z"
   },
   {
    "duration": 925,
    "start_time": "2025-06-23T11:30:39.456Z"
   },
   {
    "duration": 43,
    "start_time": "2025-06-23T11:30:40.383Z"
   },
   {
    "duration": 87,
    "start_time": "2025-06-23T11:30:40.429Z"
   },
   {
    "duration": 260,
    "start_time": "2025-06-23T11:30:40.517Z"
   },
   {
    "duration": 5,
    "start_time": "2025-06-23T11:30:40.779Z"
   },
   {
    "duration": 12,
    "start_time": "2025-06-23T11:30:40.786Z"
   },
   {
    "duration": 15,
    "start_time": "2025-06-23T11:30:40.800Z"
   },
   {
    "duration": 181,
    "start_time": "2025-06-23T11:30:40.816Z"
   },
   {
    "duration": 14,
    "start_time": "2025-06-23T11:30:40.999Z"
   },
   {
    "duration": 70,
    "start_time": "2025-06-23T11:30:41.015Z"
   },
   {
    "duration": 93360,
    "start_time": "2025-06-23T11:30:41.087Z"
   },
   {
    "duration": 9,
    "start_time": "2025-06-23T11:32:14.450Z"
   },
   {
    "duration": 7,
    "start_time": "2025-06-23T11:32:14.472Z"
   },
   {
    "duration": 54,
    "start_time": "2025-06-23T11:32:14.480Z"
   },
   {
    "duration": 23,
    "start_time": "2025-06-23T11:32:14.536Z"
   },
   {
    "duration": 82,
    "start_time": "2025-06-23T11:32:14.561Z"
   },
   {
    "duration": 35,
    "start_time": "2025-06-23T11:32:14.645Z"
   },
   {
    "duration": 26,
    "start_time": "2025-06-23T11:32:14.682Z"
   },
   {
    "duration": 3098,
    "start_time": "2025-06-23T11:32:14.709Z"
   },
   {
    "duration": 909,
    "start_time": "2025-06-23T11:32:17.809Z"
   },
   {
    "duration": 885,
    "start_time": "2025-06-23T11:32:18.719Z"
   },
   {
    "duration": 28958,
    "start_time": "2025-06-23T11:32:19.606Z"
   },
   {
    "duration": 0,
    "start_time": "2025-06-23T11:32:48.566Z"
   },
   {
    "duration": 0,
    "start_time": "2025-06-23T11:32:48.567Z"
   },
   {
    "duration": 0,
    "start_time": "2025-06-23T11:32:48.568Z"
   },
   {
    "duration": 0,
    "start_time": "2025-06-23T11:32:48.569Z"
   },
   {
    "duration": 0,
    "start_time": "2025-06-23T11:32:48.570Z"
   },
   {
    "duration": 0,
    "start_time": "2025-06-23T11:32:48.571Z"
   },
   {
    "duration": 0,
    "start_time": "2025-06-23T11:32:48.572Z"
   },
   {
    "duration": 0,
    "start_time": "2025-06-23T11:32:48.574Z"
   },
   {
    "duration": 0,
    "start_time": "2025-06-23T11:32:48.574Z"
   },
   {
    "duration": 0,
    "start_time": "2025-06-23T11:32:48.575Z"
   },
   {
    "duration": 0,
    "start_time": "2025-06-23T11:32:48.576Z"
   },
   {
    "duration": 0,
    "start_time": "2025-06-23T11:32:48.578Z"
   },
   {
    "duration": 0,
    "start_time": "2025-06-23T11:32:48.578Z"
   },
   {
    "duration": 5061,
    "start_time": "2025-06-23T11:32:59.853Z"
   },
   {
    "duration": 1983,
    "start_time": "2025-06-23T11:33:04.917Z"
   },
   {
    "duration": 893,
    "start_time": "2025-06-23T11:33:06.901Z"
   },
   {
    "duration": 42,
    "start_time": "2025-06-23T11:33:07.796Z"
   },
   {
    "duration": 93,
    "start_time": "2025-06-23T11:33:07.839Z"
   },
   {
    "duration": 250,
    "start_time": "2025-06-23T11:33:07.933Z"
   },
   {
    "duration": 6,
    "start_time": "2025-06-23T11:33:08.185Z"
   },
   {
    "duration": 16,
    "start_time": "2025-06-23T11:33:08.193Z"
   },
   {
    "duration": 15,
    "start_time": "2025-06-23T11:33:08.210Z"
   },
   {
    "duration": 206,
    "start_time": "2025-06-23T11:33:08.228Z"
   },
   {
    "duration": 14,
    "start_time": "2025-06-23T11:33:08.436Z"
   },
   {
    "duration": 5,
    "start_time": "2025-06-23T11:33:08.451Z"
   },
   {
    "duration": 93226,
    "start_time": "2025-06-23T11:33:08.458Z"
   },
   {
    "duration": 8,
    "start_time": "2025-06-23T11:34:41.686Z"
   },
   {
    "duration": 4,
    "start_time": "2025-06-23T11:34:41.695Z"
   },
   {
    "duration": 3,
    "start_time": "2025-06-23T11:34:41.701Z"
   },
   {
    "duration": 5,
    "start_time": "2025-06-23T11:34:41.706Z"
   },
   {
    "duration": 89,
    "start_time": "2025-06-23T11:34:41.712Z"
   },
   {
    "duration": 29,
    "start_time": "2025-06-23T11:34:41.803Z"
   },
   {
    "duration": 2,
    "start_time": "2025-06-23T11:34:41.834Z"
   },
   {
    "duration": 3102,
    "start_time": "2025-06-23T11:34:41.838Z"
   },
   {
    "duration": 887,
    "start_time": "2025-06-23T11:34:44.941Z"
   },
   {
    "duration": 909,
    "start_time": "2025-06-23T11:34:45.829Z"
   },
   {
    "duration": 13147223,
    "start_time": "2025-06-23T11:34:46.740Z"
   },
   {
    "duration": 22,
    "start_time": "2025-06-23T15:13:53.965Z"
   },
   {
    "duration": 20,
    "start_time": "2025-06-23T15:13:53.990Z"
   },
   {
    "duration": 128980,
    "start_time": "2025-06-23T15:13:54.011Z"
   },
   {
    "duration": 27,
    "start_time": "2025-06-23T15:16:03.075Z"
   },
   {
    "duration": 4,
    "start_time": "2025-06-23T15:16:03.104Z"
   },
   {
    "duration": 5067,
    "start_time": "2025-06-23T15:16:03.109Z"
   },
   {
    "duration": 31,
    "start_time": "2025-06-23T15:16:08.182Z"
   },
   {
    "duration": 3,
    "start_time": "2025-06-23T15:16:08.214Z"
   },
   {
    "duration": 83,
    "start_time": "2025-06-23T15:16:08.219Z"
   },
   {
    "duration": 122022,
    "start_time": "2025-06-23T15:16:08.304Z"
   },
   {
    "duration": 18,
    "start_time": "2025-06-23T15:18:10.328Z"
   },
   {
    "duration": 36,
    "start_time": "2025-06-23T15:18:10.348Z"
   },
   {
    "duration": 13,
    "start_time": "2025-06-23T15:18:10.387Z"
   },
   {
    "duration": 115,
    "start_time": "2025-06-23T15:18:10.403Z"
   },
   {
    "duration": 4,
    "start_time": "2025-06-23T15:18:28.029Z"
   },
   {
    "duration": 3,
    "start_time": "2025-06-23T15:18:58.694Z"
   },
   {
    "duration": 158827,
    "start_time": "2025-06-23T15:19:00.460Z"
   },
   {
    "duration": 25,
    "start_time": "2025-06-23T15:21:45.940Z"
   },
   {
    "duration": 3,
    "start_time": "2025-06-23T15:21:48.024Z"
   },
   {
    "duration": 2756,
    "start_time": "2025-06-23T15:21:50.378Z"
   },
   {
    "duration": 19,
    "start_time": "2025-06-23T15:21:55.213Z"
   },
   {
    "duration": 2,
    "start_time": "2025-06-23T15:22:50.381Z"
   },
   {
    "duration": 19,
    "start_time": "2025-06-23T15:22:52.471Z"
   },
   {
    "duration": 122656,
    "start_time": "2025-06-23T15:22:55.128Z"
   },
   {
    "duration": 17,
    "start_time": "2025-06-23T15:25:55.267Z"
   },
   {
    "duration": 7,
    "start_time": "2025-06-23T15:25:59.045Z"
   },
   {
    "duration": 13,
    "start_time": "2025-06-23T15:26:01.131Z"
   },
   {
    "duration": 7203,
    "start_time": "2025-06-23T19:35:41.639Z"
   },
   {
    "duration": 2257,
    "start_time": "2025-06-23T19:35:48.844Z"
   },
   {
    "duration": 895,
    "start_time": "2025-06-23T19:36:28.067Z"
   },
   {
    "duration": 40,
    "start_time": "2025-06-23T19:36:32.274Z"
   },
   {
    "duration": 93,
    "start_time": "2025-06-23T19:38:32.093Z"
   },
   {
    "duration": 223,
    "start_time": "2025-06-23T19:38:37.399Z"
   },
   {
    "duration": 77,
    "start_time": "2025-06-23T19:39:03.818Z"
   },
   {
    "duration": 147,
    "start_time": "2025-06-23T19:39:27.725Z"
   },
   {
    "duration": 13,
    "start_time": "2025-06-23T19:39:31.315Z"
   },
   {
    "duration": 3,
    "start_time": "2025-06-23T19:43:57.993Z"
   },
   {
    "duration": 5,
    "start_time": "2025-06-23T19:44:01.748Z"
   },
   {
    "duration": 3,
    "start_time": "2025-06-23T19:50:41.768Z"
   },
   {
    "duration": 2596,
    "start_time": "2025-06-23T19:59:47.989Z"
   },
   {
    "duration": 155,
    "start_time": "2025-06-23T20:00:50.919Z"
   },
   {
    "duration": 2653,
    "start_time": "2025-06-23T20:01:06.140Z"
   },
   {
    "duration": 579,
    "start_time": "2025-06-23T20:01:10.730Z"
   },
   {
    "duration": 222,
    "start_time": "2025-06-23T20:02:02.909Z"
   },
   {
    "duration": 24,
    "start_time": "2025-06-23T20:02:33.240Z"
   },
   {
    "duration": 3,
    "start_time": "2025-06-23T20:02:54.996Z"
   },
   {
    "duration": 10,
    "start_time": "2025-06-23T20:03:06.777Z"
   },
   {
    "duration": 20,
    "start_time": "2025-06-23T20:03:10.466Z"
   },
   {
    "duration": 4,
    "start_time": "2025-06-23T20:03:37.729Z"
   },
   {
    "duration": 53,
    "start_time": "2025-06-23T20:03:44.013Z"
   },
   {
    "duration": 30,
    "start_time": "2025-06-23T20:04:00.591Z"
   },
   {
    "duration": 22,
    "start_time": "2025-06-23T20:04:29.269Z"
   },
   {
    "duration": 13,
    "start_time": "2025-06-23T20:05:12.648Z"
   },
   {
    "duration": 5,
    "start_time": "2025-06-23T20:05:17.427Z"
   },
   {
    "duration": 5,
    "start_time": "2025-06-23T20:05:36.571Z"
   },
   {
    "duration": 3,
    "start_time": "2025-06-23T20:06:24.422Z"
   },
   {
    "duration": 5,
    "start_time": "2025-06-23T20:13:16.022Z"
   },
   {
    "duration": 67,
    "start_time": "2025-06-23T20:14:00.845Z"
   },
   {
    "duration": 4,
    "start_time": "2025-06-23T20:14:37.838Z"
   },
   {
    "duration": 60,
    "start_time": "2025-06-23T20:14:40.183Z"
   },
   {
    "duration": 49,
    "start_time": "2025-06-23T20:14:56.674Z"
   },
   {
    "duration": 8,
    "start_time": "2025-06-23T20:15:01.917Z"
   },
   {
    "duration": 5,
    "start_time": "2025-06-23T20:15:11.352Z"
   },
   {
    "duration": 1026,
    "start_time": "2025-06-23T20:15:12.663Z"
   },
   {
    "duration": 5,
    "start_time": "2025-06-23T20:18:34.603Z"
   },
   {
    "duration": 222,
    "start_time": "2025-06-23T20:18:44.572Z"
   },
   {
    "duration": 6,
    "start_time": "2025-06-23T20:20:53.269Z"
   },
   {
    "duration": 4,
    "start_time": "2025-06-23T20:23:17.732Z"
   },
   {
    "duration": 5032,
    "start_time": "2025-06-23T20:23:19.413Z"
   },
   {
    "duration": 7,
    "start_time": "2025-06-23T20:23:26.319Z"
   },
   {
    "duration": 3,
    "start_time": "2025-06-23T20:23:34.737Z"
   },
   {
    "duration": 4921,
    "start_time": "2025-06-23T20:23:36.521Z"
   },
   {
    "duration": 7,
    "start_time": "2025-06-23T20:23:43.131Z"
   },
   {
    "duration": 4,
    "start_time": "2025-06-23T20:24:11.762Z"
   },
   {
    "duration": 5134,
    "start_time": "2025-06-23T20:24:12.883Z"
   },
   {
    "duration": 8,
    "start_time": "2025-06-23T20:24:19.673Z"
   },
   {
    "duration": 4,
    "start_time": "2025-06-23T20:24:45.789Z"
   },
   {
    "duration": 176,
    "start_time": "2025-06-23T20:24:47.469Z"
   },
   {
    "duration": 8,
    "start_time": "2025-06-23T20:24:50.655Z"
   },
   {
    "duration": 443,
    "start_time": "2025-06-23T20:25:16.992Z"
   },
   {
    "duration": 3,
    "start_time": "2025-06-23T20:25:19.150Z"
   },
   {
    "duration": 158,
    "start_time": "2025-06-23T20:25:20.806Z"
   },
   {
    "duration": 8,
    "start_time": "2025-06-23T20:25:22.218Z"
   },
   {
    "duration": 6,
    "start_time": "2025-06-23T20:26:15.815Z"
   },
   {
    "duration": 166,
    "start_time": "2025-06-23T20:26:18.135Z"
   },
   {
    "duration": 8,
    "start_time": "2025-06-23T20:26:20.634Z"
   },
   {
    "duration": 7992,
    "start_time": "2025-06-23T20:28:23.993Z"
   },
   {
    "duration": 4,
    "start_time": "2025-06-23T20:35:00.804Z"
   },
   {
    "duration": 481,
    "start_time": "2025-06-23T20:39:06.616Z"
   },
   {
    "duration": 3,
    "start_time": "2025-06-23T20:39:09.933Z"
   },
   {
    "duration": 7,
    "start_time": "2025-06-23T20:39:31.610Z"
   },
   {
    "duration": 45,
    "start_time": "2025-06-23T20:40:29.309Z"
   },
   {
    "duration": 7,
    "start_time": "2025-06-23T20:40:33.566Z"
   },
   {
    "duration": 2656740,
    "start_time": "2025-06-23T20:44:39.304Z"
   },
   {
    "duration": 4,
    "start_time": "2025-06-23T21:31:49.276Z"
   },
   {
    "duration": 2,
    "start_time": "2025-06-23T21:33:59.149Z"
   },
   {
    "duration": 8,
    "start_time": "2025-06-23T21:34:10.438Z"
   },
   {
    "duration": 3,
    "start_time": "2025-06-23T21:36:17.404Z"
   },
   {
    "duration": 2,
    "start_time": "2025-06-23T21:36:20.244Z"
   },
   {
    "duration": 66,
    "start_time": "2025-06-23T21:36:39.289Z"
   },
   {
    "duration": 8,
    "start_time": "2025-06-23T21:38:34.721Z"
   },
   {
    "duration": 14,
    "start_time": "2025-06-23T21:38:37.441Z"
   },
   {
    "duration": 8,
    "start_time": "2025-06-23T21:40:42.439Z"
   },
   {
    "duration": 15,
    "start_time": "2025-06-23T21:40:43.986Z"
   },
   {
    "duration": 8,
    "start_time": "2025-06-23T21:40:47.473Z"
   },
   {
    "duration": 14,
    "start_time": "2025-06-23T21:40:48.505Z"
   },
   {
    "duration": 7,
    "start_time": "2025-06-23T21:49:32.967Z"
   },
   {
    "duration": 23,
    "start_time": "2025-06-23T21:51:40.968Z"
   },
   {
    "duration": 3,
    "start_time": "2025-06-23T21:52:53.151Z"
   },
   {
    "duration": 3,
    "start_time": "2025-06-23T21:53:50.106Z"
   },
   {
    "duration": 5,
    "start_time": "2025-06-23T22:18:57.453Z"
   },
   {
    "duration": 3,
    "start_time": "2025-06-23T22:20:04.847Z"
   },
   {
    "duration": 3,
    "start_time": "2025-06-23T22:22:11.716Z"
   },
   {
    "duration": 119,
    "start_time": "2025-06-23T22:25:58.838Z"
   },
   {
    "duration": 102,
    "start_time": "2025-06-23T22:26:52.169Z"
   },
   {
    "duration": 6,
    "start_time": "2025-06-23T22:27:39.560Z"
   },
   {
    "duration": 3,
    "start_time": "2025-06-23T22:27:41.363Z"
   },
   {
    "duration": 4,
    "start_time": "2025-06-23T22:27:43.329Z"
   },
   {
    "duration": 140,
    "start_time": "2025-06-23T22:27:44.629Z"
   },
   {
    "duration": 111,
    "start_time": "2025-06-23T22:31:51.052Z"
   },
   {
    "duration": 5,
    "start_time": "2025-06-23T22:34:10.014Z"
   },
   {
    "duration": 3,
    "start_time": "2025-06-23T22:34:12.085Z"
   },
   {
    "duration": 151,
    "start_time": "2025-06-23T22:34:13.618Z"
   },
   {
    "duration": 6,
    "start_time": "2025-06-23T22:36:01.681Z"
   },
   {
    "duration": 2,
    "start_time": "2025-06-23T22:36:03.273Z"
   },
   {
    "duration": 115,
    "start_time": "2025-06-23T22:36:05.507Z"
   },
   {
    "duration": 6,
    "start_time": "2025-06-23T22:38:35.608Z"
   },
   {
    "duration": 5,
    "start_time": "2025-06-23T22:40:39.647Z"
   },
   {
    "duration": 3,
    "start_time": "2025-06-23T22:40:48.405Z"
   },
   {
    "duration": 111,
    "start_time": "2025-06-23T22:40:51.526Z"
   },
   {
    "duration": 3,
    "start_time": "2025-06-23T22:44:27.659Z"
   },
   {
    "duration": 3,
    "start_time": "2025-06-23T22:45:02.757Z"
   },
   {
    "duration": 4,
    "start_time": "2025-06-23T22:45:04.667Z"
   },
   {
    "duration": 3,
    "start_time": "2025-06-23T22:45:06.563Z"
   },
   {
    "duration": 117,
    "start_time": "2025-06-23T22:45:08.902Z"
   },
   {
    "duration": 65,
    "start_time": "2025-06-23T22:46:33.230Z"
   },
   {
    "duration": 69,
    "start_time": "2025-06-23T22:46:40.467Z"
   },
   {
    "duration": 21,
    "start_time": "2025-06-23T22:47:10.448Z"
   },
   {
    "duration": 24,
    "start_time": "2025-06-23T22:47:38.561Z"
   },
   {
    "duration": 5,
    "start_time": "2025-06-23T22:48:18.021Z"
   },
   {
    "duration": 2,
    "start_time": "2025-06-23T22:48:21.463Z"
   },
   {
    "duration": 119,
    "start_time": "2025-06-23T22:48:24.275Z"
   },
   {
    "duration": 3,
    "start_time": "2025-06-23T22:55:04.591Z"
   },
   {
    "duration": 5,
    "start_time": "2025-06-23T22:55:25.662Z"
   },
   {
    "duration": 3,
    "start_time": "2025-06-23T22:55:28.024Z"
   },
   {
    "duration": 146,
    "start_time": "2025-06-23T22:55:34.543Z"
   },
   {
    "duration": 6,
    "start_time": "2025-06-23T22:59:23.375Z"
   },
   {
    "duration": 22,
    "start_time": "2025-06-23T22:59:28.223Z"
   },
   {
    "duration": 6,
    "start_time": "2025-06-23T22:59:50.162Z"
   },
   {
    "duration": 21,
    "start_time": "2025-06-23T22:59:51.903Z"
   },
   {
    "duration": 5,
    "start_time": "2025-06-23T23:03:52.423Z"
   },
   {
    "duration": 22,
    "start_time": "2025-06-23T23:03:54.520Z"
   },
   {
    "duration": 3,
    "start_time": "2025-06-23T23:04:15.340Z"
   },
   {
    "duration": 5,
    "start_time": "2025-06-23T23:04:16.280Z"
   },
   {
    "duration": 23,
    "start_time": "2025-06-23T23:04:17.635Z"
   },
   {
    "duration": 5,
    "start_time": "2025-06-23T23:04:30.135Z"
   },
   {
    "duration": 3,
    "start_time": "2025-06-23T23:04:31.378Z"
   },
   {
    "duration": 155,
    "start_time": "2025-06-23T23:04:35.887Z"
   },
   {
    "duration": 4,
    "start_time": "2025-06-23T23:13:45.093Z"
   },
   {
    "duration": 4,
    "start_time": "2025-06-23T23:13:46.961Z"
   },
   {
    "duration": 154,
    "start_time": "2025-06-23T23:13:50.649Z"
   },
   {
    "duration": 21,
    "start_time": "2025-06-23T23:14:08.771Z"
   },
   {
    "duration": 25,
    "start_time": "2025-06-23T23:15:08.924Z"
   },
   {
    "duration": 3,
    "start_time": "2025-06-23T23:17:57.616Z"
   },
   {
    "duration": 21,
    "start_time": "2025-06-23T23:19:30.072Z"
   },
   {
    "duration": 5,
    "start_time": "2025-06-23T23:20:04.192Z"
   },
   {
    "duration": 3,
    "start_time": "2025-06-23T23:20:07.297Z"
   },
   {
    "duration": 4,
    "start_time": "2025-06-23T23:20:11.208Z"
   },
   {
    "duration": 3,
    "start_time": "2025-06-23T23:20:15.554Z"
   },
   {
    "duration": 152,
    "start_time": "2025-06-23T23:20:19.922Z"
   },
   {
    "duration": 3,
    "start_time": "2025-06-23T23:34:12.449Z"
   },
   {
    "duration": 3,
    "start_time": "2025-06-23T23:34:14.183Z"
   },
   {
    "duration": 3,
    "start_time": "2025-06-23T23:34:23.312Z"
   },
   {
    "duration": 13223061,
    "start_time": "2025-06-23T23:34:28.118Z"
   },
   {
    "duration": 1759,
    "start_time": "2025-06-24T06:49:56.443Z"
   },
   {
    "duration": 4,
    "start_time": "2025-06-24T07:07:17.345Z"
   },
   {
    "duration": 22,
    "start_time": "2025-06-24T07:07:19.006Z"
   },
   {
    "duration": 3,
    "start_time": "2025-06-24T07:07:43.369Z"
   },
   {
    "duration": 3,
    "start_time": "2025-06-24T07:07:44.605Z"
   },
   {
    "duration": 5156858,
    "start_time": "2025-06-24T07:07:46.834Z"
   },
   {
    "duration": 19,
    "start_time": "2025-06-24T08:37:57.401Z"
   },
   {
    "duration": 3,
    "start_time": "2025-06-24T08:38:07.095Z"
   },
   {
    "duration": 4,
    "start_time": "2025-06-24T08:38:12.979Z"
   },
   {
    "duration": 2,
    "start_time": "2025-06-24T08:38:29.552Z"
   },
   {
    "duration": 11,
    "start_time": "2025-06-24T08:38:32.017Z"
   },
   {
    "duration": 7,
    "start_time": "2025-06-24T08:39:02.789Z"
   },
   {
    "duration": 1761,
    "start_time": "2025-06-24T08:39:07.593Z"
   },
   {
    "duration": 18,
    "start_time": "2025-06-24T08:39:47.297Z"
   },
   {
    "duration": 21,
    "start_time": "2025-06-24T08:39:52.756Z"
   },
   {
    "duration": 20,
    "start_time": "2025-06-24T08:40:13.731Z"
   },
   {
    "duration": 21,
    "start_time": "2025-06-24T08:40:35.134Z"
   },
   {
    "duration": 20,
    "start_time": "2025-06-24T08:40:48.765Z"
   },
   {
    "duration": 20,
    "start_time": "2025-06-24T08:41:05.163Z"
   },
   {
    "duration": 22,
    "start_time": "2025-06-24T08:41:15.677Z"
   },
   {
    "duration": 19,
    "start_time": "2025-06-24T08:41:33.185Z"
   },
   {
    "duration": 18,
    "start_time": "2025-06-24T08:43:13.740Z"
   },
   {
    "duration": 3256,
    "start_time": "2025-06-24T08:56:15.997Z"
   },
   {
    "duration": 2521,
    "start_time": "2025-06-24T08:56:22.383Z"
   },
   {
    "duration": 3,
    "start_time": "2025-06-24T09:20:00.829Z"
   },
   {
    "duration": 201,
    "start_time": "2025-06-24T09:20:35.160Z"
   },
   {
    "duration": 36,
    "start_time": "2025-06-24T09:20:39.524Z"
   },
   {
    "duration": 33,
    "start_time": "2025-06-24T09:23:08.525Z"
   },
   {
    "duration": 13,
    "start_time": "2025-06-24T09:23:31.607Z"
   },
   {
    "duration": 27,
    "start_time": "2025-06-24T09:23:33.832Z"
   },
   {
    "duration": 10,
    "start_time": "2025-06-24T09:24:08.786Z"
   },
   {
    "duration": 27,
    "start_time": "2025-06-24T09:24:18.635Z"
   },
   {
    "duration": 28,
    "start_time": "2025-06-24T09:24:26.766Z"
   },
   {
    "duration": 4,
    "start_time": "2025-06-24T09:24:52.827Z"
   },
   {
    "duration": 9,
    "start_time": "2025-06-24T09:24:53.650Z"
   },
   {
    "duration": 31,
    "start_time": "2025-06-24T09:24:59.624Z"
   },
   {
    "duration": 9,
    "start_time": "2025-06-24T09:28:19.232Z"
   },
   {
    "duration": 31,
    "start_time": "2025-06-24T09:28:21.992Z"
   },
   {
    "duration": 21,
    "start_time": "2025-06-24T09:28:25.707Z"
   },
   {
    "duration": 28,
    "start_time": "2025-06-24T09:29:21.699Z"
   },
   {
    "duration": 21,
    "start_time": "2025-06-24T09:29:23.666Z"
   },
   {
    "duration": 21,
    "start_time": "2025-06-24T09:29:29.098Z"
   },
   {
    "duration": 25,
    "start_time": "2025-06-24T09:30:09.525Z"
   },
   {
    "duration": 20,
    "start_time": "2025-06-24T09:30:22.602Z"
   },
   {
    "duration": 6,
    "start_time": "2025-06-24T09:30:23.628Z"
   },
   {
    "duration": 30,
    "start_time": "2025-06-24T09:30:30.552Z"
   },
   {
    "duration": 20,
    "start_time": "2025-06-24T09:30:32.113Z"
   },
   {
    "duration": 73,
    "start_time": "2025-06-24T09:31:20.445Z"
   },
   {
    "duration": 222,
    "start_time": "2025-06-24T09:31:24.358Z"
   },
   {
    "duration": 20,
    "start_time": "2025-06-24T09:31:26.287Z"
   },
   {
    "duration": 26,
    "start_time": "2025-06-24T09:31:30.786Z"
   },
   {
    "duration": 60,
    "start_time": "2025-06-24T09:31:48.010Z"
   },
   {
    "duration": 20,
    "start_time": "2025-06-24T09:31:51.543Z"
   },
   {
    "duration": 26,
    "start_time": "2025-06-24T09:34:14.899Z"
   },
   {
    "duration": 3445,
    "start_time": "2025-06-24T09:36:41.123Z"
   },
   {
    "duration": 2736,
    "start_time": "2025-06-24T09:36:51.789Z"
   },
   {
    "duration": 40,
    "start_time": "2025-06-24T09:36:57.368Z"
   },
   {
    "duration": 23,
    "start_time": "2025-06-24T09:37:14.201Z"
   },
   {
    "duration": 3494,
    "start_time": "2025-06-24T09:37:23.868Z"
   },
   {
    "duration": 41,
    "start_time": "2025-06-24T09:37:48.838Z"
   },
   {
    "duration": 3,
    "start_time": "2025-06-24T09:38:19.754Z"
   },
   {
    "duration": 29,
    "start_time": "2025-06-24T09:38:26.571Z"
   },
   {
    "duration": 25,
    "start_time": "2025-06-24T09:39:02.686Z"
   },
   {
    "duration": 3,
    "start_time": "2025-06-24T09:39:25.031Z"
   },
   {
    "duration": 24,
    "start_time": "2025-06-24T09:39:34.489Z"
   },
   {
    "duration": 25,
    "start_time": "2025-06-24T09:39:40.926Z"
   },
   {
    "duration": 4,
    "start_time": "2025-06-24T09:41:07.873Z"
   },
   {
    "duration": 26,
    "start_time": "2025-06-24T09:41:14.576Z"
   },
   {
    "duration": 53,
    "start_time": "2025-06-24T09:42:37.546Z"
   },
   {
    "duration": 2706,
    "start_time": "2025-06-24T09:44:50.775Z"
   },
   {
    "duration": 40,
    "start_time": "2025-06-24T09:44:59.677Z"
   },
   {
    "duration": 4654,
    "start_time": "2025-06-24T09:46:56.985Z"
   },
   {
    "duration": 40,
    "start_time": "2025-06-24T09:47:08.292Z"
   },
   {
    "duration": 61,
    "start_time": "2025-06-24T09:47:21.873Z"
   },
   {
    "duration": 25,
    "start_time": "2025-06-24T09:47:30.404Z"
   },
   {
    "duration": 3,
    "start_time": "2025-06-24T09:47:56.212Z"
   },
   {
    "duration": 5,
    "start_time": "2025-06-24T09:48:00.180Z"
   },
   {
    "duration": 23,
    "start_time": "2025-06-24T09:48:02.653Z"
   },
   {
    "duration": 3,
    "start_time": "2025-06-24T09:48:22.466Z"
   },
   {
    "duration": 79,
    "start_time": "2025-06-24T09:48:32.732Z"
   },
   {
    "duration": 2,
    "start_time": "2025-06-24T09:48:44.917Z"
   },
   {
    "duration": 24,
    "start_time": "2025-06-24T09:49:27.684Z"
   },
   {
    "duration": 2,
    "start_time": "2025-06-24T09:51:30.035Z"
   },
   {
    "duration": 26,
    "start_time": "2025-06-24T09:51:31.471Z"
   },
   {
    "duration": 64,
    "start_time": "2025-06-24T09:55:15.914Z"
   },
   {
    "duration": 68,
    "start_time": "2025-06-24T09:56:17.076Z"
   },
   {
    "duration": 3,
    "start_time": "2025-06-24T10:00:31.532Z"
   },
   {
    "duration": 27,
    "start_time": "2025-06-24T10:00:32.804Z"
   },
   {
    "duration": 4,
    "start_time": "2025-06-24T10:03:29.700Z"
   },
   {
    "duration": 5,
    "start_time": "2025-06-24T10:03:37.540Z"
   },
   {
    "duration": 40,
    "start_time": "2025-06-24T10:03:47.240Z"
   },
   {
    "duration": 3,
    "start_time": "2025-06-24T10:03:59.531Z"
   },
   {
    "duration": 30,
    "start_time": "2025-06-24T10:04:00.708Z"
   },
   {
    "duration": 30,
    "start_time": "2025-06-24T10:05:02.121Z"
   },
   {
    "duration": 21,
    "start_time": "2025-06-24T10:05:11.505Z"
   },
   {
    "duration": 6,
    "start_time": "2025-06-24T10:05:17.626Z"
   },
   {
    "duration": 29,
    "start_time": "2025-06-24T10:05:24.537Z"
   },
   {
    "duration": 19,
    "start_time": "2025-06-24T10:05:26.949Z"
   },
   {
    "duration": 1821,
    "start_time": "2025-06-24T10:06:43.555Z"
   },
   {
    "duration": 1642,
    "start_time": "2025-06-24T10:06:51.321Z"
   },
   {
    "duration": 25551,
    "start_time": "2025-06-24T10:08:25.206Z"
   },
   {
    "duration": 9079,
    "start_time": "2025-06-24T10:16:52.394Z"
   },
   {
    "duration": 8285,
    "start_time": "2025-06-24T10:17:33.045Z"
   },
   {
    "duration": 3,
    "start_time": "2025-06-24T10:18:27.109Z"
   },
   {
    "duration": 316,
    "start_time": "2025-06-24T10:18:36.310Z"
   },
   {
    "duration": 3,
    "start_time": "2025-06-24T10:22:29.538Z"
   },
   {
    "duration": 20,
    "start_time": "2025-06-24T10:22:30.998Z"
   },
   {
    "duration": 6,
    "start_time": "2025-06-24T10:22:48.023Z"
   },
   {
    "duration": 3,
    "start_time": "2025-06-24T10:23:49.814Z"
   },
   {
    "duration": 198,
    "start_time": "2025-06-24T10:23:55.996Z"
   },
   {
    "duration": 3,
    "start_time": "2025-06-24T10:25:54.608Z"
   },
   {
    "duration": 286,
    "start_time": "2025-06-24T10:25:59.455Z"
   },
   {
    "duration": 311,
    "start_time": "2025-06-24T10:26:43.598Z"
   },
   {
    "duration": 3375,
    "start_time": "2025-06-24T10:27:18.369Z"
   },
   {
    "duration": 272,
    "start_time": "2025-06-24T10:27:31.721Z"
   },
   {
    "duration": 14059,
    "start_time": "2025-06-24T10:31:53.702Z"
   },
   {
    "duration": 6177,
    "start_time": "2025-06-24T10:32:07.764Z"
   },
   {
    "duration": 2,
    "start_time": "2025-06-24T10:32:13.945Z"
   },
   {
    "duration": 893,
    "start_time": "2025-06-24T10:32:13.949Z"
   },
   {
    "duration": 46,
    "start_time": "2025-06-24T10:32:14.843Z"
   },
   {
    "duration": 55,
    "start_time": "2025-06-24T10:32:14.890Z"
   },
   {
    "duration": 246,
    "start_time": "2025-06-24T10:32:14.947Z"
   },
   {
    "duration": 83,
    "start_time": "2025-06-24T10:32:15.195Z"
   },
   {
    "duration": 207,
    "start_time": "2025-06-24T10:32:15.279Z"
   },
   {
    "duration": 12,
    "start_time": "2025-06-24T10:32:15.488Z"
   },
   {
    "duration": 543,
    "start_time": "2025-06-24T10:32:15.502Z"
   },
   {
    "duration": 3,
    "start_time": "2025-06-24T10:32:16.047Z"
   },
   {
    "duration": 14058,
    "start_time": "2025-06-24T11:48:35.087Z"
   },
   {
    "duration": 5949,
    "start_time": "2025-06-24T11:48:49.148Z"
   },
   {
    "duration": 2,
    "start_time": "2025-06-24T11:48:55.099Z"
   },
   {
    "duration": 917,
    "start_time": "2025-06-24T11:48:55.103Z"
   },
   {
    "duration": 40,
    "start_time": "2025-06-24T11:48:56.022Z"
   },
   {
    "duration": 80,
    "start_time": "2025-06-24T11:48:56.064Z"
   },
   {
    "duration": 231,
    "start_time": "2025-06-24T11:48:56.145Z"
   },
   {
    "duration": 83,
    "start_time": "2025-06-24T11:48:56.378Z"
   },
   {
    "duration": 173,
    "start_time": "2025-06-24T11:48:56.476Z"
   },
   {
    "duration": 26,
    "start_time": "2025-06-24T11:48:56.652Z"
   },
   {
    "duration": 579,
    "start_time": "2025-06-24T11:48:56.679Z"
   },
   {
    "duration": 3,
    "start_time": "2025-06-24T11:48:57.260Z"
   },
   {
    "duration": 2684327,
    "start_time": "2025-06-24T11:48:57.265Z"
   },
   {
    "duration": 2,
    "start_time": "2025-06-24T12:33:41.594Z"
   },
   {
    "duration": 24,
    "start_time": "2025-06-24T12:33:41.598Z"
   },
   {
    "duration": 217,
    "start_time": "2025-06-24T12:33:41.624Z"
   },
   {
    "duration": 88,
    "start_time": "2025-06-24T12:33:41.843Z"
   },
   {
    "duration": 3,
    "start_time": "2025-06-24T12:33:41.933Z"
   },
   {
    "duration": 26543,
    "start_time": "2025-06-24T12:33:41.938Z"
   },
   {
    "duration": 2,
    "start_time": "2025-06-24T12:34:08.483Z"
   },
   {
    "duration": 17,
    "start_time": "2025-06-24T12:34:08.487Z"
   },
   {
    "duration": 107,
    "start_time": "2025-06-24T12:34:08.506Z"
   },
   {
    "duration": 3,
    "start_time": "2025-06-24T12:34:08.615Z"
   },
   {
    "duration": 10,
    "start_time": "2025-06-24T12:34:08.619Z"
   },
   {
    "duration": 23,
    "start_time": "2025-06-24T12:34:08.630Z"
   },
   {
    "duration": 31,
    "start_time": "2025-06-24T12:34:08.654Z"
   },
   {
    "duration": 9437495,
    "start_time": "2025-06-24T12:34:08.687Z"
   },
   {
    "duration": 4,
    "start_time": "2025-06-24T15:11:26.275Z"
   },
   {
    "duration": 46,
    "start_time": "2025-06-24T15:11:26.281Z"
   },
   {
    "duration": 8,
    "start_time": "2025-06-24T15:11:26.329Z"
   },
   {
    "duration": 1097602,
    "start_time": "2025-06-24T15:11:26.339Z"
   },
   {
    "duration": 8,
    "start_time": "2025-06-24T15:29:43.943Z"
   },
   {
    "duration": 1827,
    "start_time": "2025-06-24T15:29:43.952Z"
   },
   {
    "duration": 8,
    "start_time": "2025-06-24T15:29:45.781Z"
   },
   {
    "duration": 69,
    "start_time": "2025-06-24T15:29:45.791Z"
   },
   {
    "duration": 349,
    "start_time": "2025-06-24T15:34:32.217Z"
   },
   {
    "duration": 65,
    "start_time": "2025-06-24T15:34:53.011Z"
   },
   {
    "duration": 211,
    "start_time": "2025-06-24T15:34:56.573Z"
   },
   {
    "duration": 24543,
    "start_time": "2025-06-24T15:35:04.760Z"
   },
   {
    "duration": 1887,
    "start_time": "2025-06-24T15:35:55.190Z"
   },
   {
    "duration": 768,
    "start_time": "2025-06-24T15:35:58.365Z"
   },
   {
    "duration": 66,
    "start_time": "2025-06-24T15:36:00.193Z"
   },
   {
    "duration": 5,
    "start_time": "2025-06-24T15:36:18.972Z"
   },
   {
    "duration": 8,
    "start_time": "2025-06-24T15:36:22.651Z"
   },
   {
    "duration": 12,
    "start_time": "2025-06-24T15:36:24.927Z"
   },
   {
    "duration": 3186,
    "start_time": "2025-06-24T15:36:27.467Z"
   },
   {
    "duration": 70,
    "start_time": "2025-06-24T15:36:34.628Z"
   },
   {
    "duration": 70,
    "start_time": "2025-06-24T15:36:36.525Z"
   },
   {
    "duration": 101,
    "start_time": "2025-06-24T15:36:49.865Z"
   },
   {
    "duration": 77,
    "start_time": "2025-06-24T15:36:51.242Z"
   },
   {
    "duration": 19,
    "start_time": "2025-06-24T15:37:00.838Z"
   },
   {
    "duration": 5,
    "start_time": "2025-06-24T15:37:09.194Z"
   },
   {
    "duration": 172,
    "start_time": "2025-06-24T18:40:48.904Z"
   },
   {
    "duration": 65,
    "start_time": "2025-06-24T18:43:41.219Z"
   },
   {
    "duration": 158,
    "start_time": "2025-06-24T18:45:07.091Z"
   },
   {
    "duration": 269,
    "start_time": "2025-06-24T18:45:17.285Z"
   },
   {
    "duration": 277,
    "start_time": "2025-06-24T18:45:44.592Z"
   },
   {
    "duration": 362,
    "start_time": "2025-06-24T18:45:53.219Z"
   },
   {
    "duration": 476,
    "start_time": "2025-06-24T18:45:56.947Z"
   },
   {
    "duration": 215,
    "start_time": "2025-06-24T18:46:10.278Z"
   },
   {
    "duration": 247,
    "start_time": "2025-06-24T18:46:17.410Z"
   },
   {
    "duration": 261,
    "start_time": "2025-06-24T18:47:34.873Z"
   },
   {
    "duration": 263,
    "start_time": "2025-06-24T18:48:41.368Z"
   },
   {
    "duration": 263,
    "start_time": "2025-06-24T18:48:47.554Z"
   },
   {
    "duration": 255,
    "start_time": "2025-06-24T18:49:07.552Z"
   },
   {
    "duration": 329,
    "start_time": "2025-06-24T18:49:11.853Z"
   },
   {
    "duration": 63,
    "start_time": "2025-06-24T18:50:10.626Z"
   },
   {
    "duration": 326,
    "start_time": "2025-06-24T18:50:25.375Z"
   },
   {
    "duration": 296,
    "start_time": "2025-06-24T18:51:23.537Z"
   },
   {
    "duration": 297,
    "start_time": "2025-06-24T18:51:30.891Z"
   },
   {
    "duration": 609,
    "start_time": "2025-06-24T18:51:58.582Z"
   },
   {
    "duration": 321,
    "start_time": "2025-06-24T18:52:07.078Z"
   },
   {
    "duration": 302,
    "start_time": "2025-06-24T18:53:18.275Z"
   },
   {
    "duration": 307,
    "start_time": "2025-06-24T18:53:31.449Z"
   },
   {
    "duration": 301,
    "start_time": "2025-06-24T18:53:38.995Z"
   },
   {
    "duration": 328,
    "start_time": "2025-06-24T18:53:59.303Z"
   },
   {
    "duration": 331,
    "start_time": "2025-06-24T18:54:44.272Z"
   },
   {
    "duration": 297,
    "start_time": "2025-06-24T18:55:22.797Z"
   },
   {
    "duration": 225,
    "start_time": "2025-06-24T18:55:55.023Z"
   },
   {
    "duration": 251,
    "start_time": "2025-06-24T18:56:44.931Z"
   },
   {
    "duration": 14,
    "start_time": "2025-06-24T18:58:07.153Z"
   },
   {
    "duration": 12,
    "start_time": "2025-06-24T18:58:52.069Z"
   },
   {
    "duration": 105,
    "start_time": "2025-06-24T19:00:11.284Z"
   },
   {
    "duration": 630,
    "start_time": "2025-06-24T19:00:14.522Z"
   },
   {
    "duration": 278,
    "start_time": "2025-06-24T19:00:23.759Z"
   },
   {
    "duration": 75,
    "start_time": "2025-06-24T19:00:44.404Z"
   },
   {
    "duration": 222,
    "start_time": "2025-06-24T19:00:48.622Z"
   },
   {
    "duration": 12,
    "start_time": "2025-06-24T19:01:06.320Z"
   },
   {
    "duration": 11,
    "start_time": "2025-06-24T19:01:33.515Z"
   },
   {
    "duration": 15,
    "start_time": "2025-06-24T19:01:38.562Z"
   },
   {
    "duration": 12,
    "start_time": "2025-06-24T19:01:43.589Z"
   },
   {
    "duration": 255,
    "start_time": "2025-06-24T19:02:05.930Z"
   },
   {
    "duration": 204,
    "start_time": "2025-06-24T19:02:09.489Z"
   },
   {
    "duration": 212,
    "start_time": "2025-06-24T19:02:20.675Z"
   },
   {
    "duration": 218,
    "start_time": "2025-06-24T19:03:20.738Z"
   },
   {
    "duration": 1826,
    "start_time": "2025-06-24T19:05:42.574Z"
   },
   {
    "duration": 564,
    "start_time": "2025-06-24T19:09:44.468Z"
   },
   {
    "duration": 259,
    "start_time": "2025-06-24T19:09:55.476Z"
   },
   {
    "duration": 273,
    "start_time": "2025-06-24T19:10:01.743Z"
   },
   {
    "duration": 261,
    "start_time": "2025-06-24T19:10:04.844Z"
   },
   {
    "duration": 264,
    "start_time": "2025-06-24T19:10:19.122Z"
   },
   {
    "duration": 871,
    "start_time": "2025-06-24T19:11:14.145Z"
   },
   {
    "duration": 239,
    "start_time": "2025-06-24T19:11:29.025Z"
   },
   {
    "duration": 249,
    "start_time": "2025-06-24T19:11:45.950Z"
   },
   {
    "duration": 224,
    "start_time": "2025-06-24T19:11:49.918Z"
   },
   {
    "duration": 13,
    "start_time": "2025-06-24T19:12:21.650Z"
   },
   {
    "duration": 217,
    "start_time": "2025-06-24T19:13:55.032Z"
   },
   {
    "duration": 527,
    "start_time": "2025-06-24T19:14:03.708Z"
   },
   {
    "duration": 221,
    "start_time": "2025-06-24T19:14:09.170Z"
   },
   {
    "duration": 245,
    "start_time": "2025-06-24T19:14:12.192Z"
   },
   {
    "duration": 239,
    "start_time": "2025-06-24T19:14:24.373Z"
   },
   {
    "duration": 243,
    "start_time": "2025-06-24T19:14:37.865Z"
   },
   {
    "duration": 274,
    "start_time": "2025-06-24T19:14:43.677Z"
   },
   {
    "duration": 257,
    "start_time": "2025-06-24T19:14:50.689Z"
   },
   {
    "duration": 252,
    "start_time": "2025-06-24T19:14:56.725Z"
   },
   {
    "duration": 223,
    "start_time": "2025-06-24T19:16:03.379Z"
   },
   {
    "duration": 217,
    "start_time": "2025-06-24T19:16:08.867Z"
   },
   {
    "duration": 208,
    "start_time": "2025-06-24T19:16:14.483Z"
   },
   {
    "duration": 212,
    "start_time": "2025-06-24T19:16:19.170Z"
   },
   {
    "duration": 202,
    "start_time": "2025-06-24T19:16:24.127Z"
   },
   {
    "duration": 206,
    "start_time": "2025-06-24T19:16:28.138Z"
   },
   {
    "duration": 237,
    "start_time": "2025-06-24T19:16:31.316Z"
   },
   {
    "duration": 241,
    "start_time": "2025-06-24T19:16:42.264Z"
   },
   {
    "duration": 233,
    "start_time": "2025-06-24T19:16:46.117Z"
   },
   {
    "duration": 236,
    "start_time": "2025-06-24T19:17:05.955Z"
   },
   {
    "duration": 292,
    "start_time": "2025-06-24T19:17:32.538Z"
   },
   {
    "duration": 628,
    "start_time": "2025-06-24T19:17:44.939Z"
   },
   {
    "duration": 271,
    "start_time": "2025-06-24T19:17:56.981Z"
   },
   {
    "duration": 266,
    "start_time": "2025-06-24T19:18:06.106Z"
   },
   {
    "duration": 258,
    "start_time": "2025-06-24T19:18:10.116Z"
   },
   {
    "duration": 269,
    "start_time": "2025-06-24T19:18:14.974Z"
   },
   {
    "duration": 266,
    "start_time": "2025-06-24T19:18:17.930Z"
   },
   {
    "duration": 272,
    "start_time": "2025-06-24T19:18:41.674Z"
   },
   {
    "duration": 262,
    "start_time": "2025-06-24T19:18:47.176Z"
   },
   {
    "duration": 275,
    "start_time": "2025-06-24T19:18:55.861Z"
   },
   {
    "duration": 260,
    "start_time": "2025-06-24T19:18:59.545Z"
   },
   {
    "duration": 273,
    "start_time": "2025-06-24T19:19:02.783Z"
   },
   {
    "duration": 256,
    "start_time": "2025-06-24T19:19:12.301Z"
   },
   {
    "duration": 269,
    "start_time": "2025-06-24T19:19:18.025Z"
   },
   {
    "duration": 606,
    "start_time": "2025-06-24T19:19:24.761Z"
   },
   {
    "duration": 269,
    "start_time": "2025-06-24T19:19:38.724Z"
   },
   {
    "duration": 278,
    "start_time": "2025-06-24T19:19:43.524Z"
   },
   {
    "duration": 12,
    "start_time": "2025-06-24T20:05:36.953Z"
   },
   {
    "duration": 21,
    "start_time": "2025-06-24T20:05:42.674Z"
   },
   {
    "duration": 11,
    "start_time": "2025-06-24T20:06:08.310Z"
   },
   {
    "duration": 16,
    "start_time": "2025-06-24T20:06:43.622Z"
   },
   {
    "duration": 13,
    "start_time": "2025-06-24T20:07:02.142Z"
   },
   {
    "duration": 288,
    "start_time": "2025-06-25T08:51:32.832Z"
   },
   {
    "duration": 274,
    "start_time": "2025-06-25T08:52:11.146Z"
   },
   {
    "duration": 247,
    "start_time": "2025-06-25T08:52:29.835Z"
   },
   {
    "duration": 291,
    "start_time": "2025-06-25T08:52:59.969Z"
   },
   {
    "duration": 251,
    "start_time": "2025-06-25T09:06:33.212Z"
   },
   {
    "duration": 239,
    "start_time": "2025-06-25T09:06:56.097Z"
   },
   {
    "duration": 279,
    "start_time": "2025-06-25T09:08:54.116Z"
   },
   {
    "duration": 323,
    "start_time": "2025-06-25T09:09:15.629Z"
   },
   {
    "duration": 236,
    "start_time": "2025-06-25T09:15:04.373Z"
   },
   {
    "duration": 14098,
    "start_time": "2025-06-25T09:29:11.816Z"
   },
   {
    "duration": 5782,
    "start_time": "2025-06-25T09:29:25.917Z"
   },
   {
    "duration": 2,
    "start_time": "2025-06-25T09:29:31.702Z"
   },
   {
    "duration": 1003,
    "start_time": "2025-06-25T09:29:31.706Z"
   },
   {
    "duration": 43,
    "start_time": "2025-06-25T09:29:32.710Z"
   },
   {
    "duration": 71,
    "start_time": "2025-06-25T09:29:32.754Z"
   },
   {
    "duration": 262,
    "start_time": "2025-06-25T09:29:32.826Z"
   },
   {
    "duration": 91,
    "start_time": "2025-06-25T09:29:33.090Z"
   },
   {
    "duration": 145,
    "start_time": "2025-06-25T09:29:33.185Z"
   },
   {
    "duration": 13,
    "start_time": "2025-06-25T09:29:33.334Z"
   },
   {
    "duration": 559,
    "start_time": "2025-06-25T09:29:33.349Z"
   },
   {
    "duration": 4,
    "start_time": "2025-06-25T09:29:33.909Z"
   },
   {
    "duration": 2839069,
    "start_time": "2025-06-25T09:29:33.915Z"
   },
   {
    "duration": 3,
    "start_time": "2025-06-25T10:16:52.992Z"
   },
   {
    "duration": 11,
    "start_time": "2025-06-25T10:16:52.996Z"
   },
   {
    "duration": 80,
    "start_time": "2025-06-25T10:16:53.008Z"
   },
   {
    "duration": 230,
    "start_time": "2025-06-25T10:16:53.090Z"
   },
   {
    "duration": 99,
    "start_time": "2025-06-25T10:16:53.321Z"
   },
   {
    "duration": 3,
    "start_time": "2025-06-25T10:16:53.422Z"
   },
   {
    "duration": 26452,
    "start_time": "2025-06-25T10:16:53.427Z"
   },
   {
    "duration": 1936,
    "start_time": "2025-06-25T10:17:19.881Z"
   },
   {
    "duration": 624,
    "start_time": "2025-06-25T10:17:21.819Z"
   },
   {
    "duration": 45,
    "start_time": "2025-06-25T10:17:22.445Z"
   },
   {
    "duration": 920,
    "start_time": "2025-06-25T10:17:22.492Z"
   },
   {
    "duration": 297,
    "start_time": "2025-06-25T10:17:23.414Z"
   },
   {
    "duration": 12,
    "start_time": "2025-06-25T10:17:23.714Z"
   },
   {
    "duration": 20,
    "start_time": "2025-06-25T10:17:23.728Z"
   },
   {
    "duration": 72,
    "start_time": "2025-06-25T10:17:23.752Z"
   },
   {
    "duration": 3427,
    "start_time": "2025-06-25T10:17:23.826Z"
   },
   {
    "duration": 131,
    "start_time": "2025-06-25T10:17:27.254Z"
   },
   {
    "duration": 591,
    "start_time": "2025-06-25T10:17:27.390Z"
   },
   {
    "duration": 21,
    "start_time": "2025-06-25T10:17:27.983Z"
   },
   {
    "duration": 105,
    "start_time": "2025-06-25T10:17:28.009Z"
   },
   {
    "duration": 284,
    "start_time": "2025-06-25T10:17:28.116Z"
   },
   {
    "duration": 16,
    "start_time": "2025-06-25T10:17:28.403Z"
   },
   {
    "duration": 3,
    "start_time": "2025-06-25T10:17:28.421Z"
   },
   {
    "duration": 6,
    "start_time": "2025-06-25T10:17:28.425Z"
   },
   {
    "duration": 116,
    "start_time": "2025-06-25T10:17:28.432Z"
   },
   {
    "duration": 3,
    "start_time": "2025-06-25T10:17:28.550Z"
   },
   {
    "duration": 38,
    "start_time": "2025-06-25T10:17:28.555Z"
   },
   {
    "duration": 16,
    "start_time": "2025-06-25T10:17:28.596Z"
   },
   {
    "duration": 7,
    "start_time": "2025-06-25T10:17:28.614Z"
   },
   {
    "duration": 9439573,
    "start_time": "2025-06-25T10:17:28.622Z"
   },
   {
    "duration": 4,
    "start_time": "2025-06-25T12:54:48.279Z"
   },
   {
    "duration": 7,
    "start_time": "2025-06-25T12:54:48.291Z"
   },
   {
    "duration": 19,
    "start_time": "2025-06-25T12:54:48.299Z"
   },
   {
    "duration": 1188410,
    "start_time": "2025-06-25T12:54:48.320Z"
   },
   {
    "duration": 11,
    "start_time": "2025-06-25T13:14:36.732Z"
   },
   {
    "duration": 1810,
    "start_time": "2025-06-25T13:14:36.747Z"
   },
   {
    "duration": 17,
    "start_time": "2025-06-25T13:14:38.559Z"
   },
   {
    "duration": 15,
    "start_time": "2025-06-25T13:14:38.578Z"
   },
   {
    "duration": 47,
    "start_time": "2025-06-25T17:22:46.752Z"
   },
   {
    "duration": 25243,
    "start_time": "2025-09-09T11:54:09.021Z"
   },
   {
    "duration": 6185,
    "start_time": "2025-09-09T11:54:34.267Z"
   },
   {
    "duration": 3,
    "start_time": "2025-09-09T11:54:40.453Z"
   },
   {
    "duration": 1093,
    "start_time": "2025-09-09T11:54:40.457Z"
   },
   {
    "duration": 40,
    "start_time": "2025-09-09T11:54:41.552Z"
   },
   {
    "duration": 53,
    "start_time": "2025-09-09T11:54:41.605Z"
   },
   {
    "duration": 379,
    "start_time": "2025-09-09T11:54:41.659Z"
   },
   {
    "duration": 84,
    "start_time": "2025-09-09T11:54:42.039Z"
   },
   {
    "duration": 157,
    "start_time": "2025-09-09T11:54:42.127Z"
   },
   {
    "duration": 26,
    "start_time": "2025-09-09T11:54:42.286Z"
   },
   {
    "duration": 588,
    "start_time": "2025-09-09T11:54:42.316Z"
   },
   {
    "duration": 6,
    "start_time": "2025-09-09T11:54:42.906Z"
   },
   {
    "duration": 2899205,
    "start_time": "2025-09-09T11:54:42.913Z"
   },
   {
    "duration": 3,
    "start_time": "2025-09-09T12:43:02.121Z"
   },
   {
    "duration": 37,
    "start_time": "2025-09-09T12:43:02.126Z"
   },
   {
    "duration": 50,
    "start_time": "2025-09-09T12:43:02.164Z"
   },
   {
    "duration": 222,
    "start_time": "2025-09-09T12:43:02.216Z"
   },
   {
    "duration": 17,
    "start_time": "2025-09-09T12:43:02.440Z"
   },
   {
    "duration": 102,
    "start_time": "2025-09-09T12:43:02.459Z"
   },
   {
    "duration": 26337,
    "start_time": "2025-09-09T12:43:02.563Z"
   },
   {
    "duration": 1872,
    "start_time": "2025-09-09T12:43:28.902Z"
   },
   {
    "duration": 589,
    "start_time": "2025-09-09T12:43:30.775Z"
   },
   {
    "duration": 16,
    "start_time": "2025-09-09T12:43:31.365Z"
   },
   {
    "duration": 969,
    "start_time": "2025-09-09T12:43:31.382Z"
   },
   {
    "duration": 301,
    "start_time": "2025-09-09T12:43:32.353Z"
   },
   {
    "duration": 12,
    "start_time": "2025-09-09T12:43:32.655Z"
   },
   {
    "duration": 8,
    "start_time": "2025-09-09T12:43:32.669Z"
   },
   {
    "duration": 40,
    "start_time": "2025-09-09T12:43:32.681Z"
   },
   {
    "duration": 2179,
    "start_time": "2025-09-09T12:43:32.727Z"
   },
   {
    "duration": 138,
    "start_time": "2025-09-09T12:43:34.917Z"
   },
   {
    "duration": 386,
    "start_time": "2025-09-09T12:43:35.056Z"
   },
   {
    "duration": 15,
    "start_time": "2025-09-09T12:43:35.444Z"
   },
   {
    "duration": 116,
    "start_time": "2025-09-09T12:43:35.460Z"
   },
   {
    "duration": 292,
    "start_time": "2025-09-09T12:43:35.578Z"
   },
   {
    "duration": 13,
    "start_time": "2025-09-09T12:43:35.872Z"
   },
   {
    "duration": 55,
    "start_time": "2025-09-09T12:43:35.904Z"
   },
   {
    "duration": 6,
    "start_time": "2025-09-09T12:43:35.961Z"
   },
   {
    "duration": 87,
    "start_time": "2025-09-09T12:43:35.969Z"
   },
   {
    "duration": 3,
    "start_time": "2025-09-09T12:43:36.058Z"
   },
   {
    "duration": 32,
    "start_time": "2025-09-09T12:43:36.063Z"
   },
   {
    "duration": 25,
    "start_time": "2025-09-09T12:43:36.097Z"
   },
   {
    "duration": 46,
    "start_time": "2025-09-09T12:43:36.126Z"
   },
   {
    "duration": 2925364,
    "start_time": "2025-09-09T12:43:36.174Z"
   },
   {
    "duration": 3,
    "start_time": "2025-09-09T13:32:21.540Z"
   },
   {
    "duration": 11,
    "start_time": "2025-09-09T13:32:21.545Z"
   },
   {
    "duration": 13,
    "start_time": "2025-09-09T13:32:21.558Z"
   },
   {
    "duration": 1235571,
    "start_time": "2025-09-09T13:32:21.573Z"
   },
   {
    "duration": 12,
    "start_time": "2025-09-09T13:52:57.145Z"
   },
   {
    "duration": 5528,
    "start_time": "2025-09-09T13:52:57.158Z"
   },
   {
    "duration": 20,
    "start_time": "2025-09-09T13:53:02.688Z"
   },
   {
    "duration": 36,
    "start_time": "2025-09-09T13:53:02.710Z"
   }
  ],
  "kernelspec": {
   "display_name": "Python 3 (ipykernel)",
   "language": "python",
   "name": "python3"
  },
  "language_info": {
   "codemirror_mode": {
    "name": "ipython",
    "version": 3
   },
   "file_extension": ".py",
   "mimetype": "text/x-python",
   "name": "python",
   "nbconvert_exporter": "python",
   "pygments_lexer": "ipython3",
   "version": "3.12.7"
  },
  "toc": {
   "base_numbering": 1,
   "nav_menu": {},
   "number_sections": true,
   "sideBar": true,
   "skip_h1_title": true,
   "title_cell": "Содержание",
   "title_sidebar": "Contents",
   "toc_cell": true,
   "toc_position": {
    "height": "calc(100% - 180px)",
    "left": "10px",
    "top": "150px",
    "width": "213px"
   },
   "toc_section_display": true,
   "toc_window_display": true
  }
 },
 "nbformat": 4,
 "nbformat_minor": 4
}
